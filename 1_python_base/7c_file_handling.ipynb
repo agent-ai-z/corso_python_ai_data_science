{
 "cells": [
  {
   "cell_type": "markdown",
   "metadata": {},
   "source": [
    "# Manipolazione dei file in Python\n",
    "Python offre diverse funzioni per leggere, scrivere e gestire file utilizzando la funzione `open()`."
   ]
  },
  {
   "cell_type": "code",
   "execution_count": null,
   "metadata": {},
   "outputs": [
    {
     "name": "stdout",
     "output_type": "stream",
     "text": [
      "File creato e scritto con successo.\n"
     ]
    }
   ],
   "source": [
    "import os\n",
    "\n",
    "if os.path.exists(\"example.txt\"):\n",
    "    os.remove(\"example.txt\")\n",
    "    print(\"File eliminato con successo.\")\n",
    "\n",
    "# Creazione e scrittura in un file\n",
    "with open(\"example.txt\", \"w\") as file:\n",
    "    file.write(\"Ciao, questo è un esempio di scrittura in un file.\\n\")\n",
    "    file.write(\"Python è potente!\\n\")\n",
    "\n",
    "print(\"File creato e scritto con successo.\")"
   ]
  },
  {
   "cell_type": "code",
   "execution_count": 2,
   "metadata": {},
   "outputs": [
    {
     "name": "stdout",
     "output_type": "stream",
     "text": [
      "Ciao, questo è un esempio di scrittura in un file.\n",
      "Python è potente!\n",
      "\n"
     ]
    }
   ],
   "source": [
    "# Lettura di un file\n",
    "with open(\"example.txt\", \"r\") as file:\n",
    "    content = file.read()\n",
    "    print(content)  # Stampa il contenuto del file"
   ]
  },
  {
   "cell_type": "code",
   "execution_count": 3,
   "metadata": {},
   "outputs": [
    {
     "name": "stdout",
     "output_type": "stream",
     "text": [
      "Ciao, questo è un esempio di scrittura in un file.\n",
      "Python è potente!\n"
     ]
    }
   ],
   "source": [
    "# Lettura riga per riga\n",
    "with open(\"example.txt\", \"r\") as file:\n",
    "    for line in file:\n",
    "        print(line.strip())  # Stampa ogni riga senza spazi extra"
   ]
  },
  {
   "cell_type": "code",
   "execution_count": 4,
   "metadata": {},
   "outputs": [
    {
     "name": "stdout",
     "output_type": "stream",
     "text": [
      "Nuova riga aggiunta con successo.\n"
     ]
    }
   ],
   "source": [
    "# Aggiungere dati a un file esistente\n",
    "with open(\"example.txt\", \"a\") as file:\n",
    "    file.write(\"Questa è una nuova riga aggiunta.\\n\")\n",
    "\n",
    "print(\"Nuova riga aggiunta con successo.\")"
   ]
  },
  {
   "cell_type": "code",
   "execution_count": 5,
   "metadata": {},
   "outputs": [
    {
     "name": "stdout",
     "output_type": "stream",
     "text": [
      "['Ciao, questo è un esempio di scrittura in un file.\\n', 'Python è potente!\\n', 'Questa è una nuova riga aggiunta.\\n']\n"
     ]
    }
   ],
   "source": [
    "# Lettura di un file riga per riga usando readlines()\n",
    "with open(\"example.txt\", \"r\") as file:\n",
    "    lines = file.readlines()\n",
    "    print(lines)  # Output: Lista contenente le righe del file"
   ]
  },
  {
   "cell_type": "code",
   "execution_count": 6,
   "metadata": {},
   "outputs": [
    {
     "name": "stdout",
     "output_type": "stream",
     "text": [
      "Ciao, questo è un esempio di scrittura in un file.\n",
      "Python è potente!\n",
      "Questa è una nuova riga aggiunta.\n",
      "\n"
     ]
    }
   ],
   "source": [
    "# Uso di 'with' per chiudere automaticamente il file\n",
    "with open(\"example.txt\", \"r\") as file:\n",
    "    print(file.read())"
   ]
  },
  {
   "cell_type": "code",
   "execution_count": 7,
   "metadata": {},
   "outputs": [
    {
     "name": "stdout",
     "output_type": "stream",
     "text": [
      "File binario scritto con successo.\n"
     ]
    }
   ],
   "source": [
    "# Scrittura di file in modalità binaria\n",
    "with open(\"binary_file.bin\", \"wb\") as file:\n",
    "    file.write(b\"Questi sono dati binari\")\n",
    "\n",
    "print(\"File binario scritto con successo.\")"
   ]
  },
  {
   "cell_type": "code",
   "execution_count": 8,
   "metadata": {},
   "outputs": [
    {
     "name": "stdout",
     "output_type": "stream",
     "text": [
      "b'Questi sono dati binari'\n"
     ]
    }
   ],
   "source": [
    "# Lettura di file in modalità binaria\n",
    "with open(\"binary_file.bin\", \"rb\") as file:\n",
    "    binary_content = file.read()\n",
    "    print(binary_content)  # Output in formato binario"
   ]
  },
  {
   "cell_type": "code",
   "execution_count": 9,
   "metadata": {},
   "outputs": [
    {
     "name": "stdout",
     "output_type": "stream",
     "text": [
      "Errore: Il file non esiste.\n"
     ]
    }
   ],
   "source": [
    "# Gestione delle eccezioni nella manipolazione dei file\n",
    "try:\n",
    "    with open(\"non_esistente.txt\", \"r\") as file:\n",
    "        print(file.read())\n",
    "except FileNotFoundError:\n",
    "    print(\"Errore: Il file non esiste.\")"
   ]
  },
  {
   "cell_type": "markdown",
   "metadata": {},
   "source": [
    "### Conclusione\n",
    "La gestione dei file in Python è semplice e potente. L'uso di `with open()` garantisce che i file vengano chiusi correttamente, evitando problemi di memoria."
   ]
  }
 ],
 "metadata": {
  "kernelspec": {
   "display_name": ".venv",
   "language": "python",
   "name": "python3"
  },
  "language_info": {
   "codemirror_mode": {
    "name": "ipython",
    "version": 3
   },
   "file_extension": ".py",
   "mimetype": "text/x-python",
   "name": "python",
   "nbconvert_exporter": "python",
   "pygments_lexer": "ipython3",
   "version": "3.12.9"
  }
 },
 "nbformat": 4,
 "nbformat_minor": 4
}
