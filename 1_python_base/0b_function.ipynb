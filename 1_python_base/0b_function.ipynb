{
 "cells": [
  {
   "cell_type": "markdown",
   "metadata": {},
   "source": [
    "# Definizione di una Funzione\n",
    "Per definire una funzione in Python, si utilizza la parola chiave def, seguita dal nome della funzione e da parentesi tonde che possono contenere parametri. Il corpo della funzione è indentato."
   ]
  },
  {
   "cell_type": "code",
   "execution_count": 3,
   "metadata": {},
   "outputs": [
    {
     "name": "stdout",
     "output_type": "stream",
     "text": [
      "Ciao, mondo!\n",
      "Ciao, Alice!\n",
      "8\n",
      "Ciao, mondo!\n",
      "Ciao, Bob!\n",
      "1\n",
      "Argomenti posizionali: (1, 2, 3)\n",
      "Argomenti con nome: {'nome': 'Alice', 'età': 25}\n",
      "12\n",
      "None\n"
     ]
    }
   ],
   "source": [
    "# Definizione di una funzione semplice\n",
    "def saluta():\n",
    "    print(\"Ciao, mondo!\")\n",
    "\n",
    "# Chiamata della funzione\n",
    "saluta()\n",
    "\n",
    "# Funzione con parametri\n",
    "def saluta_personalizzato(nome: str):\n",
    "    print(f\"Ciao, {nome}!\")\n",
    "\n",
    "# Chiamata della funzione con un parametro\n",
    "saluta_personalizzato(\"Alice\")\n",
    "\n",
    "# Funzione con valore di ritorno\n",
    "def somma(a: int, b: int) -> int:\n",
    "    return a + b\n",
    "\n",
    "# Chiamata della funzione e stampa del risultato\n",
    "risultato = somma(5, 3)\n",
    "print(risultato)\n",
    "\n",
    "# Funzione con parametro di default\n",
    "def saluta_con_default(nome : str =\"mondo\") -> None:\n",
    "    print(f\"Ciao, {nome}!\")\n",
    "\n",
    "# Chiamata della funzione senza argomento\n",
    "saluta_con_default()\n",
    "\n",
    "# Chiamata della funzione con un argomento\n",
    "saluta_con_default(\"Bob\")\n",
    "\n",
    "# Funzione con argomenti variabili\n",
    "def stampa_argomenti(*args, **kwargs):\n",
    "    a = args[0]\n",
    "    print(a)\n",
    "    nome = kwargs[\"nome\"]\n",
    "    \n",
    "    print(\"Argomenti posizionali:\", args)\n",
    "    print(\"Argomenti con nome:\", kwargs)\n",
    "\n",
    "# Chiamata della funzione con argomenti variabili\n",
    "stampa_argomenti(1, 2, 3, nome=\"Alice\", età=25)\n",
    "\n",
    "# Funzione lambda\n",
    "# Le funzioni lambda sono funzioni anonime definite con la parola chiave lambda\n",
    "# Sono utili per definire funzioni semplici in una sola riga di codice\n",
    "somma_lambda = lambda x, y, z: print(x + y + z)\n",
    "\n",
    "# Chiamata della funzione lambda e stampa del risultato\n",
    "print(somma_lambda(2, 3, 7))"
   ]
  },
  {
   "cell_type": "markdown",
   "metadata": {},
   "source": [
    "## Conclusione\n",
    "Le funzioni sono uno strumento potente in Python che permette di scrivere codice modulare e riutilizzabile."
   ]
  }
 ],
 "metadata": {
  "kernelspec": {
   "display_name": ".venv",
   "language": "python",
   "name": "python3"
  },
  "language_info": {
   "codemirror_mode": {
    "name": "ipython",
    "version": 3
   },
   "file_extension": ".py",
   "mimetype": "text/x-python",
   "name": "python",
   "nbconvert_exporter": "python",
   "pygments_lexer": "ipython3",
   "version": "3.12.9"
  }
 },
 "nbformat": 4,
 "nbformat_minor": 2
}
