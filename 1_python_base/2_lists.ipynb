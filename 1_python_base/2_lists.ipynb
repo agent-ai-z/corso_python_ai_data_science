{
 "cells": [
  {
   "cell_type": "markdown",
   "metadata": {},
   "source": [
    "# Liste in Python\n",
    "Le liste sono una delle strutture dati più utilizzate in Python. Sono mutabili, ordinate e possono contenere elementi di diversi tipi.\n",
    "La ricerca di un elemento in una lista Python richiede di scorrere tutti gli elementi fino a trovarlo, con un tempo di esecuzione proporzionale alla lunghezza della lista. Nel caso peggiore, ha una complessità di O(n) il che le rende una soluzione impraticabile per la memorizzazione di grandi quantità di dati soggetti a ricerche."
   ]
  },
  {
   "cell_type": "code",
   "execution_count": 13,
   "metadata": {},
   "outputs": [
    {
     "name": "stdout",
     "output_type": "stream",
     "text": [
      "[1, 2, 3, 4, 5]\n"
     ]
    }
   ],
   "source": [
    "# Creazione di una lista\n",
    "my_list = [1, 2, 3, 4, 5]\n",
    "print(my_list)  # Output: [1, 2, 3, 4, 5]"
   ]
  },
  {
   "cell_type": "code",
   "execution_count": 14,
   "metadata": {},
   "outputs": [
    {
     "name": "stdout",
     "output_type": "stream",
     "text": [
      "1\n",
      "5\n"
     ]
    }
   ],
   "source": [
    "# Accesso agli elementi della lista\n",
    "print(my_list[0])  # Output: 1 (primo elemento)\n",
    "print(my_list[-1])  # Output: 5 (ultimo elemento)"
   ]
  },
  {
   "cell_type": "code",
   "execution_count": 15,
   "metadata": {},
   "outputs": [
    {
     "name": "stdout",
     "output_type": "stream",
     "text": [
      "[2, 3, 4]\n"
     ]
    }
   ],
   "source": [
    "# Slicing delle liste\n",
    "print(my_list[1:4])  # Output: [2, 3, 4] (dal secondo al quarto elemento)"
   ]
  },
  {
   "cell_type": "code",
   "execution_count": 16,
   "metadata": {},
   "outputs": [
    {
     "name": "stdout",
     "output_type": "stream",
     "text": [
      "[1, 2, 3, 4, 5, 6]\n"
     ]
    }
   ],
   "source": [
    "# Aggiungere elementi a una lista\n",
    "my_list.append(6)  # Aggiunge un elemento alla fine\n",
    "print(my_list)  # Output: [1, 2, 3, 4, 5, 6]"
   ]
  },
  {
   "cell_type": "code",
   "execution_count": 17,
   "metadata": {},
   "outputs": [
    {
     "name": "stdout",
     "output_type": "stream",
     "text": [
      "[1, 2, 99, 3, 4, 5, 6]\n"
     ]
    }
   ],
   "source": [
    "# Inserire un elemento in una posizione specifica\n",
    "my_list.insert(2, 99)  # Inserisce 99 alla posizione 2\n",
    "print(my_list)  # Output: [1, 2, 99, 3, 4, 5, 6]"
   ]
  },
  {
   "cell_type": "code",
   "execution_count": 18,
   "metadata": {},
   "outputs": [
    {
     "name": "stdout",
     "output_type": "stream",
     "text": [
      "[1, 2, 3, 4, 5, 6]\n"
     ]
    }
   ],
   "source": [
    "# Rimuovere un elemento\n",
    "my_list.remove(99)  # Rimuove il valore 99\n",
    "print(my_list)  # Output: [1, 2, 3, 4, 5, 6]"
   ]
  },
  {
   "cell_type": "code",
   "execution_count": 19,
   "metadata": {},
   "outputs": [
    {
     "name": "stdout",
     "output_type": "stream",
     "text": [
      "[1, 1, 2, 3, 4, 5, 9]\n"
     ]
    }
   ],
   "source": [
    "# Ordinare una lista\n",
    "unsorted_list = [3, 1, 4, 1, 5, 9, 2]\n",
    "unsorted_list.sort()\n",
    "print(unsorted_list)  # Output: [1, 1, 2, 3, 4, 5, 9]"
   ]
  },
  {
   "cell_type": "code",
   "execution_count": 20,
   "metadata": {},
   "outputs": [
    {
     "name": "stdout",
     "output_type": "stream",
     "text": [
      "[6, 5, 4, 3, 2, 1]\n"
     ]
    }
   ],
   "source": [
    "# Invertire una lista\n",
    "my_list.reverse()\n",
    "print(my_list)  # Output: [6, 5, 4, 3, 2, 1]"
   ]
  },
  {
   "cell_type": "code",
   "execution_count": 21,
   "metadata": {},
   "outputs": [
    {
     "name": "stdout",
     "output_type": "stream",
     "text": [
      "True\n",
      "False\n"
     ]
    }
   ],
   "source": [
    "# Controllare se un elemento è presente in una lista\n",
    "print(3 in my_list)  # Output: True\n",
    "print(10 in my_list)  # Output: False"
   ]
  },
  {
   "cell_type": "code",
   "execution_count": 22,
   "metadata": {},
   "outputs": [
    {
     "name": "stdout",
     "output_type": "stream",
     "text": [
      "6\n"
     ]
    }
   ],
   "source": [
    "# Lunghezza della lista\n",
    "print(len(my_list))  # Output: 6"
   ]
  },
  {
   "cell_type": "code",
   "execution_count": 23,
   "metadata": {},
   "outputs": [
    {
     "name": "stdout",
     "output_type": "stream",
     "text": [
      "6\n",
      "5\n",
      "4\n",
      "3\n",
      "2\n",
      "1\n"
     ]
    }
   ],
   "source": [
    "# Iterare su una lista\n",
    "for item in my_list:\n",
    "    print(item)  # Stampa ogni elemento della lista"
   ]
  },
  {
   "cell_type": "markdown",
   "metadata": {},
   "source": [
    "### Conclusione\n",
    "Le liste in Python sono potenti e flessibili. Permettono molte operazioni che le rendono adatte a numerosi scenari di programmazione."
   ]
  }
 ],
 "metadata": {
  "kernelspec": {
   "display_name": "Python 3",
   "language": "python",
   "name": "python3"
  },
  "language_info": {
   "codemirror_mode": {
    "name": "ipython",
    "version": 3
   },
   "file_extension": ".py",
   "mimetype": "text/x-python",
   "name": "python",
   "nbconvert_exporter": "python",
   "pygments_lexer": "ipython3",
   "version": "3.12.9"
  }
 },
 "nbformat": 4,
 "nbformat_minor": 4
}
