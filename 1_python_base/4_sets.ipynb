{
 "cells": [
  {
   "cell_type": "markdown",
   "metadata": {},
   "source": [
    "# Set in Python\n",
    "I set sono una struttura dati in Python che memorizza elementi unici e non ordinati. Sono molto utili per eliminare duplicati e per operazioni di insiemistica.\n",
    "A differenza delle liste e delle tuple, i set non sono sequenze: ciò significa che gli elementi dei set non hanno un indice. \n",
    "I set possono memorizzare al massimo una copia di ogni elemento e hanno un tempo di ricerca sub-lineare, O(1). \n",
    "Significa che il tempo necessario per verificare se un elemento è presente nel set non dipende dalla dimensione del set stesso\n"
   ]
  },
  {
   "cell_type": "code",
   "execution_count": 1,
   "metadata": {},
   "outputs": [
    {
     "name": "stdout",
     "output_type": "stream",
     "text": [
      "True\n",
      "Tempo di ricerca in lista: 0.008702516555786133\n",
      "True\n",
      "Tempo di ricerca in set: 0.0\n"
     ]
    }
   ],
   "source": [
    "import time\n",
    "# Creiamo una lista e un set con gli stessi elementi\n",
    "# Lista con 1 milione di elementi\n",
    "lista = [i for i in range(1000000)]\n",
    "insieme = set(lista)  # Set con gli stessi elementi\n",
    "\n",
    "start = time.time()\n",
    "print(999999 in lista)  # Controlla se l'ultimo elemento è presente\n",
    "print(\"Tempo di ricerca in lista:\", time.time() - start)\n",
    "\n",
    "# Tempo di ricerca in un set (O(1))\n",
    "start = time.time()\n",
    "print(999999 in insieme)\n",
    "print(\"Tempo di ricerca in set:\", time.time() - start)\n"
   ]
  },
  {
   "cell_type": "code",
   "execution_count": 2,
   "metadata": {},
   "outputs": [
    {
     "name": "stdout",
     "output_type": "stream",
     "text": [
      "{1, 2, 3, 4, 5}\n",
      "True\n",
      "{1, 3, 4, 5, 6}\n",
      "{1, 2, 3, 4, 5}\n",
      "{3}\n",
      "{1, 2}\n"
     ]
    }
   ],
   "source": [
    "# Creazione di un set\n",
    "numeri = {1, 2, 3, 4, 5, 5, 3}  \n",
    "print(numeri)  \n",
    "# Output: {1, 2, 3, 4, 5} (duplicati rimossi)\n",
    "\n",
    "# Verifica di appartenenza (O(1))\n",
    "print(3 in numeri)  # Output: True\n",
    "\n",
    "# Aggiungere ed eliminare elementi\n",
    "numeri.add(6)  \n",
    "numeri.remove(2)  \n",
    "print(numeri)  # Output: {1, 3, 4, 5, 6}\n",
    "\n",
    "# Operazioni insiemistiche\n",
    "A = {1, 2, 3}\n",
    "B = {3, 4, 5}\n",
    "print(A | B)  # Unione → {1, 2, 3, 4, 5}\n",
    "print(A & B)  # Intersezione \n",
    "print(A - B)  # Differenza → {1, 2}\n"
   ]
  },
  {
   "cell_type": "code",
   "execution_count": 1,
   "metadata": {},
   "outputs": [
    {
     "name": "stdout",
     "output_type": "stream",
     "text": [
      "{1, 2, 3, 4, 5}\n"
     ]
    }
   ],
   "source": [
    "# Creazione di un set\n",
    "my_set = {1, 2, 3, 4, 5}\n",
    "print(my_set)  # Output: {1, 2, 3, 4, 5}"
   ]
  },
  {
   "cell_type": "code",
   "execution_count": 2,
   "metadata": {},
   "outputs": [
    {
     "name": "stdout",
     "output_type": "stream",
     "text": [
      "{1, 2, 3, 4, 5}\n"
     ]
    }
   ],
   "source": [
    "# Creazione di un set da una lista (per eliminare duplicati)\n",
    "my_list = [1, 2, 2, 3, 4, 4, 5]\n",
    "unique_set = set(my_list)\n",
    "print(unique_set)  # Output: {1, 2, 3, 4, 5}"
   ]
  },
  {
   "cell_type": "code",
   "execution_count": 3,
   "metadata": {},
   "outputs": [
    {
     "name": "stdout",
     "output_type": "stream",
     "text": [
      "{1, 2, 3, 4, 5, 6}\n"
     ]
    }
   ],
   "source": [
    "# Aggiungere elementi a un set\n",
    "my_set.add(6)\n",
    "print(my_set)  # Output: {1, 2, 3, 4, 5, 6}"
   ]
  },
  {
   "cell_type": "code",
   "execution_count": 4,
   "metadata": {},
   "outputs": [
    {
     "name": "stdout",
     "output_type": "stream",
     "text": [
      "{1, 2, 4, 5, 6}\n"
     ]
    }
   ],
   "source": [
    "# Rimuovere un elemento da un set\n",
    "my_set.remove(3)\n",
    "print(my_set)  # Output: {1, 2, 4, 5, 6}"
   ]
  },
  {
   "cell_type": "code",
   "execution_count": 5,
   "metadata": {},
   "outputs": [
    {
     "name": "stdout",
     "output_type": "stream",
     "text": [
      "{1, 2, 4, 5, 6}\n"
     ]
    }
   ],
   "source": [
    "# Rimuovere un elemento con discard() (non genera errore se l'elemento non esiste)\n",
    "my_set.discard(10)\n",
    "print(my_set)  # Output: {1, 2, 4, 5, 6}"
   ]
  },
  {
   "cell_type": "code",
   "execution_count": 6,
   "metadata": {},
   "outputs": [
    {
     "name": "stdout",
     "output_type": "stream",
     "text": [
      "{1, 2, 3, 4, 5, 6}\n",
      "{3, 4}\n",
      "{1, 2}\n",
      "{1, 2, 5, 6}\n"
     ]
    }
   ],
   "source": [
    "# Operazioni di insiemistica\n",
    "set_a = {1, 2, 3, 4}\n",
    "set_b = {3, 4, 5, 6}\n",
    "\n",
    "# Unione di due set\n",
    "print(set_a | set_b)  # Output: {1, 2, 3, 4, 5, 6}\n",
    "\n",
    "# Intersezione di due set\n",
    "print(set_a & set_b)  # Output: {3, 4}\n",
    "\n",
    "# Differenza tra due set\n",
    "print(set_a - set_b)  # Output: {1, 2}\n",
    "\n",
    "# Differenza simmetrica (elementi unici in entrambi i set)\n",
    "print(set_a ^ set_b)  # Output: {1, 2, 5, 6}"
   ]
  },
  {
   "cell_type": "code",
   "execution_count": 7,
   "metadata": {},
   "outputs": [
    {
     "name": "stdout",
     "output_type": "stream",
     "text": [
      "True\n"
     ]
    }
   ],
   "source": [
    "# Verificare se un set è un sottoinsieme di un altro\n",
    "subset = {1, 2}\n",
    "print(subset.issubset(set_a))  # Output: True"
   ]
  },
  {
   "cell_type": "code",
   "execution_count": 3,
   "metadata": {},
   "outputs": [
    {
     "ename": "NameError",
     "evalue": "name 'set_a' is not defined",
     "output_type": "error",
     "traceback": [
      "\u001b[1;31m---------------------------------------------------------------------------\u001b[0m",
      "\u001b[1;31mNameError\u001b[0m                                 Traceback (most recent call last)",
      "Cell \u001b[1;32mIn[3], line 2\u001b[0m\n\u001b[0;32m      1\u001b[0m \u001b[38;5;66;03m# Verificare se un set è un sovrainsieme di un altro\u001b[39;00m\n\u001b[1;32m----> 2\u001b[0m \u001b[38;5;28mprint\u001b[39m(\u001b[43mset_a\u001b[49m\u001b[38;5;241m.\u001b[39missuperset(subset))  \u001b[38;5;66;03m# Output: True\u001b[39;00m\n",
      "\u001b[1;31mNameError\u001b[0m: name 'set_a' is not defined"
     ]
    }
   ],
   "source": [
    "# Verificare se un set è un sovrainsieme di un altro\n",
    "print(set_a.issuperset(subset))  # Output: True"
   ]
  },
  {
   "cell_type": "code",
   "execution_count": 9,
   "metadata": {},
   "outputs": [
    {
     "name": "stdout",
     "output_type": "stream",
     "text": [
      "False\n"
     ]
    }
   ],
   "source": [
    "# Verificare se due set sono disgiunti (non hanno elementi in comune)\n",
    "print(set_a.isdisjoint(set_b))  # Output: False (hanno elementi in comune)"
   ]
  },
  {
   "cell_type": "code",
   "execution_count": 10,
   "metadata": {},
   "outputs": [
    {
     "name": "stdout",
     "output_type": "stream",
     "text": [
      "[1, 2, 4, 5, 6]\n"
     ]
    }
   ],
   "source": [
    "# Convertire un set in una lista\n",
    "list_from_set = list(my_set)\n",
    "print(list_from_set)  # Output: [1, 2, 4, 5, 6] (ordine non garantito)"
   ]
  }
 ],
 "metadata": {
  "kernelspec": {
   "display_name": ".venv",
   "language": "python",
   "name": "python3"
  },
  "language_info": {
   "codemirror_mode": {
    "name": "ipython",
    "version": 3
   },
   "file_extension": ".py",
   "mimetype": "text/x-python",
   "name": "python",
   "nbconvert_exporter": "python",
   "pygments_lexer": "ipython3",
   "version": "3.12.9"
  }
 },
 "nbformat": 4,
 "nbformat_minor": 4
}
