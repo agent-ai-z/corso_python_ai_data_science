{
 "cells": [
  {
   "cell_type": "markdown",
   "id": "5b7b96ec",
   "metadata": {},
   "source": [
    "# **Classi ed Ereditarietà in Python**"
   ]
  },
  {
   "cell_type": "markdown",
   "id": "71d831e0",
   "metadata": {},
   "source": [
    "## **Definizione di una Classe**\n",
    "Una classe in Python si definisce con la parola chiave `class`. Un'istanza della classe è un oggetto creato da essa."
   ]
  },
  {
   "cell_type": "code",
   "execution_count": null,
   "id": "a26bba9f",
   "metadata": {},
   "outputs": [],
   "source": [
    "class Persona:\n",
    "    def __init__(self, nome, età):\n",
    "        self.nome = nome\n",
    "        self.età = età\n",
    "\n",
    "    def saluta(self):\n",
    "        return f\"Ciao, mi chiamo {self.nome} e ho {self.età} anni.\"\n",
    "\n",
    "# Creazione di un oggetto\n",
    "persona1 = Persona(\"Alice\", 30)\n",
    "print(persona1.saluta())"
   ]
  },
  {
   "cell_type": "markdown",
   "id": "9c61c0cf",
   "metadata": {},
   "source": [
    "## **Ereditarietà tra Classi**\n",
    "L'ereditarietà consente di creare una nuova classe che eredita attributi e metodi da un'altra classe (classe genitore o base)."
   ]
  },
  {
   "cell_type": "code",
   "execution_count": null,
   "id": "f21b7937",
   "metadata": {},
   "outputs": [],
   "source": [
    "# Classe base (genitore)\n",
    "class Animale:\n",
    "    def __init__(self, nome):\n",
    "        self.nome = nome\n",
    "\n",
    "    def fai_suono(self):\n",
    "        return \"Questo animale fa un suono generico.\"\n",
    "\n",
    "# Classe derivata (figlia)\n",
    "class Cane(Animale):\n",
    "    def __init__(self, nome, razza):\n",
    "        super().__init__(nome)  # Chiamata al costruttore della classe base\n",
    "        self.razza = razza\n",
    "\n",
    "    def fai_suono(self):  # Override del metodo\n",
    "        return \"Bau Bau!\"\n",
    "\n",
    "# Creazione degli oggetti\n",
    "animale1 = Animale(\"Generico\")\n",
    "cane1 = Cane(\"Fido\", \"Labrador\")\n",
    "\n",
    "print(animale1.fai_suono())  # Output: Questo animale fa un suono generico.\n",
    "print(cane1.fai_suono())     # Output: Bau Bau!\n",
    "print(cane1.nome, cane1.razza)  # Output: Fido Labrador"
   ]
  },
  {
   "cell_type": "markdown",
   "id": "9eb0359f",
   "metadata": {},
   "source": [
    "## **Ereditarietà Multipla**\n",
    "Python supporta l'ereditarietà multipla, ovvero una classe può ereditare da più classi."
   ]
  },
  {
   "cell_type": "code",
   "execution_count": null,
   "id": "2f9773b6",
   "metadata": {},
   "outputs": [],
   "source": [
    "class Volante:\n",
    "    def vola(self):\n",
    "        return \"Sto volando!\"\n",
    "\n",
    "class Nuotatore:\n",
    "    def nuota(self):\n",
    "        return \"Sto nuotando!\"\n",
    "\n",
    "# La classe Anatra eredita da entrambe le classi\n",
    "class Anatra(Volante, Nuotatore):\n",
    "    def fa_suono(self):\n",
    "        return \"Quack Quack!\"\n",
    "\n",
    "anatra = Anatra()\n",
    "print(anatra.vola())   # Output: Sto volando!\n",
    "print(anatra.nuota())  # Output: Sto nuotando!\n",
    "print(anatra.fa_suono()) # Output: Quack Quack!"
   ]
  },
  {
   "cell_type": "markdown",
   "id": "c482446e",
   "metadata": {},
   "source": [
    "## **Classe Astratta**\n",
    "Se vogliamo che una classe serva solo come modello e non venga istanziata, possiamo usare una **classe astratta** con il modulo `abc`."
   ]
  },
  {
   "cell_type": "code",
   "execution_count": null,
   "id": "2a1d7b0e",
   "metadata": {},
   "outputs": [],
   "source": [
    "from abc import ABC, abstractmethod\n",
    "\n",
    "class Veicolo(ABC):  # Classe astratta\n",
    "    @abstractmethod\n",
    "    def muoviti(self):\n",
    "        pass  # Metodo da implementare nelle sottoclassi\n",
    "\n",
    "class Auto(Veicolo):\n",
    "    def muoviti(self):\n",
    "        return \"L'auto si muove su strada.\"\n",
    "\n",
    "class Barca(Veicolo):\n",
    "    def muoviti(self):\n",
    "        return \"La barca naviga sull'acqua.\"\n",
    "\n",
    "auto = Auto()\n",
    "barca = Barca()\n",
    "\n",
    "print(auto.muoviti())  # Output: L'auto si muove su strada.\n",
    "print(barca.muoviti())  # Output: La barca naviga sull'acqua."
   ]
  },
  {
   "cell_type": "markdown",
   "id": "222ea645",
   "metadata": {},
   "source": [
    "## **Riassunto**\n",
    "- **Classe base:** definisce attributi e metodi comuni.\n",
    "- **Ereditarietà:** una classe può ereditare da un'altra per riutilizzare il codice.\n",
    "- **Ereditarietà multipla:** una classe può ereditare da più classi.\n",
    "- **Classe astratta:** serve come modello e non può essere istanziata direttamente."
   ]
  }
 ],
 "metadata": {},
 "nbformat": 4,
 "nbformat_minor": 5
}