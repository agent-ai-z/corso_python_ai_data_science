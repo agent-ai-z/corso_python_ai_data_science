{
    "cells": [
        {
            "cell_type": "markdown",
            "metadata": {},
            "source": [
                "# Gestione di file JSON con Python\n",
                "Questo notebook fornisce una guida dettagliata su come gestire i file JSON con Python utilizzando le librerie standard."
            ]
        },
        {
            "cell_type": "code",
            "execution_count": 1,
            "metadata": {},
            "outputs": [],
            "source": [
                "# Importazione della libreria necessaria\n",
                "import json"
            ]
        },
        {
            "cell_type": "markdown",
            "metadata": {},
            "source": [
                "## 1. Creazione e scrittura di un file JSON"
            ]
        },
        {
            "cell_type": "code",
            "execution_count": 2,
            "metadata": {},
            "outputs": [],
            "source": [
                "# Creazione di un dizionario Python\n",
                "dati = {\n",
                "    \"nome\": \"Alice\",\n",
                "    \"età\": 25,\n",
                "    \"città\": \"Roma\",\n",
                "    \"hobby\": [\"lettura\", \"viaggi\", \"pittura\"]\n",
                "}\n",
                "\n",
                "# Scrittura del dizionario in un file JSON\n",
                "with open('dati.json', 'w', encoding='utf-8') as file:\n",
                "    json.dump(dati, file, indent=4, ensure_ascii=False)"
            ]
        },
        {
            "cell_type": "markdown",
            "metadata": {},
            "source": [
                "## 2. Lettura di un file JSON"
            ]
        },
        {
            "cell_type": "code",
            "execution_count": 3,
            "metadata": {},
            "outputs": [
                {
                    "name": "stdout",
                    "output_type": "stream",
                    "text": [
                        "{'nome': 'Alice', 'età': 25, 'città': 'Roma', 'hobby': ['lettura', 'viaggi', 'pittura']}\n"
                    ]
                }
            ],
            "source": [
                "# Lettura del file JSON\n",
                "with open('dati.json', 'r', encoding='utf-8') as file:\n",
                "    dati_letti = json.load(file)\n",
                "    print(dati_letti)"
            ]
        },
        {
            "cell_type": "markdown",
            "metadata": {},
            "source": [
                "## 3. Conversione tra JSON e stringa Python"
            ]
        },
        {
            "cell_type": "code",
            "execution_count": 4,
            "metadata": {},
            "outputs": [
                {
                    "name": "stdout",
                    "output_type": "stream",
                    "text": [
                        "{\n",
                        "    \"nome\": \"Alice\",\n",
                        "    \"età\": 25,\n",
                        "    \"città\": \"Roma\",\n",
                        "    \"hobby\": [\n",
                        "        \"lettura\",\n",
                        "        \"viaggi\",\n",
                        "        \"pittura\"\n",
                        "    ]\n",
                        "}\n",
                        "{'nome': 'Alice', 'età': 25, 'città': 'Roma', 'hobby': ['lettura', 'viaggi', 'pittura']}\n"
                    ]
                }
            ],
            "source": [
                "# Conversione da dizionario Python a stringa JSON\n",
                "json_string = json.dumps(dati, indent=4, ensure_ascii=False)\n",
                "print(json_string)\n",
                "\n",
                "# Conversione da stringa JSON a dizionario Python\n",
                "dati_da_stringa = json.loads(json_string)\n",
                "print(dati_da_stringa)"
            ]
        },
        {
            "cell_type": "markdown",
            "metadata": {},
            "source": [
                "## 4. Modifica di un file JSON"
            ]
        },
        {
            "cell_type": "code",
            "execution_count": 5,
            "metadata": {},
            "outputs": [],
            "source": [
                "# Modifica dei dati e riscrittura nel file JSON\n",
                "dati_letti['età'] = 26\n",
                "dati_letti['hobby'].append(\"cucina\")\n",
                "\n",
                "with open('dati_modificati.json', 'w', encoding='utf-8') as file:\n",
                "    json.dump(dati_letti, file, indent=4, ensure_ascii=False)"
            ]
        },
        {
            "cell_type": "markdown",
            "metadata": {},
            "source": [
                "## 5. Lettura selettiva di dati da un JSON"
            ]
        },
        {
            "cell_type": "code",
            "execution_count": 6,
            "metadata": {},
            "outputs": [
                {
                    "name": "stdout",
                    "output_type": "stream",
                    "text": [
                        "Nome: Alice\n"
                    ]
                }
            ],
            "source": [
                "# Estrazione di un valore specifico\n",
                "nome = dati_letti.get(\"nome\", \"Nessun nome trovato\")\n",
                "print(f\"Nome: {nome}\")"
            ]
        },
        {
            "cell_type": "markdown",
            "metadata": {},
            "source": [
                "# Conclusione\n",
                "In questo notebook abbiamo esplorato diversi modi per leggere, scrivere, modificare e manipolare file JSON con Python."
            ]
        }
    ],
    "metadata": {
        "kernelspec": {
            "display_name": ".venv",
            "language": "python",
            "name": "python3"
        },
        "language_info": {
            "codemirror_mode": {
                "name": "ipython",
                "version": 3
            },
            "file_extension": ".py",
            "mimetype": "text/x-python",
            "name": "python",
            "nbconvert_exporter": "python",
            "pygments_lexer": "ipython3",
            "version": "3.12.9"
        }
    },
    "nbformat": 4,
    "nbformat_minor": 4
}
