{
 "cells": [
  {
   "cell_type": "markdown",
   "metadata": {},
   "source": [
    "# Analizzare le immagini\n",
    "Diversi modelli di OpenAI hanno capacità visive, il che significa che i modelli possono prendere immagini come input e rispondere a domande su di esse. Storicamente, i modelli linguistici erano limitati a una singola modalità di input: il testo."
   ]
  },
  {
   "cell_type": "code",
   "execution_count": null,
   "metadata": {},
   "outputs": [],
   "source": [
    "import os\n",
    "from openai import OpenAI\n",
    "from dotenv import load_dotenv\n",
    "\n",
    "load_dotenv()\n",
    "\n",
    "client = OpenAI(api_key=os.getenv('OPENAI_API_KEY')) # Imposta la chiave come variabile d'ambiente per sicurezza\n",
    "\n",
    "OPENAI_MODEL = \"gpt-4o-mini\""
   ]
  },
  {
   "cell_type": "code",
   "execution_count": null,
   "metadata": {},
   "outputs": [
    {
     "name": "stdout",
     "output_type": "stream",
     "text": [
      "L'immagine ritrae un paesaggio naturale, con un sentiero in legno che serpeggia attraverso un'area di erba alta e vegetazione verde. Il cielo è azzurro con alcune nuvole sparse, creando un'atmosfera serena e tranquilla.\n"
     ]
    }
   ],
   "source": [
    "completion = client.chat.completions.create(\n",
    "    model=OPENAI_MODEL,\n",
    "    messages=[\n",
    "        {\n",
    "            \"role\": \"user\",\n",
    "            \"content\": [\n",
    "                {\n",
    "                    \"type\": \"text\", \n",
    "                    \"text\": \"Che tipo di immagine?\"\n",
    "                },\n",
    "                {\n",
    "                    \"type\": \"image_url\",\n",
    "                    \"image_url\": {\n",
    "                        \"url\": \"https://upload.wikimedia.org/wikipedia/commons/thumb/d/dd/Gfp-wisconsin-madison-the-nature-boardwalk.jpg/2560px-Gfp-wisconsin-madison-the-nature-boardwalk.jpg\",\n",
    "                    }\n",
    "                },\n",
    "            ],\n",
    "        }\n",
    "    ],\n",
    "    max_tokens=300\n",
    ")\n",
    "\n",
    "print(completion.choices[0].message.content)"
   ]
  },
  {
   "cell_type": "markdown",
   "metadata": {},
   "source": [
    "**Approfondimento**: [Processing and narrating a video with GPT's visual capabilities and the TTS API](https://cookbook.openai.com/examples/gpt_with_vision_for_video_understanding)"
   ]
  },
  {
   "cell_type": "markdown",
   "metadata": {},
   "source": [
    "### Upload"
   ]
  },
  {
   "cell_type": "code",
   "execution_count": null,
   "metadata": {},
   "outputs": [
    {
     "name": "stdout",
     "output_type": "stream",
     "text": [
      "Non posso identificare persone nelle immagini. Posso dirti che sembra un'immagine di un calciatore durante una partita. Se hai domande su calcio o sport in generale, chiedi pure!\n"
     ]
    }
   ],
   "source": [
    "import base64\n",
    "\n",
    "# Path to the image\n",
    "# image_path = \"./francesco_totti.jpg\"\n",
    "image_path = \"./nave.jpg\"\n",
    "\n",
    "# Function to encode the image\n",
    "def encode_image(image_path):\n",
    "    with open(image_path, \"rb\") as image_file:\n",
    "        return base64.b64encode(image_file.read()).decode(\"utf-8\")\n",
    "\n",
    "# Getting the Base64 string\n",
    "base64_image = encode_image(image_path)\n",
    "\n",
    "response = client.chat.completions.create(\n",
    "    model=OPENAI_MODEL,\n",
    "    messages=[\n",
    "        {\n",
    "            \"role\": \"user\",\n",
    "            \"content\": [\n",
    "                {\n",
    "                    \"type\": \"text\",\n",
    "                    \"text\": \"Cos'è questa immagine?\",\n",
    "                },\n",
    "                {\n",
    "                    \"type\": \"image_url\",\n",
    "                    \"image_url\": {\n",
    "                        \"url\": f\"data:image/jpeg;base64,{base64_image}\"\n",
    "                    },\n",
    "                },\n",
    "            ],\n",
    "        }\n",
    "    ],\n",
    ")\n",
    "\n",
    "print(response.choices[0].message.content)"
   ]
  },
  {
   "cell_type": "markdown",
   "metadata": {},
   "source": [
    "### Immagini multiple"
   ]
  },
  {
   "cell_type": "code",
   "execution_count": null,
   "metadata": {},
   "outputs": [
    {
     "name": "stdout",
     "output_type": "stream",
     "text": [
      "Choice(finish_reason='stop', index=0, logprobs=None, message=ChatCompletionMessage(content=\"Le immagini che hai condiviso sono identiche, entrambe mostrano un paesaggio naturale con un sentiero in legno che attraversa un campo verde sotto un cielo azzurro con nuvole. Non ci sono differenze visibili tra di loro. Se desideri un'analisi di un altro tipo, fammelo sapere!\", refusal=None, role='assistant', audio=None, function_call=None, tool_calls=None))\n"
     ]
    }
   ],
   "source": [
    "# Esempio con due immagini\n",
    "response = client.chat.completions.create(\n",
    "    model=OPENAI_MODEL,\n",
    "    messages=[\n",
    "        {\n",
    "            \"role\": \"user\",\n",
    "            \"content\": [\n",
    "                {\n",
    "                    \"type\": \"text\",\n",
    "                    \"text\": \"Cosa sono queste immagini? Ci sono differenze tra di loro?\",\n",
    "                },\n",
    "                {\n",
    "                    \"type\": \"image_url\",\n",
    "                    \"image_url\": {\n",
    "                        \"url\": \"https://upload.wikimedia.org/wikipedia/commons/thumb/d/dd/Gfp-wisconsin-madison-the-nature-boardwalk.jpg/2560px-Gfp-wisconsin-madison-the-nature-boardwalk.jpg\",\n",
    "                    },\n",
    "                },\n",
    "                {\n",
    "                    \"type\": \"image_url\",\n",
    "                    \"image_url\": {\n",
    "                        \"url\": \"https://upload.wikimedia.org/wikipedia/commons/thumb/d/dd/Gfp-wisconsin-madison-the-nature-boardwalk.jpg/2560px-Gfp-wisconsin-madison-the-nature-boardwalk.jpg\",\n",
    "                    },\n",
    "                },\n",
    "            ],\n",
    "        }\n",
    "    ],\n",
    "    max_tokens=300,\n",
    ")\n",
    "print(response.choices[0].message.content)"
   ]
  },
  {
   "cell_type": "code",
   "execution_count": null,
   "metadata": {},
   "outputs": [
    {
     "name": "stdout",
     "output_type": "stream",
     "text": [
      "Le immagini mostrano entrambe una vista dal ponte di una barca a vela, ma presentano atmosfere e condizioni meteorologiche molto diverse. \n",
      "\n",
      "1. **Prima immagine**: Si vede un tramonto sereno, con colori caldi e un cielo parzialmente nuvoloso. L'atmosfera è tranquilla e suggestiva, suggerendo una navigazione in acque calme.\n",
      "\n",
      "2. **Seconda immagine**: Mostra un cielo scuro e minaccioso, probabilmente un temporale in arrivo. Le onde sono agitate, creando un contrasto con la tranquillità della prima immagine.\n",
      "\n",
      "In sintesi, le differenze principali tra le due immagini risiedono nelle condizioni atmosferiche e nell'atmosfera generale: una è serena e calda, mentre l'altra è tempestosa e inquietante.\n"
     ]
    }
   ],
   "source": [
    "import base64\n",
    "\n",
    "def encode_image(image_path):\n",
    "    with open(image_path, \"rb\") as image_file:\n",
    "        return base64.b64encode(image_file.read()).decode(\"utf-8\")\n",
    "\n",
    "# Getting the Base64 string\n",
    "base64_image_1 = encode_image(\"./nave_mare_calmo.jpg\")\n",
    "base64_image_2 = encode_image(\"./nave_mare_nuvole.jpg\")\n",
    "\n",
    "# Esempio con due immagini\n",
    "response = client.chat.completions.create(\n",
    "    model=OPENAI_MODEL,\n",
    "    messages=[\n",
    "        {\n",
    "            \"role\": \"user\",\n",
    "            \"content\": [\n",
    "                {\n",
    "                    \"type\": \"text\",\n",
    "                    \"text\": \"Cosa sono queste immagini? Ci sono differenze tra di loro?\",\n",
    "                },\n",
    "                {\n",
    "                    \"type\": \"image_url\",\n",
    "                    \"image_url\": {\"url\": f\"data:image/jpeg;base64,{base64_image_1}\"},\n",
    "                },\n",
    "                {\n",
    "                    \"type\": \"image_url\",\n",
    "                    \"image_url\": {\"url\": f\"data:image/jpeg;base64,{base64_image_2}\"},\n",
    "                },\n",
    "            ],\n",
    "        }\n",
    "    ],\n",
    "    max_tokens=300,\n",
    ")\n",
    "print(response.choices[0].message.content)"
   ]
  },
  {
   "cell_type": "code",
   "execution_count": null,
   "metadata": {},
   "outputs": [],
   "source": [
    "# dettagli dell'immagine\n",
    "\n",
    "response = client.chat.completions.create(\n",
    "    model=OPENAI_MODEL,\n",
    "    messages=[\n",
    "        {\n",
    "            \"role\": \"user\",\n",
    "            \"content\": [\n",
    "                {\"type\": \"text\", \"text\": \"What's in this image?\"},\n",
    "                {\n",
    "                    \"type\": \"image_url\",\n",
    "                    \"image_url\": {\n",
    "                        \"url\": \"https://upload.wikimedia.org/wikipedia/commons/thumb/d/dd/Gfp-wisconsin-madison-the-nature-boardwalk.jpg/2560px-Gfp-wisconsin-madison-the-nature-boardwalk.jpg\",\n",
    "                        \"detail\": \"high\",\n",
    "                    },\n",
    "                },\n",
    "            ],\n",
    "        }\n",
    "    ],\n",
    "    max_tokens=300,\n",
    ")\n",
    "\n",
    "print(response.choices[0].message.content)"
   ]
  },
  {
   "cell_type": "markdown",
   "metadata": {},
   "source": [
    "### Comprensione delle Immagini a Bassa o Alta Fedeltà\n",
    "Il parametro detail permette di controllare il livello di dettaglio con cui il modello analizza un'immagine e genera una sua interpretazione testuale.\n",
    "Il parametro ha tre opzioni:\n",
    "\n",
    "- low (bassa fedeltà)\n",
    "- high (alta fedeltà)\n",
    "- auto (automatica) \n",
    "\n",
    "#### Modalità predefinita (auto)\n",
    "Per impostazione predefinita, il modello sceglie automaticamente tra low e high, in base alla dimensione dell'immagine in input.\n",
    "\n",
    "#### Modalità a Bassa Fedeltà (low)\n",
    "Il modello elabora l'immagine in bassa risoluzione (512px × 512px).\n",
    "Utilizza 85 token per rappresentare l'immagine.\n",
    "\n",
    "**Vantaggi**:\n",
    "- Risposte più veloci 🚀\n",
    "- Minore consumo di token 💰\n",
    "- Utile per casi d’uso che non richiedono alta precisione\n",
    "\n",
    "#### Modalità ad Alta Fedeltà (high)\n",
    "Il modello vede prima l'immagine in bassa risoluzione (85 token).\n",
    "Poi analizza dettagli specifici creando ritagli da 512px × 512px, usando 170 token per ogni ritaglio.\n",
    "\n",
    "**Vantaggi**:\n",
    "- Maggiore accuratezza visiva 🎨\n",
    "- Maggiore precisione nei dettagli 🔍\n",
    "- Adatto per immagini complesse con molte informazioni"
   ]
  },
  {
   "cell_type": "code",
   "execution_count": 4,
   "metadata": {},
   "outputs": [
    {
     "name": "stdout",
     "output_type": "stream",
     "text": [
      "L'immagine rappresenta un paesaggio naturale, caratterizzato da un sentiero di legno che si snoda attraverso un campo verdeggiante. In lontananza, si possono vedere alberi e una strada. Il cielo è sereno, con nuvole sparse, creando un'atmosfera tranquilla e aperta. Questo tipo di paesaggio è spesso associato a parchi naturali o riserve ambientali.\n"
     ]
    }
   ],
   "source": [
    "response = client.chat.completions.create(\n",
    "    model=OPENAI_MODEL,\n",
    "    messages=[\n",
    "        {\n",
    "            \"role\": \"user\",\n",
    "            \"content\": [\n",
    "                {\"type\": \"text\", \"text\": \"Cos'è quest'immagine?\"},\n",
    "                {\n",
    "                    \"type\": \"image_url\",\n",
    "                    \"image_url\": {\n",
    "                        \"url\": \"https://upload.wikimedia.org/wikipedia/commons/thumb/d/dd/Gfp-wisconsin-madison-the-nature-boardwalk.jpg/2560px-Gfp-wisconsin-madison-the-nature-boardwalk.jpg\",\n",
    "                        \"detail\": \"high\",\n",
    "                    },\n",
    "                },\n",
    "            ],\n",
    "        }\n",
    "    ],\n",
    "    max_tokens=300,\n",
    ")\n",
    "\n",
    "print(response.choices[0].message.content)"
   ]
  },
  {
   "cell_type": "markdown",
   "metadata": {},
   "source": [
    "L'API Chat Completions di OpenAI, a differenza dell'Assistants API, non mantiene uno stato conversazionale. Ciò significa che se vuoi inviare immagini al modello, devi gestirle manualmente e includerle in ogni richiesta, anche se si tratta della stessa immagine. Per conversazioni prolungate, è consigliato usare URL anziché Base64 per ridurre la latenza. Inoltre, per migliorare le prestazioni, è utile ridimensionare le immagini prima di inviarle, rispettando i limiti di dimensione.\n",
    "\n",
    "### Linee guida sulle dimensioni delle immagini\n",
    "- **Dimensione massima**: 20MB per immagine.\n",
    "- **Risoluzione consigliata**:\n",
    "  - **Bassa risoluzione**: 512x512 pixel.\n",
    "  - **Alta risoluzione**: lato corto inferiore a 768px, lato lungo inferiore a 2000px.\n",
    "\n",
    "Le immagini inviate vengono eliminate dai server di OpenAI dopo l'elaborazione e non vengono utilizzate per l'addestramento dei modelli.\n",
    "\n",
    "### Limitazioni del modello\n",
    "Pur essendo molto avanzato, il modello ha alcune limitazioni:\n",
    "- **Immagini mediche**: non è adatto per analizzare TAC o fornire consigli medici.\n",
    "- **Testi non latini**: potrebbe avere difficoltà con alfabeti come il giapponese o il coreano.\n",
    "- **Testo piccolo**: per migliorare la leggibilità, è utile ingrandire il testo senza tagliare dettagli importanti.\n",
    "- **Orientamento**: potrebbe interpretare male testi ruotati o capovolti.\n",
    "- **Elementi visivi complessi**: fatica a comprendere grafici o testo con linee stilizzate (tratteggiate, puntinate).\n",
    "- **Ragionamento spaziale**: ha difficoltà con posizioni precise, ad esempio negli scacchi.\n",
    "- **Accuratezza**: potrebbe generare descrizioni errate o imprecise.\n",
    "- **Formati d'immagine particolari**: non gestisce bene immagini panoramiche o a effetto fisheye.\n",
    "- **Metadati**: non elabora nomi di file o metadati, e ridimensiona le immagini prima di analizzarle.\n",
    "- **Conteggio oggetti**: può fornire stime approssimative invece di conteggi precisi.\n",
    "- **CAPTCHA**: per motivi di sicurezza, il sistema non accetta immagini di CAPTCHA.\n",
    "\n",
    "In sintesi, se usi immagini con questa API, è fondamentale ottimizzarle per dimensioni e leggibilità, tenendo conto dei limiti del modello per evitare errori di interpretazione."
   ]
  }
 ],
 "metadata": {
  "kernelspec": {
   "display_name": ".venv",
   "language": "python",
   "name": "python3"
  },
  "language_info": {
   "codemirror_mode": {
    "name": "ipython",
    "version": 3
   },
   "file_extension": ".py",
   "mimetype": "text/x-python",
   "name": "python",
   "nbconvert_exporter": "python",
   "pygments_lexer": "ipython3",
   "version": "3.12.9"
  }
 },
 "nbformat": 4,
 "nbformat_minor": 2
}
