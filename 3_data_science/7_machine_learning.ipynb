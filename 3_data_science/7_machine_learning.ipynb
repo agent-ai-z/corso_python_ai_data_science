{
 "cells": [
  {
   "cell_type": "markdown",
   "id": "fe5f533b",
   "metadata": {},
   "source": [
    "# **Machine Learning: Concetti e Tecniche Fondamentali**"
   ]
  },
  {
   "cell_type": "markdown",
   "id": "7bd17c2e",
   "metadata": {},
   "source": [
    "\n",
    "Il **Machine Learning** è una branca dell'intelligenza artificiale che consente ai computer di apprendere dai dati senza essere esplicitamente programmati.\n",
    "\n",
    "Esistono tre principali categorie:\n",
    "- **Apprendimento supervisionato** (es., classificazione, regressione)\n",
    "- **Apprendimento non supervisionato** (es., clustering)\n",
    "- **Apprendimento per rinforzo**"
   ]
  },
  {
   "cell_type": "markdown",
   "id": "80050fcd",
   "metadata": {},
   "source": [
    "\n",
    "## Progettazione di un Esperimento Predittivo\n",
    "\n",
    "Un esperimento predittivo segue quattro fasi fondamentali:\n",
    "\n",
    "1. **Suddivisione dei dati** – Dividere i dati in due insiemi: **training set** (70%) e **test set** (30%). I dati di test non devono mai essere usati per costruire il modello.\n",
    "2. **Costruzione del modello** – Addestrare il modello usando solo il **training set**.\n",
    "3. **Applicazione del modello** – Predire i valori sul **test set**.\n",
    "4. **Valutazione del modello** – Usare metriche di performance come la matrice di confusione, accuratezza, precisione, sensibilità e specificità.\n",
    "\n",
    "La **matrice di confusione** è uno strumento fondamentale per valutare i modelli di classificazione:\n",
    "\n",
    "|               | Predetto Positivo | Predetto Negativo |\n",
    "|--------------|----------------|----------------|\n",
    "| **Reale Positivo** | Vero Positivo (TP) | Falso Negativo (FN) |\n",
    "| **Reale Negativo** | Falso Positivo (FP) | Vero Negativo (TN) |\n",
    "\n",
    "Le metriche più comuni per valutare un modello predittivo sono:\n",
    "\n",
    "- **Accuratezza** = $(TP + TN) / (TP + TN + FP + FN)$\n",
    "    - **Valori di riferimento**:\n",
    "        - $ \\approx 1   $ → Modello molto accurato\n",
    "        - $ \\approx 0.5 $ → Classificazione casuale\n",
    "        - $ < 0.5 $       → Modello peggiore di una previsione casuale\n",
    "\n",
    "- **Precisione** = $TP / (TP + FP)$\n",
    "    - **Valori di riferimento**:\n",
    "        - Alta precisione → Pochi falsi positivi\n",
    "        - Bassa precisione → Molti falsi positivi\n",
    "\n",
    "- **Sensibilità (Recall)** = $TP / (TP + FN)$\n",
    "    - **Valori di riferimento**:\n",
    "        - Alta sensibilità → Il modello rileva bene i veri positivi\n",
    "        - Bassa sensibilità → Il modello ignora molti veri positivi\n",
    "\n",
    "- **Specificità** = $TN / (TN + FP)$\n",
    "    - **Valori di riferimento**:\n",
    "        - Alta specificità → Pochi falsi positivi\n",
    "        - Bassa specificità → Il modello classifica erroneamente molti negativi come positivi\n",
    "\n",
    "Se un modello predittivo ha scarsa sensibilità o specificità, si possono regolare i parametri per ottimizzare le prestazioni.\n"
   ]
  },
  {
   "cell_type": "markdown",
   "id": "ef116522",
   "metadata": {},
   "source": [
    "\n",
    "L’analisi predittiva è un esperimento scientifico che deve essere organizzato con rigore. Un modello predittivo non può essere accettato senza verificarne le prestazioni. \n",
    "\n",
    "Il processo di costruzione e validazione di un modello segue quattro fasi:\n",
    "1. **Suddivisione dei dati** in training set (70%) e test set (30%).\n",
    "2. **Costruzione del modello** usando solo i dati di addestramento.\n",
    "3. **Applicazione del modello** ai dati di test.\n",
    "4. **Valutazione delle prestazioni** tramite metriche come la matrice di confusione.\n",
    "\n",
    "La **matrice di confusione** aiuta a valutare l'accuratezza di un modello di classificazione binaria. Le metriche più utilizzate sono:\n",
    "- **Accuratezza**: percentuale di predizioni corrette.\n",
    "- **Precisione**: rapporto tra veri positivi e tutti i positivi previsti.\n",
    "- **Sensibilità**: capacità del modello di rilevare i positivi reali.\n",
    "- **Specificità**: capacità del modello di identificare correttamente i negativi.\n",
    "\n",
    "Se il modello ha bassa sensibilità o specificità, si possono regolare i parametri per ottimizzare le prestazioni. Altri modelli di Machine Learning, come le **reti neurali** e le **SVM**, offrono alternative per migliorare la predizione.\n"
   ]
  },
  {
   "cell_type": "markdown",
   "id": "af488b85",
   "metadata": {},
   "source": [
    "\n",
    "### **2.5 F1-Score**\n",
    "Bilancia precisione e recall:\n",
    "\n",
    "$$\n",
    "F_1 = 2 \\times \\frac{\\text{Precision} \\times \\text{Recall}}{\\text{Precision} + \\text{Recall}}\n",
    "$$\n",
    "\n",
    "\n",
    "**Valori di riferimento**:\n",
    "- $ \\approx 1 $ → Modello bilanciato tra precisione e recall\n",
    "- $ \\approx 0 $ → Modello con prestazioni scarse\n"
   ]
  },
  {
   "cell_type": "markdown",
   "id": "292083ba",
   "metadata": {},
   "source": [
    "## Implementazione in Python"
   ]
  },
  {
   "cell_type": "code",
   "execution_count": null,
   "id": "a984cf80",
   "metadata": {
    "vscode": {
     "languageId": "shellscript"
    }
   },
   "outputs": [],
   "source": [
    "%pip install numpy matplotlib scikit-learn"
   ]
  },
  {
   "cell_type": "code",
   "execution_count": null,
   "id": "3921cfe7",
   "metadata": {},
   "outputs": [],
   "source": [
    "import numpy as np\n",
    "import matplotlib.pyplot as plt\n",
    "from sklearn.cluster import KMeans\n",
    "# Creiamo dati sintetici per il clustering\n",
    "from sklearn.datasets import make_blobs\n",
    "from sklearn.metrics import confusion_matrix, accuracy_score, precision_score, recall_score, f1_score\n",
    "import seaborn as sns\n",
    "import pandas as pd"
   ]
  },
  {
   "cell_type": "code",
   "execution_count": null,
   "id": "8a01816e",
   "metadata": {},
   "outputs": [],
   "source": [
    "# Supponiamo di avere predizioni e valori reali\n",
    "y_true = [1, 0, 1, 1, 0, 1, 0, 0, 1, 0]  # Valori reali\n",
    "y_pred = [1, 0, 1, 0, 0, 1, 1, 0, 1, 0]  # Predizioni del modello\n",
    "\n",
    "# Matrice di confusione\n",
    "conf_matrix = confusion_matrix(y_true, y_pred)\n",
    "print(\"Matrice di Confusione:\")\n",
    "print(conf_matrix)\n",
    "\n",
    "# Visualizzazione della matrice di confusione\n",
    "plt.figure(figsize=(5,4))\n",
    "sns.heatmap(pd.DataFrame(conf_matrix), annot=True, fmt=\"d\", cmap=\"Blues\")\n",
    "plt.xlabel(\"Predetto\")\n",
    "plt.ylabel(\"Reale\")\n",
    "plt.title(\"Matrice di Confusione\")\n",
    "plt.show()"
   ]
  },
  {
   "cell_type": "markdown",
   "id": "0440c9a3",
   "metadata": {},
   "source": [
    "### **Calcolo delle Metriche**"
   ]
  },
  {
   "cell_type": "code",
   "execution_count": null,
   "id": "175f2dea",
   "metadata": {},
   "outputs": [],
   "source": [
    "\n",
    "# Calcolo delle metriche\n",
    "accuracy = accuracy_score(y_true, y_pred)\n",
    "precision = precision_score(y_true, y_pred)\n",
    "recall = recall_score(y_true, y_pred)\n",
    "f1 = f1_score(y_true, y_pred)\n",
    "\n",
    "print(f\"Accuratezza: {accuracy:.2f}\")\n",
    "print(f\"Precisione: {precision:.2f}\")\n",
    "print(f\"Sensibilità (Recall): {recall:.2f}\")\n",
    "print(f\"Specificità: {conf_matrix[1,1] / (conf_matrix[1,1] + conf_matrix[1,0]):.2f}\")  # Calcolo specificità manuale\n",
    "print(f\"F1-score: {f1:.2f}\")\n"
   ]
  },
  {
   "cell_type": "markdown",
   "id": "190f2a97",
   "metadata": {},
   "source": [
    "\n",
    "## Confronto tra le Metriche e Quando Utilizzarle\n",
    "| **Metrica** | **Descrizione** | **Quando Usarla?** |\n",
    "|------------|----------------|------------------|\n",
    "| **Accuratezza** | Percentuale di predizioni corrette | Se le classi sono bilanciate |\n",
    "| **Precisione** | Percentuale di veri positivi tra i positivi previsti | Se il costo di un falso positivo è alto (es. diagnosi medica) |\n",
    "| **Sensibilità (Recall)** | Percentuale di veri positivi identificati | Se il costo di un falso negativo è alto (es. rilevamento di frodi) |\n",
    "| **Specificità** | Percentuale di veri negativi identificati | Se vogliamo evitare falsi positivi (es. test antidroga) |\n",
    "| **F1-score** | Equilibrio tra precisione e recall | Se le classi sono sbilanciate |\n"
   ]
  },
  {
   "cell_type": "markdown",
   "id": "f9adf867",
   "metadata": {},
   "source": [
    "## Regressione lineare\n",
    "La regressione lineare è una forma di modellazione statistica predittiva che punta a spiegare, in toto o in parte, la varianza di una variabile usando un modello lineare. \n",
    "E' una tecnica di modellazione con supervisione: occorre addestrare (con la funzione fit) il modello prima di poterlo usare per effettuare una predizione.\n",
    "\n",
    "Esistono diversi tipi di regressione lineare:\n",
    "- **Regressione Lineare con OLS**\n",
    "- **Regressione Ridge**\n",
    "- **Regressione Logistica**\n",
    "- **Clustering K-Means**"
   ]
  },
  {
   "cell_type": "markdown",
   "id": "5f2592d2",
   "metadata": {},
   "source": [
    "### **Clustering K-Means**"
   ]
  },
  {
   "cell_type": "code",
   "execution_count": null,
   "id": "fcf6b9a6",
   "metadata": {},
   "outputs": [],
   "source": [
    "X, _ = make_blobs(n_samples=300, centers=3, cluster_std=1.0, random_state=42)\n",
    "\n",
    "# Creiamo il modello K-Means con k=3\n",
    "kmeans = KMeans(n_clusters=3, random_state=42)\n",
    "kmeans.fit(X)\n",
    "\n",
    "# Otteniamo i centroidi e le etichette dei cluster\n",
    "centroids = kmeans.cluster_centers_\n",
    "labels = kmeans.labels_\n",
    "\n",
    "# Visualizziamo i cluster\n",
    "plt.scatter(X[:, 0], X[:, 1], c=labels, cmap=\"viridis\", alpha=0.6)\n",
    "plt.scatter(centroids[:, 0], centroids[:, 1], c=\"red\", marker=\"x\", s=200, label=\"Centroidi\")\n",
    "plt.xlabel(\"Feature 1\")\n",
    "plt.ylabel(\"Feature 2\")\n",
    "plt.title(\"Clustering K-Means\")\n",
    "plt.legend()\n",
    "plt.show()\n"
   ]
  }
 ],
 "metadata": {
  "kernelspec": {
   "display_name": ".venv",
   "language": "python",
   "name": "python3"
  },
  "language_info": {
   "codemirror_mode": {
    "name": "ipython",
    "version": 3
   },
   "file_extension": ".py",
   "mimetype": "text/x-python",
   "name": "python",
   "nbconvert_exporter": "python",
   "pygments_lexer": "ipython3",
   "version": "3.12.9"
  }
 },
 "nbformat": 4,
 "nbformat_minor": 5
}
