{
    "cells": [
        {
            "cell_type": "markdown",
            "metadata": {},
            "source": [
                "# Introduzione a Pandas\n",
                "Pandas è una libreria open-source per la manipolazione e analisi dei dati in Python. Fornisce strutture dati e strumenti per lavorare con dataset tabulari, come DataFrame e Series.\n",
                "Lo scopo del modulo pandas è quello di aggiungere a Python le astrazioni delle serie e dei frame di dati, inoltre pandas opera sulla base di numpy, del quale estende e, in parte reimplementa le funzionalità. \n",
                "Un frame di dati pandas è, in pratica, un foglio di lavoro “intelligente”: una tabella che riporta etichette per le colonne (le variabili), le righe (le osservazioni) e una ricca collezione di operazioni interne (qui una serie è semplicemente un frame avente una sola colonna). \n",
                "La parte della tabella dedicata ai dati (le celle) è implementata come un array numpy. \n",
                "Molte operazioni (come il cambio di forma dei dati e le funzioni di aggregazione e universali) somigliano alle versioni numpy. \n",
                "Le etichette di riga e di colonna forniscono un accesso comodo e “parlante” alle singole righe e colonne. \n",
                "Inoltre, le etichette di righe e colonne consentono a noi programmatori di combinare più frame unendoli e concatenandoli in senso “verticale” (uno sopra l’altro) o in “orizzontale” (fianco a fianco)."
            ]
        },
        {
            "cell_type": "code",
            "execution_count": 9,
            "metadata": {
                "vscode": {
                    "languageId": "shellscript"
                }
            },
            "outputs": [
                {
                    "name": "stdout",
                    "output_type": "stream",
                    "text": [
                        "Defaulting to user installation because normal site-packages is not writeable\n",
                        "Requirement already satisfied: pandas in c:\\users\\gzile\\appdata\\local\\packages\\pythonsoftwarefoundation.python.3.12_qbz5n2kfra8p0\\localcache\\local-packages\\python312\\site-packages (2.2.3)\n",
                        "Requirement already satisfied: numpy>=1.26.0 in c:\\users\\gzile\\appdata\\local\\packages\\pythonsoftwarefoundation.python.3.12_qbz5n2kfra8p0\\localcache\\local-packages\\python312\\site-packages (from pandas) (1.26.4)\n",
                        "Requirement already satisfied: python-dateutil>=2.8.2 in c:\\users\\gzile\\appdata\\local\\packages\\pythonsoftwarefoundation.python.3.12_qbz5n2kfra8p0\\localcache\\local-packages\\python312\\site-packages (from pandas) (2.9.0.post0)\n",
                        "Requirement already satisfied: pytz>=2020.1 in c:\\users\\gzile\\appdata\\local\\packages\\pythonsoftwarefoundation.python.3.12_qbz5n2kfra8p0\\localcache\\local-packages\\python312\\site-packages (from pandas) (2024.2)\n",
                        "Requirement already satisfied: tzdata>=2022.7 in c:\\users\\gzile\\appdata\\local\\packages\\pythonsoftwarefoundation.python.3.12_qbz5n2kfra8p0\\localcache\\local-packages\\python312\\site-packages (from pandas) (2024.2)\n",
                        "Requirement already satisfied: six>=1.5 in c:\\users\\gzile\\appdata\\local\\packages\\pythonsoftwarefoundation.python.3.12_qbz5n2kfra8p0\\localcache\\local-packages\\python312\\site-packages (from python-dateutil>=2.8.2->pandas) (1.16.0)\n"
                    ]
                }
            ],
            "source": [
                "# Installazione della libreria (se non è già installata)\n",
                "!pip install pandas"
            ]
        },
        {
            "cell_type": "markdown",
            "metadata": {},
            "source": [
                "## 1. Importazione di Pandas\n",
                "Per utilizzare Pandas, è necessario importarlo nel proprio script."
            ]
        },
        {
            "cell_type": "code",
            "execution_count": 10,
            "metadata": {},
            "outputs": [
                {
                    "name": "stdout",
                    "output_type": "stream",
                    "text": [
                        "Pandas importato con successo!\n"
                    ]
                }
            ],
            "source": [
                "import pandas as pd\n",
                "print(\"Pandas importato con successo!\")"
            ]
        },
        {
            "cell_type": "markdown",
            "metadata": {},
            "source": [
                "## 2. Serie in Pandas\n",
                "Una **Series** è un array unidimensionale etichettato che può contenere dati di qualsiasi tipo."
            ]
        },
        {
            "cell_type": "code",
            "execution_count": 11,
            "metadata": {},
            "outputs": [
                {
                    "name": "stdout",
                    "output_type": "stream",
                    "text": [
                        "a    10\n",
                        "b    20\n",
                        "c    30\n",
                        "d    40\n",
                        "dtype: int64\n",
                        "Elemento con indice 'b': 20\n",
                        "Serie moltiplicata per 2:\n",
                        "a    20\n",
                        "b    40\n",
                        "c    60\n",
                        "d    80\n",
                        "dtype: int64\n"
                    ]
                }
            ],
            "source": [
                "# Creazione di una Serie\n",
                "s = pd.Series([10, 20, 30, 40], index=['a', 'b', 'c', 'd'])\n",
                "print(s)\n",
                "\n",
                "# Accesso agli elementi della Serie\n",
                "print(\"Elemento con indice 'b':\", s['b'])\n",
                "\n",
                "# Operazioni matematiche su una Serie\n",
                "print(\"Serie moltiplicata per 2:\")\n",
                "print(s * 2)"
            ]
        },
        {
            "cell_type": "markdown",
            "metadata": {},
            "source": [
                "## 3. DataFrame in Pandas\n",
                "Un **DataFrame** è una struttura dati bidimensionale, simile a una tabella."
            ]
        },
        {
            "cell_type": "code",
            "execution_count": 12,
            "metadata": {},
            "outputs": [
                {
                    "name": "stdout",
                    "output_type": "stream",
                    "text": [
                        "      Nome  Età   Città\n",
                        "0    Alice   25    Roma\n",
                        "1      Bob   30  Milano\n",
                        "2  Charlie   35  Napoli\n"
                    ]
                }
            ],
            "source": [
                "# Creazione di un DataFrame da un dizionario\n",
                "dati = {\n",
                "    'Nome': ['Alice', 'Bob', 'Charlie'],\n",
                "    'Età': [25, 30, 35],\n",
                "    'Città': ['Roma', 'Milano', 'Napoli']\n",
                "}\n",
                "\n",
                "df = pd.DataFrame(dati)\n",
                "print(df)"
            ]
        },
        {
            "cell_type": "markdown",
            "metadata": {},
            "source": [
                "## 4. Lettura e Scrittura di File CSV\n",
                "Pandas può leggere e scrivere file CSV in modo semplice ed efficiente."
            ]
        },
        {
            "cell_type": "code",
            "execution_count": 13,
            "metadata": {},
            "outputs": [
                {
                    "name": "stdout",
                    "output_type": "stream",
                    "text": [
                        "      Nome  Età   Città\n",
                        "0    Alice   25    Roma\n",
                        "1      Bob   30  Milano\n",
                        "2  Charlie   35  Napoli\n"
                    ]
                }
            ],
            "source": [
                "# Scrittura del DataFrame in un file CSV\n",
                "df.to_csv('dati.csv', index=False)\n",
                "\n",
                "# Lettura di un file CSV\n",
                "df_letto = pd.read_csv('dati.csv')\n",
                "print(df_letto)"
            ]
        },
        {
            "cell_type": "markdown",
            "metadata": {},
            "source": [
                "## 5. Operazioni di Base sui DataFrame\n",
                "Vediamo alcune operazioni fondamentali."
            ]
        },
        {
            "cell_type": "code",
            "execution_count": 14,
            "metadata": {},
            "outputs": [
                {
                    "name": "stdout",
                    "output_type": "stream",
                    "text": [
                        "      Nome  Età   Città\n",
                        "0    Alice   25    Roma\n",
                        "1      Bob   30  Milano\n",
                        "2  Charlie   35  Napoli\n",
                        "<class 'pandas.core.frame.DataFrame'>\n",
                        "RangeIndex: 3 entries, 0 to 2\n",
                        "Data columns (total 3 columns):\n",
                        " #   Column  Non-Null Count  Dtype \n",
                        "---  ------  --------------  ----- \n",
                        " 0   Nome    3 non-null      object\n",
                        " 1   Età     3 non-null      int64 \n",
                        " 2   Città   3 non-null      object\n",
                        "dtypes: int64(1), object(2)\n",
                        "memory usage: 204.0+ bytes\n",
                        "None\n",
                        "        Età\n",
                        "count   3.0\n",
                        "mean   30.0\n",
                        "std     5.0\n",
                        "min    25.0\n",
                        "25%    27.5\n",
                        "50%    30.0\n",
                        "75%    32.5\n",
                        "max    35.0\n"
                    ]
                }
            ],
            "source": [
                "# Mostrare le prime righe del DataFrame\n",
                "print(df.head())\n",
                "\n",
                "# Ottenere informazioni generali sul DataFrame\n",
                "print(df.info())\n",
                "\n",
                "# Descrizione statistica dei dati\n",
                "print(df.describe())"
            ]
        },
        {
            "cell_type": "markdown",
            "metadata": {},
            "source": [
                "## 6. Selezione di Dati\n",
                "Possiamo selezionare colonne e righe specifiche."
            ]
        },
        {
            "cell_type": "code",
            "execution_count": 15,
            "metadata": {},
            "outputs": [
                {
                    "name": "stdout",
                    "output_type": "stream",
                    "text": [
                        "0      Alice\n",
                        "1        Bob\n",
                        "2    Charlie\n",
                        "Name: Nome, dtype: object\n",
                        "      Nome  Età\n",
                        "0    Alice   25\n",
                        "1      Bob   30\n",
                        "2  Charlie   35\n",
                        "Nome        Bob\n",
                        "Età          30\n",
                        "Città    Milano\n",
                        "Name: 1, dtype: object\n"
                    ]
                }
            ],
            "source": [
                "# Selezionare una colonna\n",
                "print(df['Nome'])\n",
                "\n",
                "# Selezionare più colonne\n",
                "print(df[['Nome', 'Età']])\n",
                "\n",
                "# Selezionare righe specifiche\n",
                "print(df.loc[1])  # Seleziona la seconda riga"
            ]
        },
        {
            "cell_type": "markdown",
            "metadata": {},
            "source": [
                "## 7. Filtraggio dei Dati\n",
                "Possiamo filtrare i dati in base a condizioni specifiche."
            ]
        },
        {
            "cell_type": "code",
            "execution_count": 16,
            "metadata": {},
            "outputs": [
                {
                    "name": "stdout",
                    "output_type": "stream",
                    "text": [
                        "      Nome  Età   Città\n",
                        "1      Bob   30  Milano\n",
                        "2  Charlie   35  Napoli\n"
                    ]
                }
            ],
            "source": [
                "# Selezionare righe dove l'età è maggiore di 28 anni\n",
                "filtro = df[df['Età'] > 28]\n",
                "print(filtro)"
            ]
        },
        {
            "cell_type": "markdown",
            "metadata": {},
            "source": [
                "## 8. Modifica dei Dati\n",
                "Possiamo aggiornare i dati esistenti o aggiungere nuove colonne."
            ]
        },
        {
            "cell_type": "code",
            "execution_count": 17,
            "metadata": {},
            "outputs": [
                {
                    "name": "stdout",
                    "output_type": "stream",
                    "text": [
                        "      Nome  Età   Città  Salario\n",
                        "0    Alice   25    Roma     3000\n",
                        "1      Bob   30  Milano     3500\n",
                        "2  Charlie   35  Napoli     4000\n",
                        "      Nome  Età   Città  Salario\n",
                        "0    Alice   25    Roma     3000\n",
                        "1      Bob   32  Milano     3500\n",
                        "2  Charlie   35  Napoli     4000\n"
                    ]
                }
            ],
            "source": [
                "# Aggiungere una nuova colonna\n",
                "df['Salario'] = [3000, 3500, 4000]\n",
                "print(df)\n",
                "\n",
                "# Modificare un valore specifico\n",
                "df.loc[1, 'Età'] = 32\n",
                "print(df)"
            ]
        },
        {
            "cell_type": "markdown",
            "metadata": {},
            "source": [
                "## 9. Raggruppamento e Aggregazione\n",
                "Possiamo raggruppare i dati e calcolare statistiche."
            ]
        },
        {
            "cell_type": "code",
            "execution_count": 18,
            "metadata": {},
            "outputs": [
                {
                    "name": "stdout",
                    "output_type": "stream",
                    "text": [
                        "Città\n",
                        "Milano    32.0\n",
                        "Napoli    35.0\n",
                        "Roma      25.0\n",
                        "Name: Età, dtype: float64\n"
                    ]
                }
            ],
            "source": [
                "# Raggruppare per città e calcolare l'età media\n",
                "df_grouped = df.groupby('Città')['Età'].mean()\n",
                "print(df_grouped)"
            ]
        },
        {
            "cell_type": "markdown",
            "metadata": {},
            "source": [
                "## 10. Ordinamento dei Dati\n",
                "Possiamo ordinare i dati in base a specifiche colonne."
            ]
        },
        {
            "cell_type": "code",
            "execution_count": 19,
            "metadata": {},
            "outputs": [
                {
                    "name": "stdout",
                    "output_type": "stream",
                    "text": [
                        "      Nome  Età   Città  Salario\n",
                        "0    Alice   25    Roma     3000\n",
                        "1      Bob   32  Milano     3500\n",
                        "2  Charlie   35  Napoli     4000\n"
                    ]
                }
            ],
            "source": [
                "# Ordinare i dati per età in ordine crescente\n",
                "df_sorted = df.sort_values(by='Età')\n",
                "print(df_sorted)"
            ]
        },
        {
            "cell_type": "markdown",
            "metadata": {},
            "source": [
                "## Indicizzazione con Pandas\n",
                "\n",
                "L'indicizzazione in Pandas è un aspetto fondamentale per la manipolazione e l'accesso ai dati all'interno di un DataFrame o di una Series. Ecco una panoramica su come gestire l'indicizzazione:\n",
                "\n",
                "### 1. Indicizzazione di Base\n",
                "- **Accesso per etichetta**: Utilizzando l'attributo `.loc`, è possibile accedere ai dati tramite le etichette delle righe e delle colonne.\n",
                "    ```python\n",
                "    df.loc[1, 'Nome']  # Accesso alla seconda riga e alla colonna 'Nome'\n",
                "    ```\n",
                "- **Accesso per posizione**: Utilizzando l'attributo `.iloc`, è possibile accedere ai dati tramite la posizione numerica delle righe e delle colonne.\n",
                "    ```python\n",
                "    df.iloc[1, 0]  # Accesso alla seconda riga e alla prima colonna\n",
                "    ```\n",
                "\n",
                "### 2. Slicing\n",
                "- **Slicing di righe**: È possibile selezionare un intervallo di righe utilizzando `:`.\n",
                "    ```python\n",
                "    df.loc[1:3]  # Seleziona dalla seconda alla quarta riga (inclusa)\n",
                "    ```\n",
                "- **Slicing di colonne**: È possibile selezionare un intervallo di colonne.\n",
                "    ```python\n",
                "    df.loc[:, 'Nome':'Città']  # Seleziona tutte le righe e le colonne da 'Nome' a 'Città'\n",
                "    ```\n",
                "\n",
                "### 3. Filtraggio\n",
                "- **Filtraggio con condizioni**: È possibile filtrare i dati in base a condizioni specifiche.\n",
                "    ```python\n",
                "    df[df['Età'] > 30]  # Seleziona le righe dove l'età è maggiore di 30\n",
                "    ```\n",
                "\n",
                "### 4. Impostazione di un nuovo indice\n",
                "- **Impostazione di una colonna come indice**: È possibile impostare una colonna esistente come indice del DataFrame.\n",
                "    ```python\n",
                "    df.set_index('Nome', inplace=True)  # Imposta la colonna 'Nome' come indice\n",
                "    ```\n",
                "- **Ripristino dell'indice**: È possibile ripristinare l'indice predefinito.\n",
                "    ```python\n",
                "    df.reset_index(inplace=True)  # Ripristina l'indice numerico predefinito\n",
                "    ```\n",
                "\n",
                "### 5. MultiIndex\n",
                "- **Creazione di un MultiIndex**: È possibile creare un indice gerarchico utilizzando più colonne.\n",
                "    ```python\n",
                "    df.set_index(['Città', 'Nome'], inplace=True)  # Imposta un indice gerarchico con 'Città' e 'Nome'\n",
                "    ```\n",
                "- **Accesso ai dati con MultiIndex**: È possibile accedere ai dati utilizzando il MultiIndex.\n",
                "    ```python\n",
                "    df.loc[('Roma', 'Alice')]  # Accesso ai dati per 'Roma' e 'Alice'\n",
                "    ```\n",
                "\n",
                "Questi sono alcuni dei metodi principali per gestire l'indicizzazione con Pandas. L'indicizzazione è uno strumento potente che consente di accedere, filtrare e manipolare i dati in modo efficiente."
            ]
        },
        {
            "cell_type": "code",
            "execution_count": 20,
            "metadata": {},
            "outputs": [
                {
                    "name": "stdout",
                    "output_type": "stream",
                    "text": [
                        "Accesso per etichetta: Bob\n",
                        "Accesso per posizione: Bob\n",
                        "Slicing di righe:\n",
                        "       Nome  Età   Città  Salario\n",
                        "1      Bob   32  Milano     3500\n",
                        "2  Charlie   35  Napoli     4000\n",
                        "Slicing di colonne:\n",
                        "       Nome  Età   Città\n",
                        "0    Alice   25    Roma\n",
                        "1      Bob   32  Milano\n",
                        "2  Charlie   35  Napoli\n",
                        "Filtraggio con condizioni:\n",
                        "       Nome  Età   Città  Salario\n",
                        "1      Bob   32  Milano     3500\n",
                        "2  Charlie   35  Napoli     4000\n",
                        "Impostazione di una colonna come indice:\n",
                        "          Età   Città  Salario\n",
                        "Nome                         \n",
                        "Alice     25    Roma     3000\n",
                        "Bob       32  Milano     3500\n",
                        "Charlie   35  Napoli     4000\n",
                        "Ripristino dell'indice:\n",
                        "       Nome  Età   Città  Salario\n",
                        "0    Alice   25    Roma     3000\n",
                        "1      Bob   32  Milano     3500\n",
                        "2  Charlie   35  Napoli     4000\n",
                        "Creazione di un MultiIndex:\n",
                        "                 Età  Salario\n",
                        "Città  Nome                 \n",
                        "Roma   Alice     25     3000\n",
                        "Milano Bob       32     3500\n",
                        "Napoli Charlie   35     4000\n",
                        "Accesso ai dati con MultiIndex:\n",
                        " Età          25\n",
                        "Salario    3000\n",
                        "Name: (Roma, Alice), dtype: int64\n"
                    ]
                }
            ],
            "source": [
                "# Indicizzazione di Base\n",
                "# Accesso per etichetta\n",
                "print(\"Accesso per etichetta:\", df.loc[1, 'Nome'])  # Accesso alla seconda riga e alla colonna 'Nome'\n",
                "\n",
                "# Accesso per posizione\n",
                "print(\"Accesso per posizione:\", df.iloc[1, 0])  # Accesso alla seconda riga e alla prima colonna\n",
                "\n",
                "# Slicing\n",
                "# Slicing di righe\n",
                "print(\"Slicing di righe:\\n\", df.loc[1:2])  # Seleziona dalla seconda alla terza riga (inclusa)\n",
                "\n",
                "# Slicing di colonne\n",
                "print(\"Slicing di colonne:\\n\", df.loc[:, 'Nome':'Città'])  # Seleziona tutte le righe e le colonne da 'Nome' a 'Città'\n",
                "\n",
                "# Filtraggio\n",
                "# Filtraggio con condizioni\n",
                "print(\"Filtraggio con condizioni:\\n\", df[df['Età'] > 30])  # Seleziona le righe dove l'età è maggiore di 30\n",
                "\n",
                "# Impostazione di un nuovo indice\n",
                "# Impostazione di una colonna come indice\n",
                "df.set_index('Nome', inplace=True)\n",
                "print(\"Impostazione di una colonna come indice:\\n\", df)\n",
                "\n",
                "# Ripristino dell'indice\n",
                "df.reset_index(inplace=True)\n",
                "print(\"Ripristino dell'indice:\\n\", df)\n",
                "\n",
                "# MultiIndex\n",
                "# Creazione di un MultiIndex\n",
                "df.set_index(['Città', 'Nome'], inplace=True)\n",
                "print(\"Creazione di un MultiIndex:\\n\", df)\n",
                "\n",
                "# Accesso ai dati con MultiIndex\n",
                "print(\"Accesso ai dati con MultiIndex:\\n\", df.loc[('Roma', 'Alice')])"
            ]
        },
        {
            "cell_type": "markdown",
            "metadata": {},
            "source": [
                "## Reindicizzazione di una Series\n",
                "\n",
                "La reindicizzazione di una Series in Pandas consente di cambiare l'ordine delle etichette dell'indice e di aggiungere nuove etichette. Quando si reindicizza una Series, \n",
                "è possibile specificare un nuovo set di etichette per l'indice. Se una delle nuove etichette non esiste nella Series originale, \n",
                "il valore corrispondente sarà impostato su NaN (Not a Number)."
            ]
        },
        {
            "cell_type": "code",
            "execution_count": 21,
            "metadata": {},
            "outputs": [
                {
                    "name": "stdout",
                    "output_type": "stream",
                    "text": [
                        "a    10.0\n",
                        "c    30.0\n",
                        "b    20.0\n",
                        "d    40.0\n",
                        "e     NaN\n",
                        "dtype: float64\n"
                    ]
                }
            ],
            "source": [
                "# Reindicizzazione di una Series\n",
                "s_reindexed = s.reindex(['a', 'c', 'b', 'd', 'e'])\n",
                "print(s_reindexed)"
            ]
        },
        {
            "cell_type": "markdown",
            "metadata": {},
            "source": [
                "### Per `Series.reindex`\n",
                "\n",
                "- **index**: Lista o array-like, opzionale. Nuove etichette per l'indice. Se non specificato, l'indice originale viene mantenuto.\n",
                "- **method**: Stringa, opzionale. Metodo di riempimento per i valori mancanti. Può essere:\n",
                "    - `'pad'`/`'ffill'`: Riempie in avanti.\n",
                "    - `'backfill'`/`'bfill'`: Riempie all'indietro.\n",
                "    - `'nearest'`: Usa il valore più vicino.\n",
                "- **copy**: Booleano, predefinito True. Se True, ritorna una copia dei dati.\n",
                "- **level**: Int o nome, opzionale. Livello specifico (per MultiIndex) da reindicizzare.\n",
                "- **fill_value**: Valore, opzionale. Valore da usare per riempire gli elementi mancanti.\n",
                "- **limit**: Int, opzionale. Numero massimo di elementi da riempire.\n",
                "- **tolerance**: Tolleranza per il riempimento, opzionale. Può essere un singolo valore o un array-like.\n",
                "- **kwargs**: Argomenti aggiuntivi per la compatibilità futura.\n",
                "\n",
                "### Per `DataFrame.reindex`\n",
                "\n",
                "- **index**: Lista o array-like, opzionale. Nuove etichette per l'indice delle righe. Se non specificato, l'indice originale viene mantenuto.\n",
                "- **columns**: Lista o array-like, opzionale. Nuove etichette per l'indice delle colonne. Se non specificato, l'indice originale viene mantenuto.\n",
                "- **method**: Stringa, opzionale. Metodo di riempimento per i valori mancanti. Può essere:\n",
                "    - `'pad'`/`'ffill'`: Riempie in avanti.\n",
                "    - `'backfill'`/`'bfill'`: Riempie all'indietro.\n",
                "    - `'nearest'`: Usa il valore più vicino.\n",
                "- **copy**: Booleano, predefinito True. Se True, ritorna una copia dei dati.\n",
                "- **level**: Int o nome, opzionale. Livello specifico (per MultiIndex) da reindicizzare.\n",
                "- **fill_value**: Valore, opzionale. Valore da usare per riempire gli elementi mancanti.\n",
                "- **limit**: Int, opzionale. Numero massimo di elementi da riempire.\n",
                "- **tolerance**: Tolleranza per il riempimento, opzionale. Può essere un singolo valore o un array-like.\n",
                "- **kwargs**: Argomenti aggiuntivi per la compatibilità futura."
            ]
        },
        {
            "cell_type": "code",
            "execution_count": 25,
            "metadata": {},
            "outputs": [
                {
                    "name": "stdout",
                    "output_type": "stream",
                    "text": [
                        "Esempio per 'index':\n",
                        " a    10.0\n",
                        "c    30.0\n",
                        "b    20.0\n",
                        "d    40.0\n",
                        "e     NaN\n",
                        "dtype: float64\n",
                        "\n",
                        "Esempio per 'method':\n",
                        " a    10\n",
                        "c    30\n",
                        "b    20\n",
                        "d    40\n",
                        "e    40\n",
                        "dtype: int64\n",
                        "\n",
                        "Esempio per 'copy':\n",
                        " a    10.0\n",
                        "c    30.0\n",
                        "b    20.0\n",
                        "d    40.0\n",
                        "e     NaN\n",
                        "dtype: float64\n",
                        "\n",
                        "Esempio per 'level':\n",
                        " letter  number\n",
                        "a       1         10\n",
                        "        2         20\n",
                        "b       1         30\n",
                        "        2         40\n",
                        "dtype: int64\n",
                        "\n",
                        "Esempio per 'fill_value':\n",
                        " a    10\n",
                        "c    30\n",
                        "b    20\n",
                        "d    40\n",
                        "e     0\n",
                        "dtype: int64\n",
                        "\n",
                        "Esempio per 'limit':\n",
                        " a    10\n",
                        "b    20\n",
                        "c    30\n",
                        "d    40\n",
                        "e    40\n",
                        "dtype: int64\n",
                        "\n",
                        "Esempio per 'tolerance':\n",
                        " 1    10\n",
                        "2    20\n",
                        "3    30\n",
                        "4    40\n",
                        "5    40\n",
                        "dtype: int64\n"
                    ]
                }
            ],
            "source": [
                "# Esempi per tutti i parametri di reindex\n",
                "\n",
                "# Creazione di una Series di esempio\n",
                "s = pd.Series([10, 20, 30, 40], index=['a', 'b', 'c', 'd'])\n",
                "\n",
                "# Esempio per il parametro 'index'\n",
                "s_reindexed = s.reindex(['a', 'c', 'b', 'd', 'e'])\n",
                "print(\"Esempio per 'index':\\n\", s_reindexed)\n",
                "\n",
                "# Esempio per il parametro 'method'\n",
                "s_reindexed_method = s.reindex(['a', 'c', 'b', 'd', 'e'], method='ffill')\n",
                "print(\"\\nEsempio per 'method':\\n\", s_reindexed_method)\n",
                "\n",
                "# Esempio per il parametro 'copy'\n",
                "s_reindexed_copy = s.reindex(['a', 'c', 'b', 'd', 'e'], copy=False)\n",
                "print(\"\\nEsempio per 'copy':\\n\", s_reindexed_copy)\n",
                "\n",
                "# Esempio per il parametro 'level'\n",
                "# Creazione di una Series con MultiIndex\n",
                "arrays = [['a', 'a', 'b', 'b'], [1, 2, 1, 2]]\n",
                "index = pd.MultiIndex.from_arrays(arrays, names=('letter', 'number'))\n",
                "s_multi = pd.Series([10, 20, 30, 40], index=index)\n",
                "s_reindexed_level = s_multi.reindex(['a', 'b'], level='letter')\n",
                "print(\"\\nEsempio per 'level':\\n\", s_reindexed_level)\n",
                "\n",
                "# Esempio per il parametro 'fill_value'\n",
                "s_reindexed_fill_value = s.reindex(['a', 'c', 'b', 'd', 'e'], fill_value=0)\n",
                "print(\"\\nEsempio per 'fill_value':\\n\", s_reindexed_fill_value)\n",
                "\n",
                "# Esempio per il parametro 'limit'\n",
                "# Assicurarsi che l'indice e il target siano monotoni\n",
                "s_sorted = s.sort_index()\n",
                "s_reindexed_limit = s_sorted.reindex(['a', 'b', 'c', 'd', 'e'], method='ffill', limit=1)\n",
                "print(\"\\nEsempio per 'limit':\\n\", s_reindexed_limit)\n",
                "\n",
                "# Esempio per il parametro 'tolerance'\n",
                "# Creazione di una Series con indici numerici\n",
                "s_numeric = pd.Series([10, 20, 30, 40], index=[1, 2, 3, 4])\n",
                "s_reindexed_tolerance = s_numeric.reindex([1, 2, 3, 4, 5], method='nearest', tolerance=1)\n",
                "print(\"\\nEsempio per 'tolerance':\\n\", s_reindexed_tolerance)"
            ]
        },
        {
            "cell_type": "markdown",
            "metadata": {},
            "source": [
                "## Stack e Pivot\n",
                "\n",
                "Potete appiattire, in parte o in toto, un indice multilivello, introducendo però nomi di colonne multilivello. Potete appiattire, in parte o in toto, dei nomi di colonne multilivello, introducendo però un multiindice.\n",
                "\n",
                "![stack_pivot](./stack-pivot.png)\n",
                "\n",
                "### Stack\n",
                "\n",
                "La funzione `stack()` incrementa il numero di livelli nell’indice e, simultaneamente, decrementa il numero di livelli nei nomi di colonne. Rende, pertanto, il frame più “alto” e più “stretto”. Se i nomi di colonne sono più “piatti”, restituisce una serie."
            ]
        },
        {
            "cell_type": "code",
            "execution_count": null,
            "metadata": {},
            "outputs": [],
            "source": [
                "# Creazione di un DataFrame di esempio\n",
                "df = pd.DataFrame({\n",
                "    'A': ['foo', 'foo', 'bar', 'bar'],\n",
                "    'B': ['one', 'two', 'one', 'two'],\n",
                "    'C': [1, 2, 3, 4],\n",
                "    'D': [5, 6, 7, 8]\n",
                "})\n",
                "print(\"DataFrame originale:\\n\", df)\n",
                "\n",
                "# Esempio di stack\n",
                "stacked = df.stack()\n",
                "print(\"\\nDataFrame dopo stack:\\n\", stacked)\n",
                "\n",
                "# Creazione di un DataFrame di esempio per pivot\n",
                "df_pivot = pd.DataFrame({\n",
                "    'A': ['foo', 'foo', 'bar', 'bar'],\n",
                "    'B': ['one', 'one', 'two', 'two'],\n",
                "    'C': [1, 3, 2, 4]\n",
                "})\n",
                "print(\"\\nDataFrame originale per pivot:\\n\", df_pivot)\n",
                "\n",
                "# Esempio di pivot\n",
                "pivoted = df_pivot.pivot(index='A', columns='B', values='C')\n",
                "print(\"\\nDataFrame dopo pivot:\\n\", pivoted)"
            ]
        },
        {
            "cell_type": "markdown",
            "metadata": {},
            "source": [
                "### Identificazione dei Dati Mancanti\n",
                "\n",
                "Solo raramente i dati sono “perfetti”. Alcuni valori sono sicuri (e non è necessario preoccuparsene); alcuni sono dubbi (e occorre trattarli con cautela); e alcuni sono semplicemente assenti. Tradizionalmente, pandas impiega valori numpy `nan` per rappresentare i dati mancanti, probabilmente per evitare ogni confusione con valori “plausibili”.\n",
                "\n",
                "Per identificare i dati mancanti in un DataFrame, possiamo utilizzare i metodi `isna()` o `isnull()`, che restituiscono un DataFrame booleano della stessa forma, con `True` nei punti in cui i dati sono mancanti."
            ]
        },
        {
            "cell_type": "code",
            "execution_count": null,
            "metadata": {
                "vscode": {
                    "languageId": "ruby"
                }
            },
            "outputs": [
                {
                    "name": "stdout",
                    "output_type": "stream",
                    "text": [
                        "DataFrame originale con dati mancanti:\n",
                        "      A    B    C\n",
                        "0  1.0  NaN  1.0\n",
                        "1  2.0  2.0  NaN\n",
                        "2  NaN  3.0  NaN\n",
                        "3  4.0  4.0  4.0\n",
                        "\n",
                        "Identificazione dei dati mancanti con isna():\n",
                        "        A      B      C\n",
                        "0  False   True  False\n",
                        "1  False  False   True\n",
                        "2   True  False   True\n",
                        "3  False  False  False\n",
                        "\n",
                        "Identificazione dei dati mancanti con isnull():\n",
                        "        A      B      C\n",
                        "0  False   True  False\n",
                        "1  False  False   True\n",
                        "2   True  False   True\n",
                        "3  False  False  False\n",
                        "\n",
                        "DataFrame dopo la rimozione delle righe con dati mancanti:\n",
                        "      A    B    C\n",
                        "3  4.0  4.0  4.0\n",
                        "\n",
                        "Esempio per 'axis=0' (rimozione righe):\n",
                        "      A    B    C\n",
                        "3  4.0  4.0  4.0\n",
                        "\n",
                        "Esempio per 'axis=1' (rimozione colonne):\n",
                        " Empty DataFrame\n",
                        "Columns: []\n",
                        "Index: [0, 1, 2, 3]\n",
                        "\n",
                        "Esempio per 'how=any' (rimozione se qualsiasi valore è NaN):\n",
                        "      A    B    C\n",
                        "3  4.0  4.0  4.0\n",
                        "\n",
                        "Esempio per 'how=all' (rimozione se tutti i valori sono NaN):\n",
                        "      A    B    C\n",
                        "0  1.0  NaN  1.0\n",
                        "1  2.0  2.0  NaN\n",
                        "2  NaN  3.0  NaN\n",
                        "3  4.0  4.0  4.0\n",
                        "\n",
                        "Esempio per 'thresh=2' (almeno 2 valori non-NaN):\n",
                        "      A    B    C\n",
                        "0  1.0  NaN  1.0\n",
                        "1  2.0  2.0  NaN\n",
                        "3  4.0  4.0  4.0\n",
                        "\n",
                        "Esempio per 'subset=['A', 'B']' (considera solo colonne A e B):\n",
                        "      A    B    C\n",
                        "1  2.0  2.0  NaN\n",
                        "3  4.0  4.0  4.0\n",
                        "\n",
                        "Esempio per 'inplace=True' (modifica in loco):\n",
                        "      A    B    C\n",
                        "3  4.0  4.0  4.0\n",
                        "\n",
                        "DataFrame dopo la rimozione delle colonne con dati mancanti:\n",
                        "      A    B    C\n",
                        "3  4.0  4.0  4.0\n",
                        "\n",
                        "DataFrame dopo la sostituzione dei dati mancanti con 0:\n",
                        "      A    B    C\n",
                        "3  4.0  4.0  4.0\n",
                        "\n",
                        "DataFrame dopo la sostituzione dei dati mancanti con la media della colonna:\n",
                        "      A    B    C\n",
                        "3  4.0  4.0  4.0\n",
                        "\n",
                        "DataFrame dopo l'interpolazione dei dati mancanti:\n",
                        "      A    B    C\n",
                        "3  4.0  4.0  4.0\n"
                    ]
                }
            ],
            "source": [
                "import pandas as pd\n",
                "\n",
                "# Creazione di un DataFrame con dati mancanti\n",
                "df_missing = pd.DataFrame({\n",
                "    'A': [1, 2, None, 4],\n",
                "    'B': [None, 2, 3, 4],\n",
                "    'C': [1, None, None, 4]\n",
                "})\n",
                "print(\"DataFrame originale con dati mancanti:\\n\", df_missing)\n",
                "\n",
                "# Identificazione dei dati mancanti\n",
                "print(\"\\nIdentificazione dei dati mancanti con isna():\\n\", df_missing.isna())\n",
                "print(\"\\nIdentificazione dei dati mancanti con isnull():\\n\", df_missing.isnull())\n",
                "\n",
                "# Rimozione delle righe con dati mancanti\n",
                "df_dropped_rows = df_missing.dropna()\n",
                "print(\"\\nDataFrame dopo la rimozione delle righe con dati mancanti:\\n\", df_dropped_rows)\n",
                "# Esempi per tutti i parametri di dropna\n",
                "\n",
                "# Esempio per il parametro 'axis'\n",
                "df_dropped_axis_0 = df_missing.dropna(axis=0)\n",
                "print(\"\\nEsempio per 'axis=0' (rimozione righe):\\n\", df_dropped_axis_0)\n",
                "df_dropped_axis_1 = df_missing.dropna(axis=1)\n",
                "print(\"\\nEsempio per 'axis=1' (rimozione colonne):\\n\", df_dropped_axis_1)\n",
                "\n",
                "# Esempio per il parametro 'how'\n",
                "df_dropped_how_any = df_missing.dropna(how='any')\n",
                "print(\"\\nEsempio per 'how=any' (rimozione se qualsiasi valore è NaN):\\n\", df_dropped_how_any)\n",
                "df_dropped_how_all = df_missing.dropna(how='all')\n",
                "print(\"\\nEsempio per 'how=all' (rimozione se tutti i valori sono NaN):\\n\", df_dropped_how_all)\n",
                "\n",
                "# Esempio per il parametro 'thresh'\n",
                "df_dropped_thresh = df_missing.dropna(thresh=2)\n",
                "print(\"\\nEsempio per 'thresh=2' (almeno 2 valori non-NaN):\\n\", df_dropped_thresh)\n",
                "\n",
                "# Esempio per il parametro 'subset'\n",
                "df_dropped_subset = df_missing.dropna(subset=['A', 'B'])\n",
                "print(\"\\nEsempio per 'subset=['A', 'B']' (considera solo colonne A e B):\\n\", df_dropped_subset)\n",
                "\n",
                "# Esempio per il parametro 'inplace'\n",
                "df_missing.dropna(inplace=True)\n",
                "print(\"\\nEsempio per 'inplace=True' (modifica in loco):\\n\", df_missing)\n",
                "\n",
                "# Rimozione delle colonne con dati mancanti\n",
                "df_dropped_cols = df_missing.dropna(axis=1)\n",
                "print(\"\\nDataFrame dopo la rimozione delle colonne con dati mancanti:\\n\", df_dropped_cols)\n",
                "\n",
                "# Sostituzione dei dati mancanti con un valore specifico\n",
                "df_filled_value = df_missing.fillna(0)\n",
                "print(\"\\nDataFrame dopo la sostituzione dei dati mancanti con 0:\\n\", df_filled_value)\n",
                "\n",
                "# Sostituzione dei dati mancanti con la media della colonna\n",
                "df_filled_mean = df_missing.fillna(df_missing.mean())\n",
                "print(\"\\nDataFrame dopo la sostituzione dei dati mancanti con la media della colonna:\\n\", df_filled_mean)\n",
                "\n",
                "# Interpolazione dei dati mancanti\n",
                "df_interpolated = df_missing.interpolate()\n",
                "print(\"\\nDataFrame dopo l'interpolazione dei dati mancanti:\\n\", df_interpolated)"
            ]
        },
        {
            "cell_type": "markdown",
            "metadata": {},
            "source": [
                "## Sostituzione dei valori\n",
                "La funzione `replace(val_or_list, new_val)` sostituisce un valore o una lista di valori con un altro valore o lista di valori. Nel caso delle liste, devono avere la stessa lunghezza. La funzione restituisce un nuovo frame o una nuova serie, a meno che si passi il parametro `inplace=True`.\n",
                "\n",
                "La funzione `combine_first(pegs)` combina due frame (o due serie). Sostituisce i valori mancanti nell’oggetto frame/serie con i valori corrispondenti nell’oggetto frame/serie passato come argomento. In un certo senso, l’argomento funge da origine dei valori di default."
            ]
        },
        {
            "cell_type": "code",
            "execution_count": 5,
            "metadata": {},
            "outputs": [
                {
                    "name": "stdout",
                    "output_type": "stream",
                    "text": [
                        "Defaulting to user installation because normal site-packages is not writeable\n",
                        "Requirement already satisfied: pandas in c:\\users\\gzile\\appdata\\local\\packages\\pythonsoftwarefoundation.python.3.12_qbz5n2kfra8p0\\localcache\\local-packages\\python312\\site-packages (2.2.3)\n",
                        "Requirement already satisfied: numpy>=1.26.0 in c:\\users\\gzile\\appdata\\local\\packages\\pythonsoftwarefoundation.python.3.12_qbz5n2kfra8p0\\localcache\\local-packages\\python312\\site-packages (from pandas) (1.26.4)\n",
                        "Requirement already satisfied: python-dateutil>=2.8.2 in c:\\users\\gzile\\appdata\\local\\packages\\pythonsoftwarefoundation.python.3.12_qbz5n2kfra8p0\\localcache\\local-packages\\python312\\site-packages (from pandas) (2.9.0.post0)\n",
                        "Requirement already satisfied: pytz>=2020.1 in c:\\users\\gzile\\appdata\\local\\packages\\pythonsoftwarefoundation.python.3.12_qbz5n2kfra8p0\\localcache\\local-packages\\python312\\site-packages (from pandas) (2024.2)\n",
                        "Requirement already satisfied: tzdata>=2022.7 in c:\\users\\gzile\\appdata\\local\\packages\\pythonsoftwarefoundation.python.3.12_qbz5n2kfra8p0\\localcache\\local-packages\\python312\\site-packages (from pandas) (2024.2)\n",
                        "Requirement already satisfied: six>=1.5 in c:\\users\\gzile\\appdata\\local\\packages\\pythonsoftwarefoundation.python.3.12_qbz5n2kfra8p0\\localcache\\local-packages\\python312\\site-packages (from python-dateutil>=2.8.2->pandas) (1.16.0)\n",
                        "Note: you may need to restart the kernel to use updated packages.\n",
                        "DataFrame originale:\n",
                        "    A  B   C\n",
                        "0  1  5   9\n",
                        "1  2  6  10\n",
                        "2  3  7  11\n",
                        "3  4  8  12\n",
                        "\n",
                        "DataFrame dopo replace (1 -> 100):\n",
                        "      A  B   C\n",
                        "0  100  5   9\n",
                        "1    2  6  10\n",
                        "2    3  7  11\n",
                        "3    4  8  12\n",
                        "\n",
                        "DataFrame dopo replace ([1, 2, 3] -> [100, 200, 300]):\n",
                        "      A  B   C\n",
                        "0  100  5   9\n",
                        "1  200  6  10\n",
                        "2  300  7  11\n",
                        "3    4  8  12\n",
                        "\n",
                        "DataFrame 1 con valori mancanti:\n",
                        "      A    B\n",
                        "0  1.0  NaN\n",
                        "1  NaN  2.0\n",
                        "2  3.0  NaN\n",
                        "3  NaN  4.0\n",
                        "\n",
                        "DataFrame 2:\n",
                        "    A   B\n",
                        "0  5   9\n",
                        "1  6  10\n",
                        "2  7  11\n",
                        "3  8  12\n",
                        "\n",
                        "DataFrame dopo combine_first:\n",
                        "      A     B\n",
                        "0  1.0   9.0\n",
                        "1  6.0   2.0\n",
                        "2  3.0  11.0\n",
                        "3  8.0   4.0\n"
                    ]
                }
            ],
            "source": [
                "%pip install pandas\n",
                "import pandas as pd\n",
                "\n",
                "# Creazione di un DataFrame di esempio\n",
                "df_replace = pd.DataFrame({\n",
                "    'A': [1, 2, 3, 4],\n",
                "    'B': [5, 6, 7, 8],\n",
                "    'C': [9, 10, 11, 12]\n",
                "})\n",
                "print(\"DataFrame originale:\\n\", df_replace)\n",
                "\n",
                "# Esempio di replace\n",
                "df_replace_val = df_replace.replace(1, 100)\n",
                "print(\"\\nDataFrame dopo replace (1 -> 100):\\n\", df_replace_val)\n",
                "\n",
                "df_replace_list = df_replace.replace([1, 2, 3], [100, 200, 300])\n",
                "print(\"\\nDataFrame dopo replace ([1, 2, 3] -> [100, 200, 300]):\\n\", df_replace_list)\n",
                "\n",
                "# Creazione di un DataFrame con valori mancanti\n",
                "df_combine_first_1 = pd.DataFrame({\n",
                "    'A': [1, None, 3, None],\n",
                "    'B': [None, 2, None, 4]\n",
                "})\n",
                "df_combine_first_2 = pd.DataFrame({\n",
                "    'A': [5, 6, 7, 8],\n",
                "    'B': [9, 10, 11, 12]\n",
                "})\n",
                "print(\"\\nDataFrame 1 con valori mancanti:\\n\", df_combine_first_1)\n",
                "print(\"\\nDataFrame 2:\\n\", df_combine_first_2)\n",
                "\n",
                "# Esempio di combine_first\n",
                "df_combined = df_combine_first_1.combine_first(df_combine_first_2)\n",
                "print(\"\\nDataFrame dopo combine_first:\\n\", df_combined)"
            ]
        },
        {
            "cell_type": "markdown",
            "metadata": {},
            "source": [
                "## Combinare i dati\n",
                "Una volta che i vostri dati si trovano in una serie o frame, potete aver bisogno di combinarli per prepararli per ulteriori elaborazioni, in quanto alcuni dati potrebbero trovarsi in un frame e altri in un altro frame. pandas offre alcune funzioni per unire e concatenare i frame.\n",
                "\n",
                "### Unione\n",
                "\n",
                "Unire dei frame è un po’ come unire le tabelle di un database: pandas combina le righe aventi indici identici (o valori identici in altre colonne designate) dai frame a sinistra e a destra. Quando esiste una sola corrispondenza nel frame a destra per ogni riga del frame a sinistra, si parla di unione uno-a-uno. Quando invece esiste più di una corrispondenza, si parla di unione uno-a-molti. In tal caso, pandas replica le righe del frame a sinistra in base alla necessità e la replicazione può provocare la duplicazione delle righe (ma vedremo come risolvere questo problema prima della fine di questa Unità). Quando vi sono più corrispondenze per più righe in entrambi i frame, si parla di unione molti-a-molti e, anche in questo caso, pandas replica le righe in base alle necessità e inserisce negli spazi vuoti dei numpy.nan. Se entrambi i frame hanno una colonna con lo stesso nome (la colonna chiave), potete unire i frame sulla base di tale colonna."
            ]
        },
        {
            "cell_type": "code",
            "execution_count": 7,
            "metadata": {},
            "outputs": [
                {
                    "name": "stdout",
                    "output_type": "stream",
                    "text": [
                        "DataFrame 1:\n",
                        "     A   B   C   D\n",
                        "0  A0  B0  C0  D0\n",
                        "1  A1  B1  C1  D1\n",
                        "2  A2  B2  C2  D2\n",
                        "3  A3  B3  C3  D3\n",
                        "\n",
                        "DataFrame 2:\n",
                        "     A   B   C   D\n",
                        "4  A4  B4  C4  D4\n",
                        "5  A5  B5  C5  D5\n",
                        "6  A6  B6  C6  D6\n",
                        "7  A7  B7  C7  D7\n",
                        "\n",
                        "DataFrame concatenato:\n",
                        "     A   B   C   D\n",
                        "0  A0  B0  C0  D0\n",
                        "1  A1  B1  C1  D1\n",
                        "2  A2  B2  C2  D2\n",
                        "3  A3  B3  C3  D3\n",
                        "4  A4  B4  C4  D4\n",
                        "5  A5  B5  C5  D5\n",
                        "6  A6  B6  C6  D6\n",
                        "7  A7  B7  C7  D7\n",
                        "\n",
                        "DataFrame left:\n",
                        "   key   A   B\n",
                        "0  K0  A0  B0\n",
                        "1  K1  A1  B1\n",
                        "2  K2  A2  B2\n",
                        "3  K3  A3  B3\n",
                        "\n",
                        "DataFrame right:\n",
                        "   key   C   D\n",
                        "0  K0  C0  D0\n",
                        "1  K1  C1  D1\n",
                        "2  K2  C2  D2\n",
                        "3  K3  C3  D3\n",
                        "\n",
                        "DataFrame unito (uno-a-uno):\n",
                        "   key   A   B   C   D\n",
                        "0  K0  A0  B0  C0  D0\n",
                        "1  K1  A1  B1  C1  D1\n",
                        "2  K2  A2  B2  C2  D2\n",
                        "3  K3  A3  B3  C3  D3\n",
                        "\n",
                        "DataFrame left (uno-a-molti):\n",
                        "   key   A\n",
                        "0  K0  A0\n",
                        "1  K1  A1\n",
                        "2  K2  A2\n",
                        "\n",
                        "DataFrame right (uno-a-molti):\n",
                        "   key   B\n",
                        "0  K0  B0\n",
                        "1  K1  B1\n",
                        "2  K2  B2\n",
                        "3  K0  B3\n",
                        "4  K1  B4\n",
                        "5  K2  B5\n",
                        "\n",
                        "DataFrame unito (uno-a-molti):\n",
                        "   key   A   B\n",
                        "0  K0  A0  B0\n",
                        "1  K0  A0  B3\n",
                        "2  K1  A1  B1\n",
                        "3  K1  A1  B4\n",
                        "4  K2  A2  B2\n",
                        "5  K2  A2  B5\n",
                        "\n",
                        "DataFrame left (molti-a-molti):\n",
                        "   key1 key2   A\n",
                        "0   K0   K0  A0\n",
                        "1   K1   K1  A1\n",
                        "2   K2   K0  A2\n",
                        "\n",
                        "DataFrame right (molti-a-molti):\n",
                        "   key1 key2   B\n",
                        "0   K0   K0  B0\n",
                        "1   K1   K0  B1\n",
                        "2   K2   K0  B2\n",
                        "3   K0   K1  B3\n",
                        "4   K1   K1  B4\n",
                        "5   K2   K1  B5\n",
                        "\n",
                        "DataFrame unito (molti-a-molti):\n",
                        "   key1 key2   A   B\n",
                        "0   K0   K0  A0  B0\n",
                        "1   K1   K1  A1  B4\n",
                        "2   K2   K0  A2  B2\n"
                    ]
                }
            ],
            "source": [
                "import pandas as pd\n",
                "\n",
                "# Creazione di due DataFrame di esempio\n",
                "df1 = pd.DataFrame({\n",
                "    'A': ['A0', 'A1', 'A2', 'A3'],\n",
                "    'B': ['B0', 'B1', 'B2', 'B3'],\n",
                "    'C': ['C0', 'C1', 'C2', 'C3'],\n",
                "    'D': ['D0', 'D1', 'D2', 'D3']\n",
                "}, index=[0, 1, 2, 3])\n",
                "\n",
                "df2 = pd.DataFrame({\n",
                "    'A': ['A4', 'A5', 'A6', 'A7'],\n",
                "    'B': ['B4', 'B5', 'B6', 'B7'],\n",
                "    'C': ['C4', 'C5', 'C6', 'C7'],\n",
                "    'D': ['D4', 'D5', 'D6', 'D7']\n",
                "}, index=[4, 5, 6, 7])\n",
                "\n",
                "print(\"DataFrame 1:\\n\", df1)\n",
                "print(\"\\nDataFrame 2:\\n\", df2)\n",
                "\n",
                "# Concatenazione di DataFrame\n",
                "df_concat = pd.concat([df1, df2])\n",
                "print(\"\\nDataFrame concatenato:\\n\", df_concat)\n",
                "\n",
                "# Unione di DataFrame\n",
                "left = pd.DataFrame({\n",
                "    'key': ['K0', 'K1', 'K2', 'K3'],\n",
                "    'A': ['A0', 'A1', 'A2', 'A3'],\n",
                "    'B': ['B0', 'B1', 'B2', 'B3']\n",
                "})\n",
                "\n",
                "right = pd.DataFrame({\n",
                "    'key': ['K0', 'K1', 'K2', 'K3'],\n",
                "    'C': ['C0', 'C1', 'C2', 'C3'],\n",
                "    'D': ['D0', 'D1', 'D2', 'D3']\n",
                "})\n",
                "\n",
                "print(\"\\nDataFrame left:\\n\", left)\n",
                "print(\"\\nDataFrame right:\\n\", right)\n",
                "\n",
                "# Unione uno-a-uno\n",
                "df_merged = pd.merge(left, right, on='key')\n",
                "print(\"\\nDataFrame unito (uno-a-uno):\\n\", df_merged)\n",
                "\n",
                "# Unione uno-a-molti\n",
                "left = pd.DataFrame({\n",
                "    'key': ['K0', 'K1', 'K2'],\n",
                "    'A': ['A0', 'A1', 'A2']\n",
                "})\n",
                "\n",
                "right = pd.DataFrame({\n",
                "    'key': ['K0', 'K1', 'K2', 'K0', 'K1', 'K2'],\n",
                "    'B': ['B0', 'B1', 'B2', 'B3', 'B4', 'B5']\n",
                "})\n",
                "\n",
                "print(\"\\nDataFrame left (uno-a-molti):\\n\", left)\n",
                "print(\"\\nDataFrame right (uno-a-molti):\\n\", right)\n",
                "\n",
                "df_merged_one_to_many = pd.merge(left, right, on='key')\n",
                "print(\"\\nDataFrame unito (uno-a-molti):\\n\", df_merged_one_to_many)\n",
                "\n",
                "# Unione molti-a-molti\n",
                "left = pd.DataFrame({\n",
                "    'key1': ['K0', 'K1', 'K2'],\n",
                "    'key2': ['K0', 'K1', 'K0'],\n",
                "    'A': ['A0', 'A1', 'A2']\n",
                "})\n",
                "\n",
                "right = pd.DataFrame({\n",
                "    'key1': ['K0', 'K1', 'K2', 'K0', 'K1', 'K2'],\n",
                "    'key2': ['K0', 'K0', 'K0', 'K1', 'K1', 'K1'],\n",
                "    'B': ['B0', 'B1', 'B2', 'B3', 'B4', 'B5']\n",
                "})\n",
                "\n",
                "print(\"\\nDataFrame left (molti-a-molti):\\n\", left)\n",
                "print(\"\\nDataFrame right (molti-a-molti):\\n\", right)\n",
                "\n",
                "df_merged_many_to_many = pd.merge(left, right, on=['key1', 'key2'])\n",
                "print(\"\\nDataFrame unito (molti-a-molti):\\n\", df_merged_many_to_many)"
            ]
        },
        {
            "cell_type": "markdown",
            "metadata": {},
            "source": [
                "### Concatenamento dei Dati\n",
                "\n",
                "La funzione `concat()` di pandas consente di concatenare una lista di DataFrame accostandoli fra loro in una delle dimensioni. È possibile concatenare i DataFrame in modo \"verticale\" (asse 0, il default) o \"orizzontale\" (asse 1). La funzione restituisce un nuovo DataFrame risultante dalla concatenazione."
            ]
        },
        {
            "cell_type": "code",
            "execution_count": 8,
            "metadata": {
                "vscode": {
                    "languageId": "ruby"
                }
            },
            "outputs": [
                {
                    "name": "stdout",
                    "output_type": "stream",
                    "text": [
                        "DataFrame 1:\n",
                        "     A   B   C   D\n",
                        "0  A0  B0  C0  D0\n",
                        "1  A1  B1  C1  D1\n",
                        "2  A2  B2  C2  D2\n",
                        "3  A3  B3  C3  D3\n",
                        "\n",
                        "DataFrame 2:\n",
                        "     A   B   C   D\n",
                        "0  A4  B4  C4  D4\n",
                        "1  A5  B5  C5  D5\n",
                        "2  A6  B6  C6  D6\n",
                        "3  A7  B7  C7  D7\n",
                        "\n",
                        "DataFrame concatenato verticalmente:\n",
                        "     A   B   C   D\n",
                        "0  A0  B0  C0  D0\n",
                        "1  A1  B1  C1  D1\n",
                        "2  A2  B2  C2  D2\n",
                        "3  A3  B3  C3  D3\n",
                        "0  A4  B4  C4  D4\n",
                        "1  A5  B5  C5  D5\n",
                        "2  A6  B6  C6  D6\n",
                        "3  A7  B7  C7  D7\n",
                        "\n",
                        "DataFrame concatenato orizzontalmente:\n",
                        "     A   B   C   D   A   B   C   D\n",
                        "0  A0  B0  C0  D0  A4  B4  C4  D4\n",
                        "1  A1  B1  C1  D1  A5  B5  C5  D5\n",
                        "2  A2  B2  C2  D2  A6  B6  C6  D6\n",
                        "3  A3  B3  C3  D3  A7  B7  C7  D7\n",
                        "\n",
                        "DataFrame concatenato con chiavi:\n",
                        "         A   B   C   D\n",
                        "df1 0  A0  B0  C0  D0\n",
                        "    1  A1  B1  C1  D1\n",
                        "    2  A2  B2  C2  D2\n",
                        "    3  A3  B3  C3  D3\n",
                        "df2 0  A4  B4  C4  D4\n",
                        "    1  A5  B5  C5  D5\n",
                        "    2  A6  B6  C6  D6\n",
                        "    3  A7  B7  C7  D7\n",
                        "\n",
                        "DataFrame concatenato con reset dell'indice:\n",
                        "     A   B   C   D\n",
                        "0  A0  B0  C0  D0\n",
                        "1  A1  B1  C1  D1\n",
                        "2  A2  B2  C2  D2\n",
                        "3  A3  B3  C3  D3\n",
                        "4  A4  B4  C4  D4\n",
                        "5  A5  B5  C5  D5\n",
                        "6  A6  B6  C6  D6\n",
                        "7  A7  B7  C7  D7\n",
                        "\n",
                        "DataFrame concatenato con unione degli assi:\n",
                        "     A   B   C   D   E   F\n",
                        "0  A0  B0  C0  D0  E0  F0\n",
                        "1  A1  B1  C1  D1  E1  F1\n",
                        "2  A2  B2  C2  D2  E2  F2\n",
                        "3  A3  B3  C3  D3  E3  F3\n"
                    ]
                }
            ],
            "source": [
                "import pandas as pd\n",
                "\n",
                "# Creazione di due DataFrame di esempio\n",
                "df1 = pd.DataFrame({\n",
                "    'A': ['A0', 'A1', 'A2', 'A3'],\n",
                "    'B': ['B0', 'B1', 'B2', 'B3'],\n",
                "    'C': ['C0', 'C1', 'C2', 'C3'],\n",
                "    'D': ['D0', 'D1', 'D2', 'D3']\n",
                "})\n",
                "\n",
                "df2 = pd.DataFrame({\n",
                "    'A': ['A4', 'A5', 'A6', 'A7'],\n",
                "    'B': ['B4', 'B5', 'B6', 'B7'],\n",
                "    'C': ['C4', 'C5', 'C6', 'C7'],\n",
                "    'D': ['D4', 'D5', 'D6', 'D7']\n",
                "})\n",
                "\n",
                "print(\"DataFrame 1:\\n\", df1)\n",
                "print(\"\\nDataFrame 2:\\n\", df2)\n",
                "\n",
                "# Concatenazione verticale (asse 0)\n",
                "df_concat_vertical = pd.concat([df1, df2])\n",
                "print(\"\\nDataFrame concatenato verticalmente:\\n\", df_concat_vertical)\n",
                "\n",
                "# Concatenazione orizzontale (asse 1)\n",
                "df_concat_horizontal = pd.concat([df1, df2], axis=1)\n",
                "print(\"\\nDataFrame concatenato orizzontalmente:\\n\", df_concat_horizontal)\n",
                "\n",
                "# Concatenazione con chiavi per identificare l'origine dei dati\n",
                "df_concat_keys = pd.concat([df1, df2], keys=['df1', 'df2'])\n",
                "print(\"\\nDataFrame concatenato con chiavi:\\n\", df_concat_keys)\n",
                "\n",
                "# Concatenazione con reset dell'indice\n",
                "df_concat_reset_index = pd.concat([df1, df2], ignore_index=True)\n",
                "print(\"\\nDataFrame concatenato con reset dell'indice:\\n\", df_concat_reset_index)\n",
                "\n",
                "# Concatenazione con unione degli assi\n",
                "df3 = pd.DataFrame({\n",
                "    'E': ['E0', 'E1', 'E2', 'E3'],\n",
                "    'F': ['F0', 'F1', 'F2', 'F3']\n",
                "})\n",
                "\n",
                "df_concat_axis_union = pd.concat([df1, df3], axis=1)\n",
                "print(\"\\nDataFrame concatenato con unione degli assi:\\n\", df_concat_axis_union)"
            ]
        },
        {
            "cell_type": "markdown",
            "metadata": {},
            "source": [
                "## Cancellazione dei Duplicati\n",
                "\n",
                "### Funzione `duplicated()`\n",
                "\n",
                "La funzione `duplicated([subset])` restituisce una serie booleana che indica se la riga corrispondente contiene duplicati considerando tutte le colonne o un loro sottoinsieme specificato tramite il parametro `subset` (una lista di nomi di colonne). Il parametro opzionale `keep` controlla quale duplicato deve essere contrassegnato:\n",
                "- `'first'`: contrassegna come duplicati tutte le occorrenze successive alla prima.\n",
                "- `'last'`: contrassegna come duplicati tutte le occorrenze precedenti all'ultima.\n",
                "- `False`: contrassegna come duplicati tutte le occorrenze.\n",
                "\n",
                "### Funzione `drop_duplicates()`\n",
                "\n",
                "La funzione `drop_duplicates()` restituisce una copia di un DataFrame o di una Series, dopo aver eliminato i duplicati da tutte le colonne o da un loro sottoinsieme specificato tramite il parametro `subset` (una lista di nomi di colonne). Il parametro opzionale `keep` controlla quale duplicato deve essere eliminato:\n",
                "- `'first'`: mantiene la prima occorrenza e rimuove tutte le successive.\n",
                "- `'last'`: mantiene l'ultima occorrenza e rimuove tutte le precedenti.\n",
                "- `False`: rimuove tutte le occorrenze duplicate.\n",
                "\n",
                "Il parametro opzionale `inplace=True` rimuove i duplicati direttamente dall'oggetto originario senza restituire una nuova copia."
            ]
        },
        {
            "cell_type": "code",
            "execution_count": 10,
            "metadata": {},
            "outputs": [
                {
                    "name": "stdout",
                    "output_type": "stream",
                    "text": [
                        "DataFrame originale con duplicati:\n",
                        "      A    B  C\n",
                        "0  foo  one  1\n",
                        "1  bar  one  2\n",
                        "2  foo  two  3\n",
                        "3  bar  two  4\n",
                        "4  foo  one  5\n",
                        "5  bar  one  6\n",
                        "6  foo  two  7\n",
                        "7  foo  two  8\n",
                        "\n",
                        "Duplicati identificati:\n",
                        " 0    False\n",
                        "1    False\n",
                        "2    False\n",
                        "3    False\n",
                        "4    False\n",
                        "5    False\n",
                        "6    False\n",
                        "7    False\n",
                        "dtype: bool\n",
                        "\n",
                        "DataFrame senza duplicati (mantiene la prima occorrenza):\n",
                        "      A    B  C\n",
                        "0  foo  one  1\n",
                        "1  bar  one  2\n",
                        "2  foo  two  3\n",
                        "3  bar  two  4\n",
                        "4  foo  one  5\n",
                        "5  bar  one  6\n",
                        "6  foo  two  7\n",
                        "7  foo  two  8\n",
                        "\n",
                        "DataFrame senza duplicati (mantiene l'ultima occorrenza):\n",
                        "      A    B  C\n",
                        "0  foo  one  1\n",
                        "1  bar  one  2\n",
                        "2  foo  two  3\n",
                        "3  bar  two  4\n",
                        "4  foo  one  5\n",
                        "5  bar  one  6\n",
                        "6  foo  two  7\n",
                        "7  foo  two  8\n",
                        "\n",
                        "DataFrame senza duplicati (rimuove tutte le occorrenze duplicate):\n",
                        "      A    B  C\n",
                        "0  foo  one  1\n",
                        "1  bar  one  2\n",
                        "2  foo  two  3\n",
                        "3  bar  two  4\n",
                        "4  foo  one  5\n",
                        "5  bar  one  6\n",
                        "6  foo  two  7\n",
                        "7  foo  two  8\n",
                        "\n",
                        "DataFrame senza duplicati basata sulla colonna 'A':\n",
                        "      A    B  C\n",
                        "0  foo  one  1\n",
                        "1  bar  one  2\n",
                        "\n",
                        "DataFrame originale dopo la cancellazione dei duplicati in loco:\n",
                        "      A    B  C\n",
                        "0  foo  one  1\n",
                        "1  bar  one  2\n",
                        "2  foo  two  3\n",
                        "3  bar  two  4\n",
                        "4  foo  one  5\n",
                        "5  bar  one  6\n",
                        "6  foo  two  7\n",
                        "7  foo  two  8\n"
                    ]
                }
            ],
            "source": [
                "import pandas as pd\n",
                "\n",
                "# Creazione di un DataFrame di esempio con duplicati\n",
                "df_duplicates = pd.DataFrame({\n",
                "    'A': ['foo', 'bar', 'foo', 'bar', 'foo', 'bar', 'foo', 'foo'],\n",
                "    'B': ['one', 'one', 'two', 'two', 'one', 'one', 'two', 'two'],\n",
                "    'C': [1, 2, 3, 4, 5, 6, 7, 8]\n",
                "})\n",
                "print(\"DataFrame originale con duplicati:\\n\", df_duplicates)\n",
                "\n",
                "# Identificazione dei duplicati\n",
                "duplicates = df_duplicates.duplicated()\n",
                "print(\"\\nDuplicati identificati:\\n\", duplicates)\n",
                "\n",
                "# Cancellazione dei duplicati mantenendo la prima occorrenza\n",
                "df_no_duplicates_first = df_duplicates.drop_duplicates(keep='first')\n",
                "print(\"\\nDataFrame senza duplicati (mantiene la prima occorrenza):\\n\", df_no_duplicates_first)\n",
                "\n",
                "# Cancellazione dei duplicati mantenendo l'ultima occorrenza\n",
                "df_no_duplicates_last = df_duplicates.drop_duplicates(keep='last')\n",
                "print(\"\\nDataFrame senza duplicati (mantiene l'ultima occorrenza):\\n\", df_no_duplicates_last)\n",
                "\n",
                "# Cancellazione di tutte le occorrenze duplicate\n",
                "df_no_duplicates_none = df_duplicates.drop_duplicates(keep=False)\n",
                "print(\"\\nDataFrame senza duplicati (rimuove tutte le occorrenze duplicate):\\n\", df_no_duplicates_none)\n",
                "\n",
                "# Cancellazione dei duplicati basata su una specifica colonna\n",
                "df_no_duplicates_column = df_duplicates.drop_duplicates(subset=['A'])\n",
                "print(\"\\nDataFrame senza duplicati basata sulla colonna 'A':\\n\", df_no_duplicates_column)\n",
                "\n",
                "# Cancellazione dei duplicati in loco\n",
                "df_duplicates.drop_duplicates(inplace=True)\n",
                "print(\"\\nDataFrame originale dopo la cancellazione dei duplicati in loco:\\n\", df_duplicates)"
            ]
        },
        {
            "cell_type": "markdown",
            "metadata": {},
            "source": [
                "## Ordinamento e Classificazione dei Dati\n",
                "\n",
                "Le serie e i frame possono essere ordinati per indice o per valore (o più valori). La funzione `sort_index()` restituisce un frame ordinato in base all’indice (ma non funziona per le serie). \n",
                "L’ordinamento è sempre lessicografico (numerico per i numeri, alfabetico per le stringhe), controllato tramite il parametro `ascending` (valore di default: True). \n",
                "L’opzione `inplace=True`, come sempre, chiede che pandas ordini il frame originario.\n",
                "\n",
                "### Ordinamento per Indice\n",
                "\n",
                "Per ordinare un DataFrame in base all'indice, possiamo utilizzare la funzione `sort_index()`."
            ]
        },
        {
            "cell_type": "code",
            "execution_count": 12,
            "metadata": {},
            "outputs": [
                {
                    "name": "stdout",
                    "output_type": "stream",
                    "text": [
                        "DataFrame originale:\n",
                        "      A  B   C\n",
                        "0  foo  4   7\n",
                        "1  bar  3   8\n",
                        "2  baz  2   9\n",
                        "3  qux  1  10\n",
                        "\n",
                        "DataFrame ordinato per indice:\n",
                        "      A  B   C\n",
                        "0  foo  4   7\n",
                        "1  bar  3   8\n",
                        "2  baz  2   9\n",
                        "3  qux  1  10\n",
                        "\n",
                        "DataFrame ordinato per indice in ordine decrescente:\n",
                        "      A  B   C\n",
                        "3  qux  1  10\n",
                        "2  baz  2   9\n",
                        "1  bar  3   8\n",
                        "0  foo  4   7\n",
                        "\n",
                        "DataFrame ordinato per valori della colonna 'B':\n",
                        "      A  B   C\n",
                        "3  qux  1  10\n",
                        "2  baz  2   9\n",
                        "1  bar  3   8\n",
                        "0  foo  4   7\n",
                        "\n",
                        "DataFrame ordinato per valori della colonna 'B' in ordine decrescente:\n",
                        "      A  B   C\n",
                        "0  foo  4   7\n",
                        "1  bar  3   8\n",
                        "2  baz  2   9\n",
                        "3  qux  1  10\n",
                        "\n",
                        "DataFrame ordinato per valori delle colonne 'A' e 'B':\n",
                        "      A  B   C\n",
                        "1  bar  3   8\n",
                        "2  baz  2   9\n",
                        "0  foo  4   7\n",
                        "3  qux  1  10\n",
                        "\n",
                        "DataFrame con classificazione dei dati:\n",
                        "      A  B   C     Binned\n",
                        "0  foo  4   7       High\n",
                        "1  bar  3   8       High\n",
                        "2  baz  2   9  Very High\n",
                        "3  qux  1  10  Very High\n",
                        "\n",
                        "DataFrame con classificazione dei dati in quantili:\n",
                        "      A  B   C     Binned Quantile\n",
                        "0  foo  4   7       High       Q1\n",
                        "1  bar  3   8       High       Q2\n",
                        "2  baz  2   9  Very High       Q3\n",
                        "3  qux  1  10  Very High       Q4\n"
                    ]
                }
            ],
            "source": [
                "import pandas as pd\n",
                "\n",
                "# Creazione di un DataFrame di esempio\n",
                "df = pd.DataFrame({\n",
                "    'A': ['foo', 'bar', 'baz', 'qux'],\n",
                "    'B': [4, 3, 2, 1],\n",
                "    'C': [7, 8, 9, 10]\n",
                "})\n",
                "print(\"DataFrame originale:\\n\", df)\n",
                "\n",
                "# Ordinamento per indice\n",
                "df_sorted_index = df.sort_index()\n",
                "print(\"\\nDataFrame ordinato per indice:\\n\", df_sorted_index)\n",
                "\n",
                "# Ordinamento per indice in ordine decrescente\n",
                "df_sorted_index_desc = df.sort_index(ascending=False)\n",
                "print(\"\\nDataFrame ordinato per indice in ordine decrescente:\\n\", df_sorted_index_desc)\n",
                "\n",
                "# Ordinamento per valori di una colonna\n",
                "df_sorted_values = df.sort_values(by='B')\n",
                "print(\"\\nDataFrame ordinato per valori della colonna 'B':\\n\", df_sorted_values)\n",
                "\n",
                "# Ordinamento per valori di una colonna in ordine decrescente\n",
                "df_sorted_values_desc = df.sort_values(by='B', ascending=False)\n",
                "print(\"\\nDataFrame ordinato per valori della colonna 'B' in ordine decrescente:\\n\", df_sorted_values_desc)\n",
                "\n",
                "# Ordinamento per valori di più colonne\n",
                "df_sorted_multiple = df.sort_values(by=['A', 'B'])\n",
                "print(\"\\nDataFrame ordinato per valori delle colonne 'A' e 'B':\\n\", df_sorted_multiple)\n",
                "\n",
                "# Classificazione dei dati con cut\n",
                "bins = [0, 2, 4, 6, 8, 10]\n",
                "labels = ['Very Low', 'Low', 'Medium', 'High', 'Very High']\n",
                "df['Binned'] = pd.cut(df['C'], bins=bins, labels=labels)\n",
                "print(\"\\nDataFrame con classificazione dei dati:\\n\", df)\n",
                "\n",
                "# Classificazione dei dati con qcut (quantili)\n",
                "df['Quantile'] = pd.qcut(df['C'], q=4, labels=['Q1', 'Q2', 'Q3', 'Q4'])\n",
                "print(\"\\nDataFrame con classificazione dei dati in quantili:\\n\", df)"
            ]
        },
        {
            "cell_type": "markdown",
            "metadata": {},
            "source": [
                "## Statistica descrittiva \n",
                "Le funzioni di statistica descrittiva calcolano la somma, _sum()_, la media, _mean()_, la mediana, _median()_, la deviazione standard, _std()_, il numero, _count()_ e il minimo e massimo, _min()_ e _max()_ di una serie o di ogni colonna di un frame. \n",
                "Ognuna di esse accetta il parametro booleano skipna, che specifica se i “valori” nan devono essere esclusi dall’analisi e il parametro axis, che dice alla funzione come procedere (vertically o horizontally)."
            ]
        },
        {
            "cell_type": "code",
            "execution_count": 18,
            "metadata": {},
            "outputs": [
                {
                    "name": "stdout",
                    "output_type": "stream",
                    "text": [
                        "DataFrame casuale:\n",
                        "           A         B         C         D\n",
                        "0  1.764052  0.400157  0.978738  2.240893\n",
                        "1  1.867558 -0.977278  0.950088 -0.151357\n",
                        "2 -0.103219  0.410599  0.144044  1.454274\n",
                        "3  0.761038  0.121675  0.443863  0.333674\n",
                        "4  1.494079 -0.205158  0.313068 -0.854096\n",
                        "5 -2.552990  0.653619  0.864436 -0.742165\n",
                        "6  2.269755 -1.454366  0.045759 -0.187184\n",
                        "7  1.532779  1.469359  0.154947  0.378163\n",
                        "8 -0.887786 -1.980796 -0.347912  0.156349\n",
                        "9  1.230291  1.202380 -0.387327 -0.302303\n",
                        "Somma:\n",
                        " B    10\n",
                        "C    34\n",
                        "dtype: int64\n",
                        "Media:\n",
                        " B    2.5\n",
                        "C    8.5\n",
                        "dtype: float64\n",
                        "Mediana:\n",
                        " B    2.5\n",
                        "C    8.5\n",
                        "dtype: float64\n",
                        "Deviazione standard:\n",
                        " B    1.290994\n",
                        "C    1.290994\n",
                        "dtype: float64\n",
                        "Conteggio:\n",
                        " B    4\n",
                        "C    4\n",
                        "dtype: int64\n",
                        "Minimo:\n",
                        " B    1\n",
                        "C    7\n",
                        "dtype: int64\n",
                        "Massimo:\n",
                        " B     4\n",
                        "C    10\n",
                        "dtype: int64\n"
                    ]
                }
            ],
            "source": [
                "import numpy as np\n",
                "\n",
                "# Creazione di un DataFrame casuale\n",
                "np.random.seed(0)\n",
                "df_random = pd.DataFrame(np.random.randn(10, 4), columns=list('ABCD'))\n",
                "print(\"DataFrame casuale:\\n\", df_random)\n",
                "\n",
                "# Escludere le colonne di tipo 'category' e non numeriche\n",
                "df_numeric = df.select_dtypes(include=[np.number])\n",
                "\n",
                "# Calcolare la somma dei valori per ogni colonna\n",
                "print(\"Somma:\\n\", df_numeric.sum(skipna=True, axis=0))\n",
                "\n",
                "# Calcolare la media dei valori per ogni colonna\n",
                "print(\"Media:\\n\", df_numeric.mean(skipna=True, axis=0))\n",
                "\n",
                "# Calcolare la mediana dei valori per ogni colonna\n",
                "print(\"Mediana:\\n\", df_numeric.median(skipna=True, axis=0))\n",
                "\n",
                "# Calcolare la deviazione standard dei valori per ogni colonna\n",
                "print(\"Deviazione standard:\\n\", df_numeric.std(skipna=True, axis=0))\n",
                "\n",
                "# Contare il numero di valori non nulli per ogni colonna\n",
                "print(\"Conteggio:\\n\", df_numeric.count(axis=0))\n",
                "\n",
                "# Trovare il valore minimo per ogni colonna\n",
                "print(\"Minimo:\\n\", df_numeric.min(skipna=True, axis=0))\n",
                "\n",
                "# Trovare il valore massimo per ogni colonna\n",
                "print(\"Massimo:\\n\", df_numeric.max(skipna=True, axis=0))"
            ]
        },
        {
            "cell_type": "markdown",
            "metadata": {},
            "source": [
                "## Unicità, conteggio, appartenenza \n",
                "Anche pandas può trattare le serie (ma non i frame) come insiemi."
            ]
        },
        {
            "cell_type": "code",
            "execution_count": 20,
            "metadata": {},
            "outputs": [
                {
                    "name": "stdout",
                    "output_type": "stream",
                    "text": [
                        "Valori unici:\n",
                        " [ 1  2  3  4  5  6  7  8  9 10]\n",
                        "\n",
                        "Conteggio dei valori:\n",
                        " 1     1\n",
                        "2     1\n",
                        "3     1\n",
                        "4     1\n",
                        "5     1\n",
                        "6     1\n",
                        "7     1\n",
                        "8     1\n",
                        "9     1\n",
                        "10    1\n",
                        "Name: count, dtype: int64\n",
                        "\n",
                        "Appartenenza (1, 3, 5, 7, 9):\n",
                        " 0     True\n",
                        "1    False\n",
                        "2     True\n",
                        "3    False\n",
                        "4     True\n",
                        "5    False\n",
                        "6     True\n",
                        "7    False\n",
                        "8     True\n",
                        "9    False\n",
                        "dtype: bool\n",
                        "\n",
                        "Valori unici nella colonna 'A':\n",
                        " ['foo' 'bar']\n",
                        "\n",
                        "Conteggio dei valori nella colonna 'A':\n",
                        " A\n",
                        "foo    5\n",
                        "bar    3\n",
                        "Name: count, dtype: int64\n",
                        "\n",
                        "Appartenenza nella colonna 'A' ('foo', 'bar'):\n",
                        " 0    True\n",
                        "1    True\n",
                        "2    True\n",
                        "3    True\n",
                        "4    True\n",
                        "5    True\n",
                        "6    True\n",
                        "7    True\n",
                        "Name: A, dtype: bool\n"
                    ]
                }
            ],
            "source": [
                "import pandas as pd\n",
                "\n",
                "# Creazione di una Series di esempio\n",
                "s = pd.Series([1, 2, 3, 4, 5, 6, 7, 8, 9, 10])\n",
                "\n",
                "# Unicità\n",
                "# Restituisce i valori unici nella Series\n",
                "unique_values = s.unique()\n",
                "print(\"Valori unici:\\n\", unique_values)\n",
                "\n",
                "# Conteggio\n",
                "# Restituisce il conteggio di ciascun valore nella Series\n",
                "value_counts = s.value_counts()\n",
                "print(\"\\nConteggio dei valori:\\n\", value_counts)\n",
                "\n",
                "# Appartenenza\n",
                "# Verifica se i valori specificati sono presenti nella Series\n",
                "is_in = s.isin([1, 3, 5, 7, 9])\n",
                "print(\"\\nAppartenenza (1, 3, 5, 7, 9):\\n\", is_in)\n",
                "\n",
                "# Creazione di un DataFrame di esempio\n",
                "df = pd.DataFrame({\n",
                "    'A': ['foo', 'bar', 'foo', 'bar', 'foo', 'bar', 'foo', 'foo'],\n",
                "    'B': ['one', 'one', 'two', 'two', 'one', 'one', 'two', 'two'],\n",
                "    'C': [1, 2, 3, 4, 5, 6, 7, 8]\n",
                "})\n",
                "\n",
                "# Unicità\n",
                "# Restituisce i valori unici nella colonna 'A'\n",
                "unique_values_df = df['A'].unique()\n",
                "print(\"\\nValori unici nella colonna 'A':\\n\", unique_values_df)\n",
                "\n",
                "# Conteggio\n",
                "# Restituisce il conteggio di ciascun valore nella colonna 'A'\n",
                "value_counts_df = df['A'].value_counts()\n",
                "print(\"\\nConteggio dei valori nella colonna 'A':\\n\", value_counts_df)\n",
                "\n",
                "# Appartenenza\n",
                "# Verifica se i valori specificati sono presenti nella colonna 'A'\n",
                "is_in_df = df['A'].isin(['foo', 'bar'])\n",
                "print(\"\\nAppartenenza nella colonna 'A' ('foo', 'bar'):\\n\", is_in_df)"
            ]
        },
        {
            "cell_type": "markdown",
            "metadata": {},
            "source": [
                "## Operazioni aritmetiche \n",
                "pandas supporta le quattro operazioni aritmetiche (somma, sottrazione, moltiplicazione e divisione) e le funzioni universali (ufunc) numpy. \n",
                "Tali operatori e funzioni possono essere usati per combinare frame delle stesse dimensioni e struttura, colonne di frame e serie e anche serie delle stesse dimensioni."
            ]
        },
        {
            "cell_type": "code",
            "execution_count": 23,
            "metadata": {},
            "outputs": [
                {
                    "name": "stdout",
                    "output_type": "stream",
                    "text": [
                        "DataFrame 1:\n",
                        "    A  B\n",
                        "0  1  5\n",
                        "1  2  6\n",
                        "2  3  7\n",
                        "3  4  8\n",
                        "\n",
                        "DataFrame 2:\n",
                        "     A   B\n",
                        "0  10  50\n",
                        "1  20  60\n",
                        "2  30  70\n",
                        "3  40  80\n",
                        "\n",
                        "Somma dei DataFrame:\n",
                        "     A   B\n",
                        "0  11  55\n",
                        "1  22  66\n",
                        "2  33  77\n",
                        "3  44  88\n",
                        "\n",
                        "Sottrazione dei DataFrame:\n",
                        "     A   B\n",
                        "0  -9 -45\n",
                        "1 -18 -54\n",
                        "2 -27 -63\n",
                        "3 -36 -72\n",
                        "\n",
                        "Moltiplicazione dei DataFrame:\n",
                        "      A    B\n",
                        "0   10  250\n",
                        "1   40  360\n",
                        "2   90  490\n",
                        "3  160  640\n",
                        "\n",
                        "Divisione dei DataFrame:\n",
                        "      A    B\n",
                        "0  0.1  0.1\n",
                        "1  0.1  0.1\n",
                        "2  0.1  0.1\n",
                        "3  0.1  0.1\n",
                        "\n",
                        "Series:\n",
                        " 0    1\n",
                        "1    2\n",
                        "2    3\n",
                        "3    4\n",
                        "dtype: int64\n",
                        "\n",
                        "Somma del DataFrame con una Series:\n",
                        "    A   B\n",
                        "0  2   6\n",
                        "1  4   8\n",
                        "2  6  10\n",
                        "3  8  12\n",
                        "\n",
                        "Sottrazione del DataFrame con una Series:\n",
                        "    A  B\n",
                        "0  0  4\n",
                        "1  0  4\n",
                        "2  0  4\n",
                        "3  0  4\n",
                        "\n",
                        "Moltiplicazione del DataFrame con una Series:\n",
                        "     A   B\n",
                        "0   1   5\n",
                        "1   4  12\n",
                        "2   9  21\n",
                        "3  16  32\n",
                        "\n",
                        "Divisione del DataFrame con una Series:\n",
                        "      A         B\n",
                        "0  1.0  5.000000\n",
                        "1  1.0  3.000000\n",
                        "2  1.0  2.333333\n",
                        "3  1.0  2.000000\n",
                        "\n",
                        "Logaritmo naturale del DataFrame:\n",
                        "           A         B\n",
                        "0  0.000000  1.609438\n",
                        "1  0.693147  1.791759\n",
                        "2  1.098612  1.945910\n",
                        "3  1.386294  2.079442\n",
                        "\n",
                        "Logaritmo naturale del DataFrame con una Series:\n",
                        "           A         B\n",
                        "0  0.693147  1.791759\n",
                        "1  1.386294  2.079442\n",
                        "2  1.791759  2.302585\n",
                        "3  2.079442  2.484907\n"
                    ]
                }
            ],
            "source": [
                "import pandas as pd\n",
                "\n",
                "# Creazione di due DataFrame di esempio\n",
                "df1 = pd.DataFrame({\n",
                "    'A': [1, 2, 3, 4],\n",
                "    'B': [5, 6, 7, 8]\n",
                "})\n",
                "\n",
                "df2 = pd.DataFrame({\n",
                "    'A': [10, 20, 30, 40],\n",
                "    'B': [50, 60, 70, 80]\n",
                "})\n",
                "\n",
                "print(\"DataFrame 1:\\n\", df1)\n",
                "print(\"\\nDataFrame 2:\\n\", df2)\n",
                "\n",
                "# Somma\n",
                "df_sum = df1 + df2\n",
                "print(\"\\nSomma dei DataFrame:\\n\", df_sum)\n",
                "\n",
                "# Sottrazione\n",
                "df_sub = df1 - df2\n",
                "print(\"\\nSottrazione dei DataFrame:\\n\", df_sub)\n",
                "\n",
                "# Moltiplicazione\n",
                "df_mul = df1 * df2\n",
                "print(\"\\nMoltiplicazione dei DataFrame:\\n\", df_mul)\n",
                "\n",
                "# Divisione\n",
                "df_div = df1 / df2\n",
                "print(\"\\nDivisione dei DataFrame:\\n\", df_div)\n",
                "\n",
                "# Operazioni aritmetiche con una Series\n",
                "s = pd.Series([1, 2, 3, 4])\n",
                "print(\"\\nSeries:\\n\", s)\n",
                "\n",
                "# Somma con una Series\n",
                "df_sum_series = df1.add(s, axis=0)\n",
                "print(\"\\nSomma del DataFrame con una Series:\\n\", df_sum_series)\n",
                "\n",
                "# Sottrazione con una Series\n",
                "df_sub_series = df1.sub(s, axis=0)\n",
                "print(\"\\nSottrazione del DataFrame con una Series:\\n\", df_sub_series)\n",
                "\n",
                "# Moltiplicazione con una Series\n",
                "df_mul_series = df1.mul(s, axis=0)\n",
                "print(\"\\nMoltiplicazione del DataFrame con una Series:\\n\", df_mul_series)\n",
                "\n",
                "# Divisione con una Series\n",
                "df_div_series = df1.div(s, axis=0)\n",
                "print(\"\\nDivisione del DataFrame con una Series:\\n\", df_div_series)\n",
                "\n",
                "# Operazioni logaritmiche\n",
                "df_log = df1.apply(np.log)\n",
                "print(\"\\nLogaritmo naturale del DataFrame:\\n\", df_log)\n",
                "\n",
                "# Operazioni logaritmiche con una Series\n",
                "df_log_series = df1.apply(lambda x: np.log(x + s))\n",
                "print(\"\\nLogaritmo naturale del DataFrame con una Series:\\n\", df_log_series)\n",
                "\n"
            ]
        },
        {
            "cell_type": "markdown",
            "metadata": {},
            "source": [
                "## Aggregazione dei dati \n",
                "L’aggregazione dei dati è una procedura a tre passi durante la quale i dati vengono suddivisi, aggregati e ricombinati. \n",
                "Nel passo di suddivisione, i dati vengono frammentati sulla base della chiave (o delle chiavi). \n",
                "Nel passo dell’applicazione effettiva, su ogni frammento viene eseguita una funzione di aggregazione (come sum() o count()). \n",
                "Nel passo di ricombinazione, i risultati calcolati vengono ricombinati in una nuova serie o frame.\n",
                "La potenza di pandas risiede nella funzione _groupby()_ e in una ricca collezione di funzioni di aggregazione, che svolgono automaticamente i tre passi elencati, consentendoci di ricevere il risultato in tutta tranquillità."
            ]
        },
        {
            "cell_type": "code",
            "execution_count": 27,
            "metadata": {
                "vscode": {
                    "languageId": "ruby"
                }
            },
            "outputs": [
                {
                    "name": "stdout",
                    "output_type": "stream",
                    "text": [
                        "DataFrame casuale:\n",
                        "           A         B         C         D\n",
                        "0  1.764052  0.400157  0.978738  2.240893\n",
                        "1  1.867558 -0.977278  0.950088 -0.151357\n",
                        "2 -0.103219  0.410599  0.144044  1.454274\n",
                        "3  0.761038  0.121675  0.443863  0.333674\n",
                        "4  1.494079 -0.205158  0.313068 -0.854096\n",
                        "5 -2.552990  0.653619  0.864436 -0.742165\n",
                        "6  2.269755 -1.454366  0.045759 -0.187184\n",
                        "7  1.532779  1.469359  0.154947  0.378163\n",
                        "8 -0.887786 -1.980796 -0.347912  0.156349\n",
                        "9  1.230291  1.202380 -0.387327 -0.302303\n",
                        "Raggruppamento per 'A' e somma dei valori:\n",
                        "       C\n",
                        "A      \n",
                        "bar  12\n",
                        "foo  24\n",
                        "\n",
                        "Raggruppamento per 'A' e media dei valori:\n",
                        "        C\n",
                        "A       \n",
                        "bar  4.0\n",
                        "foo  4.8\n",
                        "\n",
                        "Raggruppamento per 'A' e conteggio delle occorrenze:\n",
                        "      B  C\n",
                        "A        \n",
                        "bar  3  3\n",
                        "foo  5  5\n",
                        "\n",
                        "Raggruppamento per 'A' e somma dei valori nella colonna 'C':\n",
                        " A\n",
                        "bar    12\n",
                        "foo    24\n",
                        "Name: C, dtype: int64\n",
                        "\n",
                        "Raggruppamento per 'A' e 'B' e somma dei valori:\n",
                        "           C\n",
                        "A   B      \n",
                        "bar one   8\n",
                        "    two   4\n",
                        "foo one   6\n",
                        "    two  18\n",
                        "\n",
                        "Raggruppamento per 'A' e applicazione di più funzioni di aggregazione:\n",
                        "       C         \n",
                        "    sum mean max\n",
                        "A               \n",
                        "bar  12  4.0   6\n",
                        "foo  24  4.8   8\n"
                    ]
                }
            ],
            "source": [
                "# Creazione di un DataFrame casuale\n",
                "np.random.seed(0)\n",
                "df_random = pd.DataFrame(np.random.randn(10, 4), columns=list('ABCD'))\n",
                "print(\"DataFrame casuale:\\n\", df_random)\n",
                "\n",
                "# Assicurarsi che la colonna 'C' contenga dati numerici\n",
                "df['C'] = pd.to_numeric(df['C'], errors='coerce')\n",
                "\n",
                "# Raggruppare per la colonna 'A' e calcolare la somma dei valori nelle altre colonne\n",
                "grouped_sum = df.groupby('A').sum(numeric_only=True)\n",
                "print(\"Raggruppamento per 'A' e somma dei valori:\\n\", grouped_sum)\n",
                "\n",
                "# Raggruppare per la colonna 'A' e calcolare la media dei valori nelle altre colonne\n",
                "grouped_mean = df.groupby('A').mean(numeric_only=True)\n",
                "print(\"\\nRaggruppamento per 'A' e media dei valori:\\n\", grouped_mean)\n",
                "\n",
                "# Raggruppare per la colonna 'A' e contare il numero di occorrenze per ogni gruppo\n",
                "grouped_count = df.groupby('A').count()\n",
                "print(\"\\nRaggruppamento per 'A' e conteggio delle occorrenze:\\n\", grouped_count)\n",
                "\n",
                "# Raggruppare per la colonna 'A' e calcolare la somma dei valori nella colonna 'C'\n",
                "grouped_sum_C = df.groupby('A')['C'].sum()\n",
                "print(\"\\nRaggruppamento per 'A' e somma dei valori nella colonna 'C':\\n\", grouped_sum_C)\n",
                "\n",
                "# Raggruppare per le colonne 'A' e 'B' e calcolare la somma dei valori nelle altre colonne\n",
                "grouped_sum_AB = df.groupby(['A', 'B']).sum(numeric_only=True)\n",
                "print(\"\\nRaggruppamento per 'A' e 'B' e somma dei valori:\\n\", grouped_sum_AB)\n",
                "\n",
                "# Raggruppare per la colonna 'A' e applicare più funzioni di aggregazione\n",
                "grouped_agg = df.groupby('A').agg({'C': ['sum', 'mean', 'max']})\n",
                "print(\"\\nRaggruppamento per 'A' e applicazione di più funzioni di aggregazione:\\n\", grouped_agg)"
            ]
        },
        {
            "cell_type": "markdown",
            "metadata": {},
            "source": [
                "## Discretizzazione \n",
                "La **discretizzazione** è il processo di conversione di una variabile continua in una variabile discreta (categorica). Questo è utile per la creazione di istogrammi e per molte tecniche di Machine Learning."
            ]
        },
        {
            "cell_type": "markdown",
            "metadata": {},
            "source": [
                "### Metodo `cut()`\n",
                "La funzione `cut()` di Pandas permette di suddividere una serie numerica in categorie definite.\n",
                "- Il **primo parametro** è l'array o la serie da discretizzare.\n",
                "- Il **secondo parametro** è il numero di categorie o una lista di valori soglia.\n",
                "- La funzione restituisce una serie con categorie ordinate, che possono essere confrontate tra loro."
            ]
        },
        {
            "cell_type": "markdown",
            "metadata": {},
            "source": [
                "## Tabulazione Incrociata con Pandas\n",
                "La **tabulazione incrociata** calcola le frequenze dei gruppi e restituisce un DataFrame dove le righe e le colonne rappresentano i valori di due variabili categoriche (chiamate “fattori”).\n",
                "\n",
                "Questa tecnica è molto utile per l'analisi dei dati, permettendo di individuare relazioni tra variabili categoriali."
            ]
        },
        {
            "cell_type": "markdown",
            "metadata": {},
            "source": [
                "### Metodo `crosstab()`\n",
                "La funzione `pd.crosstab()` in Pandas consente di creare tabelle incrociate tra due variabili.\n",
                "- Il **primo parametro** è la serie delle righe (prima variabile categoriale).\n",
                "- Il **secondo parametro** è la serie delle colonne (seconda variabile categoriale).\n",
                "- Con `margins=True`, Pandas aggiunge i subtotali delle righe e delle colonne."
            ]
        },
        {
            "cell_type": "code",
            "execution_count": null,
            "metadata": {},
            "outputs": [],
            "source": [
                "# Importazione della libreria Pandas\n",
                "import pandas as pd\n",
                "import numpy as np\n",
                "\n",
                "# Creazione di un DataFrame di esempio\n",
                "data = {\n",
                "    'Genere': ['Maschio', 'Femmina', 'Maschio', 'Femmina', 'Maschio', 'Femmina', 'Maschio', 'Femmina'],\n",
                "    'Acquisto': ['Sì', 'No', 'Sì', 'Sì', 'No', 'No', 'Sì', 'No']\n",
                "}\n",
                "\n",
                "df = pd.DataFrame(data)\n",
                "print(\"DataFrame originale:\")\n",
                "print(df)"
            ]
        },
        {
            "cell_type": "markdown",
            "metadata": {},
            "source": [
                "### Tabulazione Incrociata Base\n",
                "Calcoliamo la tabulazione incrociata tra **Genere** e **Acquisto**."
            ]
        },
        {
            "cell_type": "code",
            "execution_count": null,
            "metadata": {},
            "outputs": [],
            "source": [
                "# Creazione della tabella incrociata\n",
                "tabella = pd.crosstab(df['Genere'], df['Acquisto'])\n",
                "print(\"Tabulazione incrociata:\")\n",
                "print(tabella)"
            ]
        },
        {
            "cell_type": "markdown",
            "metadata": {},
            "source": [
                "### Aggiunta dei Totali con `margins=True`\n",
                "Per ottenere i totali per righe e colonne, utilizziamo il parametro `margins=True`."
            ]
        },
        {
            "cell_type": "code",
            "execution_count": null,
            "metadata": {},
            "outputs": [],
            "source": [
                "# Tabulazione con margini (totali per righe e colonne)\n",
                "tabella_con_totali = pd.crosstab(df['Genere'], df['Acquisto'], margins=True)\n",
                "print(\"Tabulazione incrociata con totali:\")\n",
                "print(tabella_con_totali)"
            ]
        },
        {
            "cell_type": "markdown",
            "metadata": {},
            "source": [
                "### Calcolo delle Percentuali\n",
                "Possiamo calcolare la distribuzione relativa trasformando la tabella in percentuali."
            ]
        },
        {
            "cell_type": "code",
            "execution_count": null,
            "metadata": {},
            "outputs": [],
            "source": [
                "# Tabella incrociata con percentuali\n",
                "tabella_percentuale = pd.crosstab(df['Genere'], df['Acquisto'], normalize=True) * 100\n",
                "print(\"Tabulazione incrociata in percentuale:\")\n",
                "print(tabella_percentuale)"
            ]
        },
        {
            "cell_type": "markdown",
            "metadata": {},
            "source": [
                "### Tabulazione Incrociata con più variabili\n",
                "Possiamo espandere l'analisi considerando più di due fattori."
            ]
        },
        {
            "cell_type": "code",
            "execution_count": null,
            "metadata": {},
            "outputs": [],
            "source": [
                "# Aggiunta di una nuova variabile al DataFrame\n",
                "df['Categoria'] = ['A', 'B', 'A', 'A', 'B', 'B', 'A', 'B']\n",
                "\n",
                "# Tabulazione incrociata con tre variabili\n",
                "tabella_multipla = pd.crosstab([df['Genere'], df['Categoria']], df['Acquisto'], margins=True)\n",
                "print(\"Tabulazione incrociata con tre variabili:\")\n",
                "print(tabella_multipla)"
            ]
        },
        {
            "cell_type": "markdown",
            "metadata": {},
            "source": [
                "## I/O File con Pandas\n",
                "Pandas offre potenti strumenti per l'input e l'output di file, consentendo lo scambio di dati tra **DataFrame** e **Serie** e diversi formati di file, come CSV, JSON, file tabulari, file a larghezza fissa e persino gli Appunti del sistema operativo."
            ]
        },
        {
            "cell_type": "markdown",
            "metadata": {},
            "source": [
                "## Funzionalità di Pandas per l'I/O su file\n",
                "Fra le caratteristiche principali di Pandas per la gestione dei file troviamo:\n",
                "- **Indicizzazione automatica** e riconoscimento delle colonne.\n",
                "- **Determinazione automatica del tipo di dati**.\n",
                "- **Gestione dei valori mancanti** e conversione dei dati.\n",
                "- **Supporto per timestamp e analisi temporale**.\n",
                "- **Eliminazione di dati errati o commenti** durante la lettura.\n",
                "- **Suddivisione dei dati in frammenti** per ottimizzare il caricamento."
            ]
        },
        {
            "cell_type": "markdown",
            "metadata": {},
            "source": [
                "## Lettura e Scrittura di File CSV\n",
                "I file CSV sono uno dei formati più comuni per l'importazione e l'esportazione di dati."
            ]
        },
        {
            "cell_type": "code",
            "execution_count": 28,
            "metadata": {},
            "outputs": [
                {
                    "name": "stdout",
                    "output_type": "stream",
                    "text": [
                        "DataFrame letto da CSV:\n",
                        "      Nome  Età   Città\n",
                        "0    Alice   25    Roma\n",
                        "1      Bob   30  Milano\n",
                        "2  Charlie   35  Napoli\n"
                    ]
                }
            ],
            "source": [
                "# Importazione di Pandas\n",
                "import pandas as pd\n",
                "\n",
                "# Creazione di un DataFrame di esempio\n",
                "data = {\n",
                "    'Nome': ['Alice', 'Bob', 'Charlie'],\n",
                "    'Età': [25, 30, 35],\n",
                "    'Città': ['Roma', 'Milano', 'Napoli']\n",
                "}\n",
                "\n",
                "df = pd.DataFrame(data)\n",
                "\n",
                "# Scrittura del DataFrame in un file CSV\n",
                "df.to_csv('dati.csv', index=False)\n",
                "\n",
                "# Lettura del file CSV\n",
                "df_letto = pd.read_csv('dati.csv')\n",
                "print(\"DataFrame letto da CSV:\")\n",
                "print(df_letto)"
            ]
        },
        {
            "cell_type": "code",
            "execution_count": 32,
            "metadata": {},
            "outputs": [
                {
                    "name": "stdout",
                    "output_type": "stream",
                    "text": [
                        "DataFrame letto dall'URL:\n",
                        "   rownames  time  value\n",
                        "0         1  1821    269\n",
                        "1         2  1822    321\n",
                        "2         3  1823    585\n",
                        "3         4  1824    871\n",
                        "4         5  1825   1475\n"
                    ]
                }
            ],
            "source": [
                "# URL del file CSV\n",
                "url = \"http://vincentarelbundock.github.io/Rdatasets/csv/datasets/lynx.csv\"\n",
                "\n",
                "# Lettura del file CSV dall'URL\n",
                "df_url = pd.read_csv(url)\n",
                "print(\"DataFrame letto dall'URL:\")\n",
                "print(df_url.head())"
            ]
        },
        {
            "cell_type": "markdown",
            "metadata": {},
            "source": [
                "## Lettura e Scrittura di File JSON\n",
                "I file JSON sono ampiamente utilizzati per lo scambio di dati tra applicazioni web."
            ]
        },
        {
            "cell_type": "code",
            "execution_count": 30,
            "metadata": {},
            "outputs": [
                {
                    "name": "stdout",
                    "output_type": "stream",
                    "text": [
                        "Defaulting to user installation because normal site-packages is not writeable\n",
                        "Requirement already satisfied: openpyxl in c:\\users\\gzile\\appdata\\local\\packages\\pythonsoftwarefoundation.python.3.12_qbz5n2kfra8p0\\localcache\\local-packages\\python312\\site-packages (3.1.5)\n",
                        "Requirement already satisfied: et-xmlfile in c:\\users\\gzile\\appdata\\local\\packages\\pythonsoftwarefoundation.python.3.12_qbz5n2kfra8p0\\localcache\\local-packages\\python312\\site-packages (from openpyxl) (2.0.0)\n",
                        "DataFrame letto da Excel:\n",
                        "      Nome  Età   Città\n",
                        "0    Alice   25    Roma\n",
                        "1      Bob   30  Milano\n",
                        "2  Charlie   35  Napoli\n"
                    ]
                }
            ],
            "source": [
                "# Installazione di openpyxl se necessario\n",
                "!pip install openpyxl\n",
                "\n",
                "# Scrittura del DataFrame in un file Excel\n",
                "df.to_excel('dati.xlsx', index=False)\n",
                "\n",
                "# Lettura del file Excel\n",
                "df_excel = pd.read_excel('dati.xlsx')\n",
                "print(\"DataFrame letto da Excel:\")\n",
                "print(df_excel)"
            ]
        },
        {
            "cell_type": "markdown",
            "metadata": {},
            "source": [
                "## Lettura e Scrittura di File a Larghezza Fissa\n",
                "Pandas può gestire file a larghezza fissa (FWF) dove le colonne hanno una larghezza predefinita."
            ]
        },
        {
            "cell_type": "code",
            "execution_count": 31,
            "metadata": {},
            "outputs": [
                {
                    "name": "stdout",
                    "output_type": "stream",
                    "text": [
                        "DataFrame letto da file a larghezza fissa:\n",
                        "      Nome Età Città\n",
                        "0      Alice 25 Roma\n",
                        "1      Bob 30 Milano\n",
                        "2  Charlie 35 Napoli\n"
                    ]
                }
            ],
            "source": [
                "# Scrittura del DataFrame in un file a larghezza fissa\n",
                "df.to_csv('dati_fwf.txt', sep=' ', index=False)\n",
                "\n",
                "# Lettura del file a larghezza fissa\n",
                "df_fwf = pd.read_fwf('dati_fwf.txt')\n",
                "print(\"DataFrame letto da file a larghezza fissa:\")\n",
                "print(df_fwf)"
            ]
        },
        {
            "cell_type": "markdown",
            "metadata": {},
            "source": [
                "## Lettura e Scrittura dagli Appunti\n",
                "Pandas permette di leggere e scrivere direttamente dagli appunti di sistema."
            ]
        },
        {
            "cell_type": "code",
            "execution_count": null,
            "metadata": {},
            "outputs": [],
            "source": [
                "# Scrivere un DataFrame negli appunti (può essere incollato in un foglio di calcolo)\n",
                "df.to_clipboard(index=False)\n",
                "print(\"DataFrame copiato negli appunti!\")\n",
                "\n",
                "# Leggere un DataFrame dagli appunti\n",
                "# (dopo aver copiato dati testuali in formato tabellare)\n",
                "# df_clipboard = pd.read_clipboard()\n",
                "# print(\"DataFrame letto dagli appunti:\")\n",
                "# print(df_clipboard)"
            ]
        },
        {
            "cell_type": "markdown",
            "metadata": {},
            "source": [
                "## Gestione dei Dati Mancanti e Conversione dei Tipi\n",
                "Durante la lettura dei file, Pandas può identificare dati mancanti e gestire la conversione dei tipi."
            ]
        },
        {
            "cell_type": "code",
            "execution_count": 33,
            "metadata": {},
            "outputs": [
                {
                    "name": "stdout",
                    "output_type": "stream",
                    "text": [
                        "DataFrame con valori mancanti:\n",
                        "    Nome   Età   Città\n",
                        "0  Alice  25.0    Roma\n",
                        "1    Bob   NaN  Milano\n",
                        "2   None  35.0  Napoli\n",
                        "DataFrame con valori mancanti riempiti:\n",
                        "          Nome          Età   Città\n",
                        "0        Alice         25.0    Roma\n",
                        "1          Bob  Sconosciuto  Milano\n",
                        "2  Sconosciuto         35.0  Napoli\n"
                    ]
                }
            ],
            "source": [
                "# Creazione di un DataFrame con valori mancanti\n",
                "dati_nan = {\n",
                "    'Nome': ['Alice', 'Bob', None],\n",
                "    'Età': [25, None, 35],\n",
                "    'Città': ['Roma', 'Milano', 'Napoli']\n",
                "}\n",
                "\n",
                "df_nan = pd.DataFrame(dati_nan)\n",
                "print(\"DataFrame con valori mancanti:\")\n",
                "print(df_nan)\n",
                "\n",
                "# Riempire i valori mancanti con un valore di default\n",
                "df_filled = df_nan.fillna('Sconosciuto')\n",
                "print(\"DataFrame con valori mancanti riempiti:\")\n",
                "print(df_filled)"
            ]
        },
        {
            "cell_type": "markdown",
            "metadata": {},
            "source": [
                "## Chunking con Pandas\n",
                "Il **chunking** è una tecnica che permette di leggere grandi file tabulari in **frammenti (chunk)**, evitando il caricamento completo in memoria. Questo è particolarmente utile quando si lavora con **file di grandi dimensioni**."
            ]
        },
        {
            "cell_type": "markdown",
            "metadata": {},
            "source": [
                "### Perché usare il Chunking?\n",
                "- Evita il **sovraccarico di memoria** quando si leggono file molto grandi.\n",
                "- Permette di elaborare i dati **a blocchi**, migliorando le prestazioni.\n",
                "- Consente di **filtrare e aggregare** i dati progressivamente senza doverli caricare tutti in una volta.\n",
                "- È utile per **eseguire operazioni iterative** su dataset molto estesi."
            ]
        },
        {
            "cell_type": "markdown",
            "metadata": {},
            "source": [
                "### Lettura di un file CSV a Chunks\n",
                "Pandas permette di leggere file di grandi dimensioni utilizzando il parametro `chunksize`, che definisce il numero di righe da leggere per ogni chunk."
            ]
        },
        {
            "cell_type": "code",
            "execution_count": null,
            "metadata": {},
            "outputs": [],
            "source": [
                "# Importazione della libreria Pandas\n",
                "import pandas as pd\n",
                "\n",
                "# Creazione di un file CSV di esempio\n",
                "data = {\n",
                "    'ID': range(1, 101),\n",
                "    'Nome': [f'Persona_{i}' for i in range(1, 101)],\n",
                "    'Età': [20 + (i % 30) for i in range(1, 101)],\n",
                "    'Città': ['Roma', 'Milano', 'Napoli', 'Torino', 'Firenze'] * 20\n",
                "}\n",
                "df = pd.DataFrame(data)\n",
                "df.to_csv('grande_file.csv', index=False)\n",
                "\n",
                "print(\"File CSV di esempio creato con successo!\")"
            ]
        },
        {
            "cell_type": "markdown",
            "metadata": {},
            "source": [
                "### Lettura del file a blocchi (Chunking)\n",
                "Ora leggiamo il file CSV in piccoli blocchi da 20 righe alla volta."
            ]
        },
        {
            "cell_type": "code",
            "execution_count": null,
            "metadata": {},
            "outputs": [],
            "source": [
                "# Lettura del file CSV a chunk di 20 righe\n",
                "chunksize = 20\n",
                "for chunk in pd.read_csv('grande_file.csv', chunksize=chunksize):\n",
                "    print(chunk)\n",
                "    print(\"-\" * 40)"
            ]
        },
        {
            "cell_type": "markdown",
            "metadata": {},
            "source": [
                "### Elaborazione progressiva con Chunking\n",
                "Possiamo usare il chunking per calcolare aggregati progressivamente, senza dover caricare l'intero dataset in memoria."
            ]
        },
        {
            "cell_type": "code",
            "execution_count": null,
            "metadata": {},
            "outputs": [],
            "source": [
                "# Calcolo progressivo dell'età media con Chunking\n",
                "somma_eta = 0\n",
                "conteggio = 0\n",
                "\n",
                "for chunk in pd.read_csv('grande_file.csv', chunksize=chunksize):\n",
                "    somma_eta += chunk['Età'].sum()\n",
                "    conteggio += chunk['Età'].count()\n",
                "\n",
                "eta_media = somma_eta / conteggio\n",
                "print(f\"Età media calcolata progressivamente: {eta_media:.2f}\")"
            ]
        },
        {
            "cell_type": "markdown",
            "metadata": {},
            "source": [
                "### Filtraggio dei dati durante la lettura\n",
                "Possiamo filtrare i dati direttamente durante la lettura per estrarre solo le informazioni rilevanti."
            ]
        },
        {
            "cell_type": "code",
            "execution_count": null,
            "metadata": {},
            "outputs": [],
            "source": [
                "# Selezioniamo solo le persone con età superiore a 40 anni\n",
                "for chunk in pd.read_csv('grande_file.csv', chunksize=chunksize):\n",
                "    filtro = chunk[chunk['Età'] > 40]\n",
                "    print(filtro)\n",
                "    print(\"-\" * 40)"
            ]
        }
    ],
    "metadata": {
        "kernelspec": {
            "display_name": "Python 3",
            "language": "python",
            "name": "python3"
        },
        "language_info": {
            "codemirror_mode": {
                "name": "ipython",
                "version": 3
            },
            "file_extension": ".py",
            "mimetype": "text/x-python",
            "name": "python",
            "nbconvert_exporter": "python",
            "pygments_lexer": "ipython3",
            "version": "3.12.9"
        }
    },
    "nbformat": 4,
    "nbformat_minor": 4
}
