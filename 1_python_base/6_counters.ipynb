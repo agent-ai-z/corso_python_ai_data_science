{
 "cells": [
  {
   "cell_type": "markdown",
   "metadata": {},
   "source": [
    "# Contatori in Python\n",
    "Il modulo `collections` fornisce `Counter`, una sottoclasse di `dict` che aiuta a contare gli elementi in una sequenza in modo efficiente."
   ]
  },
  {
   "cell_type": "code",
   "execution_count": 1,
   "metadata": {},
   "outputs": [
    {
     "name": "stdout",
     "output_type": "stream",
     "text": [
      "Counter({'banana': 3, 'apple': 2, 'orange': 1})\n"
     ]
    }
   ],
   "source": [
    "# Importazione di Counter\n",
    "from collections import Counter\n",
    "\n",
    "# Creazione di un Counter da una lista\n",
    "my_list = [\"apple\", \"banana\", \"apple\", \"orange\", \"banana\", \"banana\"]\n",
    "counter = Counter(my_list)\n",
    "print(counter)  # Output: Counter({'banana': 3, 'apple': 2, 'orange': 1})"
   ]
  },
  {
   "cell_type": "code",
   "execution_count": 2,
   "metadata": {},
   "outputs": [
    {
     "name": "stdout",
     "output_type": "stream",
     "text": [
      "Counter({'i': 4, 's': 4, 'p': 2, 'm': 1})\n"
     ]
    }
   ],
   "source": [
    "# Creazione di un Counter da una stringa\n",
    "text = \"mississippi\"\n",
    "char_count = Counter(text)\n",
    "print(char_count)  # Output: Counter({'i': 4, 's': 4, 'p': 2, 'm': 1})"
   ]
  },
  {
   "cell_type": "code",
   "execution_count": 3,
   "metadata": {},
   "outputs": [
    {
     "name": "stdout",
     "output_type": "stream",
     "text": [
      "[('banana', 3), ('apple', 2)]\n"
     ]
    }
   ],
   "source": [
    "# Accesso agli elementi più comuni\n",
    "print(counter.most_common(2))  # Output: [('banana', 3), ('apple', 2)]"
   ]
  },
  {
   "cell_type": "code",
   "execution_count": 4,
   "metadata": {},
   "outputs": [
    {
     "name": "stdout",
     "output_type": "stream",
     "text": [
      "Counter({'apple': 4, 'banana': 3, 'orange': 1, 'grape': 1})\n"
     ]
    }
   ],
   "source": [
    "# Aggiornare un Counter con nuovi elementi\n",
    "counter.update([\"apple\", \"apple\", \"grape\"])\n",
    "print(counter)  # Output: Counter({'apple': 4, 'banana': 3, 'orange': 1, 'grape': 1})"
   ]
  },
  {
   "cell_type": "code",
   "execution_count": 5,
   "metadata": {},
   "outputs": [
    {
     "name": "stdout",
     "output_type": "stream",
     "text": [
      "Counter({'apple': 3, 'banana': 2, 'orange': 1, 'grape': 1})\n"
     ]
    }
   ],
   "source": [
    "# Sottrarre elementi da un Counter\n",
    "counter.subtract([\"apple\", \"banana\"])\n",
    "print(counter)  # Output: Counter({'apple': 3, 'banana': 2, 'orange': 1, 'grape': 1})"
   ]
  },
  {
   "cell_type": "code",
   "execution_count": 6,
   "metadata": {},
   "outputs": [
    {
     "name": "stdout",
     "output_type": "stream",
     "text": [
      "{'apple': 3, 'banana': 2, 'orange': 1, 'grape': 1}\n"
     ]
    }
   ],
   "source": [
    "# Convertire un Counter in un dizionario normale\n",
    "counter_dict = dict(counter)\n",
    "print(counter_dict)  # Output: {'apple': 3, 'banana': 2, 'orange': 1, 'grape': 1}"
   ]
  },
  {
   "cell_type": "code",
   "execution_count": 7,
   "metadata": {},
   "outputs": [
    {
     "name": "stdout",
     "output_type": "stream",
     "text": [
      "Counter({'a': 4, 'b': 4, 'c': 4})\n",
      "Counter({'a': 2})\n",
      "Counter({'b': 2, 'a': 1, 'c': 1})\n",
      "Counter({'a': 3, 'c': 3, 'b': 2})\n"
     ]
    }
   ],
   "source": [
    "# Operazioni aritmetiche sui Counter\n",
    "c1 = Counter(a=3, b=2, c=1)\n",
    "c2 = Counter(a=1, b=2, c=3)\n",
    "\n",
    "# Somma di Counter\n",
    "print(c1 + c2)  # Output: Counter({'a': 4, 'b': 4, 'c': 4})\n",
    "\n",
    "# Sottrazione di Counter\n",
    "print(c1 - c2)  # Output: Counter({'a': 2})\n",
    "\n",
    "# Intersezione (minimi valori per chiave)\n",
    "print(c1 & c2)  # Output: Counter({'b': 2, 'c': 1})\n",
    "\n",
    "# Unione (massimi valori per chiave)\n",
    "print(c1 | c2)  # Output: Counter({'a': 3, 'b': 2, 'c': 3})"
   ]
  },
  {
   "cell_type": "markdown",
   "metadata": {},
   "source": [
    "### Conclusione\n",
    "Counter è una struttura dati potente e ottimizzata per il conteggio degli elementi. È utile per l'analisi dei dati, il conteggio delle parole e molte altre applicazioni."
   ]
  }
 ],
 "metadata": {
  "kernelspec": {
   "display_name": "Python 3",
   "language": "python",
   "name": "python3"
  },
  "language_info": {
   "codemirror_mode": {
    "name": "ipython",
    "version": 3
   },
   "file_extension": ".py",
   "mimetype": "text/x-python",
   "name": "python",
   "nbconvert_exporter": "python",
   "pygments_lexer": "ipython3",
   "version": "3.12.9"
  }
 },
 "nbformat": 4,
 "nbformat_minor": 4
}
