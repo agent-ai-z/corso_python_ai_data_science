{
 "cells": [
  {
   "cell_type": "markdown",
   "metadata": {},
   "source": [
    "# Dizionari in Python\n",
    "I dizionari sono una struttura dati in Python che memorizza coppie **chiave-valore**. Sono mutabili, non ordinati (fino a Python 3.6) e ottimizzati per la ricerca rapida.\n",
    "Ogni chiave è unica e viene utilizzata per accedere rapidamente ai valori associati. \n",
    "Come chiave può essere usato un qualsiasi oggetto hashable (un numero, un valore booleano, una stringa o una tupla), e chiavi differenti nello stesso dizionario possono appartenere a tipi di dati differenti. Non vi è alcuna restrizione quanto ai tipi di dati dei valori di un dizionario.\n",
    "Anche i dizionari hanno un tempo di ricerca sublineare, O(1).\n"
   ]
  },
  {
   "cell_type": "code",
   "execution_count": 1,
   "metadata": {},
   "outputs": [
    {
     "name": "stdout",
     "output_type": "stream",
     "text": [
      "{'nome': 'Alice', 'età': 25, 'città': 'Roma'}\n"
     ]
    }
   ],
   "source": [
    "# Creazione di un dizionario\n",
    "my_dict = {\"nome\": \"Alice\", \"età\": 25, \"città\": \"Roma\"}\n",
    "print(my_dict)  # Output: {'nome': 'Alice', 'età': 25, 'città': 'Roma'}"
   ]
  },
  {
   "cell_type": "code",
   "execution_count": 2,
   "metadata": {},
   "outputs": [
    {
     "name": "stdout",
     "output_type": "stream",
     "text": [
      "Alice\n",
      "25\n"
     ]
    }
   ],
   "source": [
    "# Accesso ai valori tramite chiave\n",
    "print(my_dict[\"nome\"])  # Output: Alice\n",
    "print(my_dict.get(\"età\"))  # Output: 25"
   ]
  },
  {
   "cell_type": "code",
   "execution_count": 3,
   "metadata": {},
   "outputs": [
    {
     "name": "stdout",
     "output_type": "stream",
     "text": [
      "{'nome': 'Alice', 'età': 26, 'città': 'Roma'}\n"
     ]
    }
   ],
   "source": [
    "# Modifica di un valore\n",
    "my_dict[\"età\"] = 26\n",
    "print(my_dict)  # Output: {'nome': 'Alice', 'età': 26, 'città': 'Roma'}"
   ]
  },
  {
   "cell_type": "code",
   "execution_count": 4,
   "metadata": {},
   "outputs": [
    {
     "name": "stdout",
     "output_type": "stream",
     "text": [
      "{'nome': 'Alice', 'età': 26, 'città': 'Roma', 'professione': 'Ingegnere'}\n"
     ]
    }
   ],
   "source": [
    "# Aggiunta di una nuova coppia chiave-valore\n",
    "my_dict[\"professione\"] = \"Ingegnere\"\n",
    "print(my_dict)  # Output: {'nome': 'Alice', 'età': 26, 'città': 'Roma', 'professione': 'Ingegnere'}"
   ]
  },
  {
   "cell_type": "code",
   "execution_count": 5,
   "metadata": {},
   "outputs": [
    {
     "name": "stdout",
     "output_type": "stream",
     "text": [
      "{'nome': 'Alice', 'età': 26, 'professione': 'Ingegnere'}\n"
     ]
    }
   ],
   "source": [
    "# Rimozione di un elemento\n",
    "del my_dict[\"città\"]\n",
    "print(my_dict)  # Output: {'nome': 'Alice', 'età': 26, 'professione': 'Ingegnere'}"
   ]
  },
  {
   "cell_type": "code",
   "execution_count": 6,
   "metadata": {},
   "outputs": [
    {
     "name": "stdout",
     "output_type": "stream",
     "text": [
      "nome: Alice\n",
      "età: 26\n",
      "professione: Ingegnere\n"
     ]
    }
   ],
   "source": [
    "# Iterazione su un dizionario\n",
    "for chiave, valore in my_dict.items():\n",
    "    print(f\"{chiave}: {valore}\")\n",
    "# Output:\n",
    "# nome: Alice\n",
    "# età: 26\n",
    "# professione: Ingegnere"
   ]
  },
  {
   "cell_type": "code",
   "execution_count": 7,
   "metadata": {},
   "outputs": [
    {
     "name": "stdout",
     "output_type": "stream",
     "text": [
      "True\n",
      "False\n"
     ]
    }
   ],
   "source": [
    "# Verificare se una chiave esiste nel dizionario\n",
    "print(\"nome\" in my_dict)  # Output: True\n",
    "print(\"indirizzo\" in my_dict)  # Output: False"
   ]
  },
  {
   "cell_type": "code",
   "execution_count": 8,
   "metadata": {},
   "outputs": [
    {
     "name": "stdout",
     "output_type": "stream",
     "text": [
      "dict_keys(['nome', 'età', 'professione'])\n",
      "dict_values(['Alice', 26, 'Ingegnere'])\n"
     ]
    }
   ],
   "source": [
    "# Ottenere tutte le chiavi e tutti i valori\n",
    "print(my_dict.keys())  # Output: dict_keys(['nome', 'età', 'professione'])\n",
    "print(my_dict.values())  # Output: dict_values(['Alice', 26, 'Ingegnere'])"
   ]
  },
  {
   "cell_type": "code",
   "execution_count": 9,
   "metadata": {},
   "outputs": [
    {
     "name": "stdout",
     "output_type": "stream",
     "text": [
      "{'nome': 'Bob', 'età': 30, 'città': 'Milano'}\n"
     ]
    }
   ],
   "source": [
    "# Creazione di un dizionario usando dict()\n",
    "another_dict = dict(nome=\"Bob\", età=30, città=\"Milano\")\n",
    "print(another_dict)  # Output: {'nome': 'Bob', 'età': 30, 'città': 'Milano'}"
   ]
  },
  {
   "cell_type": "code",
   "execution_count": 10,
   "metadata": {},
   "outputs": [
    {
     "name": "stdout",
     "output_type": "stream",
     "text": [
      "{'nome': 'sconosciuto', 'età': 'sconosciuto', 'città': 'sconosciuto'}\n"
     ]
    }
   ],
   "source": [
    "# Uso di fromkeys() per creare un dizionario con valori predefiniti\n",
    "keys = [\"nome\", \"età\", \"città\"]\n",
    "default_dict = dict.fromkeys(keys, \"sconosciuto\")\n",
    "print(default_dict)  # Output: {'nome': 'sconosciuto', 'età': 'sconosciuto', 'città': 'sconosciuto'}"
   ]
  },
  {
   "cell_type": "code",
   "execution_count": 11,
   "metadata": {},
   "outputs": [
    {
     "name": "stdout",
     "output_type": "stream",
     "text": [
      "{'nome': 'Alice', 'età': 26, 'professione': 'Ingegnere'}\n"
     ]
    }
   ],
   "source": [
    "# Copia di un dizionario\n",
    "copy_dict = my_dict.copy()\n",
    "print(copy_dict)  # Output: {'nome': 'Alice', 'età': 26, 'professione': 'Ingegnere'}"
   ]
  },
  {
   "cell_type": "code",
   "execution_count": 12,
   "metadata": {},
   "outputs": [
    {
     "name": "stdout",
     "output_type": "stream",
     "text": [
      "{'a': 1, 'b': 3, 'c': 4}\n"
     ]
    }
   ],
   "source": [
    "# Unire due dizionari\n",
    "dict1 = {\"a\": 1, \"b\": 2}\n",
    "dict2 = {\"b\": 3, \"c\": 4}\n",
    "dict1.update(dict2)\n",
    "print(dict1)  # Output: {'a': 1, 'b': 3, 'c': 4}"
   ]
  },
  {
   "cell_type": "code",
   "execution_count": null,
   "metadata": {},
   "outputs": [
    {
     "name": "stdout",
     "output_type": "stream",
     "text": [
      "Alice\n",
      "nome: Alice\n",
      "età: 23\n",
      "voto: 30\n",
      "Voto presente: 30\n"
     ]
    }
   ],
   "source": [
    "# Creazione di un dizionario\n",
    "studente = {\n",
    "    \"nome\": \"Alice\",\n",
    "    \"età\": 22,\n",
    "    \"corso\": \"Informatica\"\n",
    "}\n",
    "\n",
    "# Accesso ai valori\n",
    "print(studente[\"nome\"])  # Output: Alice\n",
    "# Aggiungere/modificare elementi \n",
    "studente[\"voto\"] = 30 \n",
    "studente[\"età\"] = 23\n",
    "\n",
    "# Rimuovere un elemento\n",
    "del studente[\"corso\"]\n",
    "\n",
    "# Iterare sulle chiavi e valori\n",
    "for chiave, valore in studente.items():    \n",
    "   print(f\"{chiave}: {valore}\")\n",
    "\n",
    "# Controllo presenza chiave\n",
    "if \"voto\" in studente:    \n",
    "   print(\"Voto presente:\", studente[\"voto\"])\n"
   ]
  },
  {
   "cell_type": "markdown",
   "metadata": {},
   "source": [
    "### Conclusione\n",
    "I dizionari sono estremamente versatili e vengono utilizzati frequentemente per rappresentare dati strutturati, configurazioni e per il passaggio di parametri nelle funzioni."
   ]
  }
 ],
 "metadata": {
  "kernelspec": {
   "display_name": "Python 3",
   "language": "python",
   "name": "python3"
  },
  "language_info": {
   "codemirror_mode": {
    "name": "ipython",
    "version": 3
   },
   "file_extension": ".py",
   "mimetype": "text/x-python",
   "name": "python",
   "nbconvert_exporter": "python",
   "pygments_lexer": "ipython3",
   "version": "3.12.9"
  }
 },
 "nbformat": 4,
 "nbformat_minor": 4
}
