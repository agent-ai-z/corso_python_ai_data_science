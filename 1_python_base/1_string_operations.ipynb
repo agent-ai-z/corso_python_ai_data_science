{
 "cells": [
  {
   "cell_type": "code",
   "execution_count": 1,
   "id": "len_string",
   "metadata": {},
   "outputs": [
    {
     "name": "stdout",
     "output_type": "stream",
     "text": [
      "13\n"
     ]
    }
   ],
   "source": [
    "# 1. Lunghezza di una stringa\n",
    "s = \"Hello, World!\"\n",
    "print(len(s))  # Output: 13\n"
   ]
  },
  {
   "cell_type": "code",
   "execution_count": 2,
   "id": "str_conversion",
   "metadata": {},
   "outputs": [
    {
     "name": "stdout",
     "output_type": "stream",
     "text": [
      "42\n"
     ]
    }
   ],
   "source": [
    "# 2. Convertire un valore in stringa\n",
    "num = 42\n",
    "print(str(num))  # Output: '42'\n"
   ]
  },
  {
   "cell_type": "code",
   "execution_count": 3,
   "id": "upper_lower",
   "metadata": {},
   "outputs": [
    {
     "name": "stdout",
     "output_type": "stream",
     "text": [
      "HELLO, WORLD!\n",
      "hello, world!\n"
     ]
    }
   ],
   "source": [
    "# 3. Maiuscole e minuscole\n",
    "s = \"Hello, World!\"\n",
    "print(s.upper())  # Output: 'HELLO, WORLD!'\n",
    "print(s.lower())  # Output: 'hello, world!'\n"
   ]
  },
  {
   "cell_type": "code",
   "execution_count": 10,
   "id": "capitalization",
   "metadata": {},
   "outputs": [
    {
     "name": "stdout",
     "output_type": "stream",
     "text": [
      "Hello, world!\n",
      "Hello, World!\n"
     ]
    }
   ],
   "source": [
    "# 4. Capitalizzazione\n",
    "print(s.capitalize())  # Output: 'Hello, world!'\n",
    "print(s.title())  # Output: 'Hello, World!'\n"
   ]
  },
  {
   "cell_type": "code",
   "execution_count": 11,
   "id": "strip_spaces",
   "metadata": {},
   "outputs": [
    {
     "name": "stdout",
     "output_type": "stream",
     "text": [
      "hello\n"
     ]
    }
   ],
   "source": [
    "# 5. Rimuovere spazi all'inizio e alla fine\n",
    "s_spaces = \"  hello  \"\n",
    "print(s_spaces.strip())  # Output: 'hello'\n"
   ]
  },
  {
   "cell_type": "code",
   "execution_count": 12,
   "id": "replace_substring",
   "metadata": {},
   "outputs": [
    {
     "name": "stdout",
     "output_type": "stream",
     "text": [
      "Hello, Python!\n"
     ]
    }
   ],
   "source": [
    "# 6. Sostituire sottostringhe\n",
    "s = \"Hello, World!\"\n",
    "print(s.replace(\"World\", \"Python\"))  # Output: 'Hello, Python!'\n"
   ]
  },
  {
   "cell_type": "code",
   "execution_count": 13,
   "id": "substring_search",
   "metadata": {},
   "outputs": [
    {
     "name": "stdout",
     "output_type": "stream",
     "text": [
      "7\n",
      "7\n"
     ]
    }
   ],
   "source": [
    "# 7. Ricerca di una sottostringa\n",
    "print(s.find(\"World\"))  # Output: 7\n",
    "print(s.index(\"World\")) # Output: 7\n"
   ]
  },
  {
   "cell_type": "code",
   "execution_count": 14,
   "id": "starts_ends_with",
   "metadata": {},
   "outputs": [
    {
     "name": "stdout",
     "output_type": "stream",
     "text": [
      "True\n",
      "False\n"
     ]
    }
   ],
   "source": [
    "# 8. Controllare prefisso/suffisso\n",
    "print(s.startswith(\"Hello\"))  # Output: True\n",
    "print(s.endswith(\"Python\"))   # Output: False\n"
   ]
  },
  {
   "cell_type": "code",
   "execution_count": 6,
   "id": "count_occurrences",
   "metadata": {},
   "outputs": [
    {
     "name": "stdout",
     "output_type": "stream",
     "text": [
      "2\n"
     ]
    }
   ],
   "source": [
    "# 9. Contare occorrenze di una sottostringa\n",
    "print(s.count(\"o\"))  # Output: 2\n"
   ]
  },
  {
   "cell_type": "code",
   "execution_count": 5,
   "id": "split_join",
   "metadata": {},
   "outputs": [
    {
     "name": "stdout",
     "output_type": "stream",
     "text": [
      "['apple', 'banana', 'cherry']\n",
      "Hello World\n"
     ]
    }
   ],
   "source": [
    "# 10. Dividere una stringa in una lista e unirla\n",
    "fruits = \"apple,banana,cherry\"\n",
    "print(fruits.split(\",\"))  # Output: ['apple', 'banana', 'cherry']\n",
    "words = ['Hello', 'World']\n",
    "print(\" \".join(words))  # Output: 'Hello World'\n"
   ]
  },
  {
   "cell_type": "code",
   "execution_count": 2,
   "id": "string_checks",
   "metadata": {},
   "outputs": [
    {
     "name": "stdout",
     "output_type": "stream",
     "text": [
      "True\n",
      "False\n",
      "True\n",
      "True\n"
     ]
    }
   ],
   "source": [
    "# 11. Controlli su stringhe\n",
    "s_digit = \"12345\"\n",
    "s = \"Hello, World!\"\n",
    "print(s_digit.isdigit())  # Output: True\n",
    "print(s.isalpha())  # Output: False\n",
    "print(\"Hello123\".isalnum())  # Output: True\n",
    "print(\"   \".isspace())  # Output: True\n"
   ]
  },
  {
   "cell_type": "code",
   "execution_count": 3,
   "id": "string_formatting",
   "metadata": {},
   "outputs": [
    {
     "name": "stdout",
     "output_type": "stream",
     "text": [
      "My name is Alice and I am 25 years old.\n",
      "My name is Alice and I am 25 years old.\n"
     ]
    }
   ],
   "source": [
    "# 12. Formattazione di stringhe\n",
    "name = \"Alice\"\n",
    "age = 25\n",
    "print(\"My name is {} and I am {} years old.\".format(name, age))\n",
    "print(f\"My name is {name} and I am {age} years old.\")  # f-string\n"
   ]
  },
  {
   "cell_type": "code",
   "execution_count": 4,
   "id": "string_slicing",
   "metadata": {},
   "outputs": [
    {
     "name": "stdout",
     "output_type": "stream",
     "text": [
      "Hello\n",
      "World!\n",
      "!dlroW ,olleH\n"
     ]
    }
   ],
   "source": [
    "# 13. Slicing delle stringhe\n",
    "print(s[0:5])    # Output: 'Hello'\n",
    "print(s[-6:])    # Output: 'World!'\n",
    "print(s[::-1])   # Output: '!dlroW ,olleH'\n"
   ]
  }
 ],
 "metadata": {
  "kernelspec": {
   "display_name": "Python 3",
   "language": "python",
   "name": "python3"
  },
  "language_info": {
   "codemirror_mode": {
    "name": "ipython",
    "version": 3
   },
   "file_extension": ".py",
   "mimetype": "text/x-python",
   "name": "python",
   "nbconvert_exporter": "python",
   "pygments_lexer": "ipython3",
   "version": "3.12.9"
  }
 },
 "nbformat": 4,
 "nbformat_minor": 4
}
