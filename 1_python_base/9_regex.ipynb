{
 "cells": [
  {
   "cell_type": "markdown",
   "metadata": {},
   "source": [
    "# Ricerche a Pattern tramite Espressioni Regolari in Python\n",
    "Le **espressioni regolari (regex)** sono uno strumento potente per la ricerca, la suddivisione e la sostituzione di stringhe in base alla corrispondenza con pattern specifici.\n",
    "\n",
    "Python fornisce il modulo `re` per lavorare con le espressioni regolari."
   ]
  },
  {
   "cell_type": "markdown",
   "metadata": {},
   "source": [
    "## 1. Importazione del modulo `re`\n",
    "Per utilizzare le espressioni regolari, bisogna importare il modulo `re`."
   ]
  },
  {
   "cell_type": "code",
   "execution_count": null,
   "metadata": {},
   "outputs": [],
   "source": [
    "import re  # Importa il modulo delle espressioni regolari"
   ]
  },
  {
   "cell_type": "markdown",
   "metadata": {},
   "source": [
    "## 2. Ricerca di un pattern in una stringa\n",
    "Il metodo `re.search()` cerca un pattern in una stringa e restituisce il primo match trovato."
   ]
  },
  {
   "cell_type": "code",
   "execution_count": null,
   "metadata": {},
   "outputs": [
    {
     "name": "stdout",
     "output_type": "stream",
     "text": [
      "Numero di telefono trovato: 123-456-7890\n"
     ]
    }
   ],
   "source": [
    "testo = \"Il numero di telefono di Marco è 123-456-7890.\"\n",
    "pattern = r\"\\d{3}-\\d{3}-\\d{4}\"  # Pattern per trovare un numero di telefono\n",
    "\n",
    "match = re.search(pattern, testo)\n",
    "if match:\n",
    "    print(\"Numero di telefono trovato:\", match.group())\n",
    "else:\n",
    "    print(\"Nessun numero di telefono trovato.\")"
   ]
  },
  {
   "cell_type": "markdown",
   "metadata": {},
   "source": [
    "## 3. Trovare tutte le occorrenze con `re.findall()`\n",
    "Il metodo `re.findall()` restituisce tutte le corrispondenze di un pattern in una stringa.\n",
    "\n",
    "La variabile pattern contiene il pattern regex utilizzato per identificare gli indirizzi email. \n",
    "Il pattern r\"[\\w.-]+@[\\w.-]+\\.[a-z]{2,}\" è progettato per corrispondere alle strutture tipiche degli indirizzi email:\n",
    "\n",
    "- [\\w.-]+ corrisponde a uno o più caratteri di parola (lettere, cifre e trattini bassi), punti o trattini. Questa parte corrisponde alla parte locale dell'indirizzo email (prima del simbolo @).\n",
    "- @ corrisponde al simbolo @ letterale.\n",
    "- [\\w.-]+ corrisponde di nuovo a uno o più caratteri di parola, punti o trattini, rappresentando il nome di dominio.\n",
    "- \\.[a-z]{2,} corrisponde a un punto seguito da due o più lettere minuscole, che corrisponde al dominio di primo livello (ad esempio, .com, .net, .org).\n",
    "\n",
    "La funzione re.findall viene utilizzata per cercare nella stringa testo tutte le occorrenze che corrispondono al pattern specificato. Restituisce un elenco di tutte le sottostringhe corrispondenti. La variabile matches memorizza questo elenco di indirizzi email trovati."
   ]
  },
  {
   "cell_type": "code",
   "execution_count": null,
   "metadata": {},
   "outputs": [
    {
     "name": "stdout",
     "output_type": "stream",
     "text": [
      "Indirizzi email trovati: ['alice@example.com', 'bob@example.net', 'carol@company.org']\n"
     ]
    }
   ],
   "source": [
    "testo = \"Email di contatto: alice@example.com, bob@example.net, carol@company.org\"\n",
    "pattern = r\"[\\w.-]+@[\\w.-]+\\.[a-z]{2,}\"  # Pattern per trovare indirizzi email\n",
    "matches = re.findall(pattern, testo)\n",
    "print(\"Indirizzi email trovati:\", matches)"
   ]
  },
  {
   "cell_type": "markdown",
   "metadata": {},
   "source": [
    "## 4. Sostituire testo con `re.sub()`\n",
    "Il metodo `re.sub()` permette di sostituire un pattern con un'altra stringa.\n",
    "\n",
    "Il pattern r\"\\d{4}-\\d{4}-\\d{4}-\\d{4}\" è un'espressione regolare (regex) utilizzata per trovare stringhe che corrispondono al formato di un numero di carta di credito suddiviso in gruppi di quattro cifre, separati da trattini. Ecco una spiegazione dettagliata del pattern:\n",
    "\n",
    "- \\d corrisponde a qualsiasi cifra (da 0 a 9).\n",
    "- {4} indica che la cifra precedente (\\d) deve apparire esattamente quattro volte.\n",
    "- \\- corrisponde al carattere trattino letterale.\n",
    "\n",
    "Quindi, il pattern \\d{4}-\\d{4}-\\d{4}-\\d{4} corrisponde a una stringa che ha esattamente quattro gruppi di quattro cifre, ciascuno separato da un trattino. Un esempio di stringa che corrisponde a questo pattern è 1234-5678-9012-3456."
   ]
  },
  {
   "cell_type": "code",
   "execution_count": null,
   "metadata": {},
   "outputs": [
    {
     "name": "stdout",
     "output_type": "stream",
     "text": [
      "Testo anonimizzato: La mia carta di credito è ****-****-****-****.\n"
     ]
    }
   ],
   "source": [
    "testo = \"La mia carta di credito è 1234-5678-9012-3456.\"\n",
    "pattern = r\"\\d{4}-\\d{4}-\\d{4}-\\d{4}\"  # Pattern per trovare un numero di carta di credito\n",
    "\n",
    "masked_text = re.sub(pattern, \"****-****-****-****\", testo)\n",
    "print(\"Testo anonimizzato:\", masked_text)"
   ]
  },
  {
   "cell_type": "markdown",
   "metadata": {},
   "source": [
    "## 5. Suddividere una stringa con `re.split()`\n",
    "Il metodo `re.split()` divide una stringa utilizzando un pattern come delimitatore.\n",
    "\n",
    "Il pattern r\"[,; -]+\" è un'espressione regolare (regex) utilizzata per trovare uno o più caratteri specifici all'interno di una stringa. Ecco una spiegazione dettagliata del pattern:\n",
    "\n",
    "- [ ] definisce un set di caratteri. Qualsiasi carattere all'interno delle parentesi quadre sarà considerato una corrispondenza.\n",
    "- , corrisponde alla virgola.\n",
    "- ; corrisponde al punto e virgola.\n",
    "- (spazio) corrisponde a uno spazio.\n",
    "- \\- corrisponde al trattino.\n",
    "Il segno + dopo le parentesi quadre indica che il pattern deve corrispondere a uno o più dei caratteri specificati nel set.\n",
    "\n",
    "Quindi, il pattern [,; -]+ corrisponde a una sequenza di uno o più caratteri che possono essere una virgola, un punto e virgola, uno spazio o un trattino."
   ]
  },
  {
   "cell_type": "code",
   "execution_count": null,
   "metadata": {},
   "outputs": [
    {
     "name": "stdout",
     "output_type": "stream",
     "text": [
      "Lista di parole: ['parola1', 'parola2', 'parola3', 'parola4']\n"
     ]
    }
   ],
   "source": [
    "testo = \"parola1, parola2; parola3 - parola4\"\n",
    "pattern = r\"[,; -]+\"  # Divide il testo su virgole, punti e virgola, spazi e trattini\n",
    "\n",
    "parole = re.split(pattern, testo)\n",
    "print(\"Lista di parole:\", parole)"
   ]
  },
  {
   "cell_type": "markdown",
   "metadata": {},
   "source": [
    "## 6. Gruppi e Cattura con `re.match()`\n",
    "Il metodo `re.match()` cerca un pattern all'inizio della stringa e permette di catturare gruppi.\n",
    "\n",
    "Il pattern r\"(\\d{2})/(\\d{2})/(\\d{4})\" è un'espressione regolare (regex) utilizzata per trovare date nel formato gg/mm/aaaa. Ecco una spiegazione dettagliata del pattern:\n",
    "\n",
    "- \\d corrisponde a qualsiasi cifra (da 0 a 9).\n",
    "- {2} indica che la cifra precedente (\\d) deve apparire esattamente due volte.\n",
    "- / corrisponde al carattere slash (barra) letterale.\n",
    "- (\\d{2}) è un gruppo di cattura che corrisponde a due cifre, rappresentando il giorno.\n",
    "- (\\d{2}) è un altro gruppo di cattura che corrisponde a due cifre, rappresentando il mese.\n",
    "- (\\d{4}) è un gruppo di cattura che corrisponde a quattro cifre, rappresentando l'anno.\n",
    "\n",
    "Quindi, il pattern (\\d{2})/(\\d{2})/(\\d{4}) corrisponde a una stringa che ha esattamente due cifre, seguite da una barra, altre due cifre, un'altra barra e infine quattro cifre. Un esempio di stringa che corrisponde a questo pattern è 12/05/2023."
   ]
  },
  {
   "cell_type": "code",
   "execution_count": null,
   "metadata": {},
   "outputs": [
    {
     "name": "stdout",
     "output_type": "stream",
     "text": [
      "Giorno: 12, Mese: 06, Anno: 2024\n"
     ]
    }
   ],
   "source": [
    "testo = \"Data: 12/06/2024\"\n",
    "pattern = r\"(\\d{2})/(\\d{2})/(\\d{4})\"  # Pattern per catturare la data\n",
    "\n",
    "match = re.search(pattern, testo)\n",
    "if match:\n",
    "    giorno, mese, anno = match.groups()\n",
    "    print(f\"Giorno: {giorno}, Mese: {mese}, Anno: {anno}\")"
   ]
  },
  {
   "cell_type": "markdown",
   "metadata": {},
   "source": [
    "## 7. Utilizzo dei Flag nelle Espressioni Regolari\n",
    "I flag permettono di modificare il comportamento delle espressioni regolari.\n",
    "- `re.IGNORECASE` (`re.I`): Ignora la distinzione tra maiuscole e minuscole.\n",
    "- `re.MULTILINE` (`re.M`): Considera ogni riga separatamente.\n",
    "- `re.DOTALL` (`re.S`): Il punto `.` cattura anche i caratteri di nuova riga."
   ]
  },
  {
   "cell_type": "code",
   "execution_count": null,
   "metadata": {},
   "outputs": [
    {
     "name": "stdout",
     "output_type": "stream",
     "text": [
      "Occorrenze trovate: ['Python', 'PYTHON']\n"
     ]
    }
   ],
   "source": [
    "testo = \"Python è fantastico!\\nPYTHON è potente!\"\n",
    "pattern = r\"python\"\n",
    "\n",
    "# Ricerca ignorando la distinzione tra maiuscole e minuscole\n",
    "matches = re.findall(pattern, testo, re.IGNORECASE)\n",
    "print(\"Occorrenze trovate:\", matches)"
   ]
  },
  {
   "cell_type": "markdown",
   "metadata": {},
   "source": [
    "## **Tabella dei Pattern Regex**\n",
    "\n",
    "| Pattern | Descrizione | Esempio |\n",
    "|---------|------------|---------|\n",
    "| `.` | Qualsiasi carattere (tranne nuova riga) | `a.c` trova `abc`, `adc`, `a5c` |\n",
    "| `^` | Inizio della stringa | `^Hello` trova `Hello world` |\n",
    "| `$` | Fine della stringa | `world$` trova `Hello world` |\n",
    "| `*` | 0 o più ripetizioni | `ab*` trova `a`, `ab`, `abb`, `abbb` |\n",
    "| `+` | 1 o più ripetizioni | `ab+` trova `ab`, `abb`, `abbb`, ma non `a` |\n",
    "| `?` | 0 o 1 ripetizione | `ab?` trova `a`, `ab`, ma non `abb` |\n",
    "| `{n}` | Esattamente n ripetizioni | `a{3}` trova `aaa` |\n",
    "| `{n,}` | Almeno n ripetizioni | `a{2,}` trova `aa`, `aaa`, `aaaa` |\n",
    "| `{n,m}` | Tra n e m ripetizioni | `a{2,4}` trova `aa`, `aaa`, `aaaa` |\n",
    "| `[]` | Uno qualsiasi tra i caratteri specificati | `[abc]` trova `a`, `b`, `c` |\n",
    "| `[^]` | Qualsiasi carattere esclusi quelli specificati | `[^abc]` trova qualsiasi carattere tranne `a`, `b` o `c` |\n",
    "| `\\d` | Qualsiasi cifra (0-9) | `\\d+` trova `123`, `4567` |\n",
    "| `\\D` | Qualsiasi carattere non numerico | `\\D+` trova `abc`, `!@#` |\n",
    "| `\\w` | Qualsiasi carattere alfanumerico (A-Z, a-z, 0-9, _) | `\\w+` trova `hello_123` |\n",
    "| `\\W` | Qualsiasi carattere non alfanumerico | `\\W+` trova `!@#` |\n",
    "| `\\s` | Qualsiasi spazio bianco (spazio, tab, nuova riga) | `\\s+` trova `   ` (spazi multipli) |\n",
    "| `\\S` | Qualsiasi carattere non spazio bianco | `\\S+` trova `hello` |\n",
    "| `|` | Operatore OR (oppure) | `cat|dog` trova `cat` o `dog` |\n",
    "| `()` | Raggruppamento di espressioni | `(ab)+` trova `ab`, `abab`, `ababab` |\n",
    "| `(?i)` | Modalità case-insensitive | `(?i)hello` trova `hello`, `HELLO`, `HeLLo` |"
   ]
  },
  {
   "cell_type": "markdown",
   "metadata": {},
   "source": []
  },
  {
   "cell_type": "markdown",
   "metadata": {},
   "source": [
    "## Conclusione\n",
    "Le espressioni regolari sono strumenti potenti per la manipolazione di stringhe. In Python, il modulo `re` offre molte funzioni per ricerche avanzate, suddivisione di stringhe e sostituzioni basate su pattern.\n",
    "\n",
    "![meme1](./regex-meme.jpg)\n",
    "---\n",
    "![meme2](./i-see-patterns-theyre-everywhere.jpg)"
   ]
  }
 ],
 "metadata": {
  "kernelspec": {
   "display_name": ".venv",
   "language": "python",
   "name": "python3"
  },
  "language_info": {
   "codemirror_mode": {
    "name": "ipython",
    "version": 3
   },
   "file_extension": ".py",
   "mimetype": "text/x-python",
   "name": "python",
   "nbconvert_exporter": "python",
   "pygments_lexer": "ipython3",
   "version": "3.12.9"
  }
 },
 "nbformat": 4,
 "nbformat_minor": 4
}
