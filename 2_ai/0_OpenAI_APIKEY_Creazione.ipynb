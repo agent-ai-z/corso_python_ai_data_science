{
 "cells": [
  {
   "cell_type": "markdown",
   "id": "aacad8c4",
   "metadata": {},
   "source": [
    "# Creazione e Esportazione di una Chiave API OpenAI"
   ]
  },
  {
   "cell_type": "markdown",
   "id": "1aca6683",
   "metadata": {},
   "source": [
    "## **1. Creare una Chiave API**"
   ]
  },
  {
   "cell_type": "markdown",
   "id": "be5bc282",
   "metadata": {},
   "source": [
    "Per accedere all'API di OpenAI in modo sicuro, devi generare una chiave API.\n",
    "\n",
    "- Vai alla [dashboard OpenAI](https://platform.openai.com/) e crea una nuova chiave API.\n",
    "- **Salva la chiave in un luogo sicuro**, come un file `.zshrc`, `.bashrc`, `.bash_profile` o in un file di testo sicuro."
   ]
  },
  {
   "cell_type": "markdown",
   "id": "81b9353c",
   "metadata": {},
   "source": [
    "## **2. Esportare la Chiave API come Variabile d'Ambiente**"
   ]
  },
  {
   "cell_type": "markdown",
   "id": "f63ddd31",
   "metadata": {},
   "source": [
    "### **Su macOS/Linux**"
   ]
  },
  {
   "cell_type": "code",
   "execution_count": null,
   "id": "17de1400",
   "metadata": {
    "vscode": {
     "languageId": "shellscript"
    }
   },
   "outputs": [],
   "source": [
    "export OPENAI_API_KEY=\"your_api_key_here\""
   ]
  },
  {
   "cell_type": "markdown",
   "id": "e0f57789",
   "metadata": {},
   "source": [
    "### **Su Windows (PowerShell)**"
   ]
  },
  {
   "cell_type": "code",
   "execution_count": null,
   "id": "94eed21a",
   "metadata": {
    "vscode": {
     "languageId": "powershell"
    }
   },
   "outputs": [],
   "source": [
    "Set-Variable -Name OPENAI_API_KEY -Value \"your_api_key_here\""
   ]
  },
  {
   "cell_type": "markdown",
   "id": "6d199951",
   "metadata": {},
   "source": [
    "## **4. Rendere Permanente la Variabile d'Ambiente**"
   ]
  },
  {
   "cell_type": "markdown",
   "id": "5dd26c4d",
   "metadata": {},
   "source": [
    "Per evitare di dover esportare la variabile ogni volta, aggiungila al tuo file di configurazione della shell:"
   ]
  },
  {
   "cell_type": "markdown",
   "id": "e84eed00",
   "metadata": {},
   "source": [
    "### **Su macOS/Linux (zsh/bash)**"
   ]
  },
  {
   "cell_type": "code",
   "execution_count": null,
   "id": "c0bc6ec4",
   "metadata": {
    "vscode": {
     "languageId": "shellscript"
    }
   },
   "outputs": [],
   "source": [
    "echo 'export OPENAI_API_KEY=\"your_api_key_here\"' >> ~/.zshrc  # Se usi Zsh\n",
    "echo 'export OPENAI_API_KEY=\"your_api_key_here\"' >> ~/.bashrc  # Se usi Bash"
   ]
  },
  {
   "cell_type": "markdown",
   "id": "532231d0",
   "metadata": {},
   "source": [
    "Dopo averla aggiunta, esegui `source ~/.zshrc` o `source ~/.bashrc` per applicare le modifiche."
   ]
  },
  {
   "cell_type": "markdown",
   "id": "4039976a",
   "metadata": {},
   "source": [
    "### **Su Windows (PowerShell - Permanente)**"
   ]
  },
  {
   "cell_type": "code",
   "execution_count": null,
   "id": "9371ba36",
   "metadata": {
    "vscode": {
     "languageId": "powershell"
    }
   },
   "outputs": [],
   "source": [
    "[System.Environment]::SetEnvironmentVariable(\"OPENAI_API_KEY\", \"your_api_key_here\", \"User\")"
   ]
  },
  {
   "cell_type": "markdown",
   "id": "4be76cc1",
   "metadata": {},
   "source": [
    "Ora la variabile sarà disponibile ogni volta che apri un nuovo terminale."
   ]
  }
 ],
 "metadata": {
  "language_info": {
   "name": "python"
  }
 },
 "nbformat": 4,
 "nbformat_minor": 5
}
