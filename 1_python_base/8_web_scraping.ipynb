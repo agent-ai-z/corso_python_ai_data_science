{
 "cells": [
  {
   "cell_type": "markdown",
   "metadata": {},
   "source": [
    "# Manipolazione degli URL e Download di Pagine Web in Python\n",
    "Python fornisce il modulo `urllib.request` per scaricare dati dal Web e `urllib.parse` per manipolare gli URL."
   ]
  },
  {
   "cell_type": "markdown",
   "metadata": {},
   "source": [
    "## 1. Scaricare una Pagina Web\n",
    "Utilizziamo `urllib.request.urlopen()` per aprire un URL e leggerne il contenuto."
   ]
  },
  {
   "cell_type": "code",
   "execution_count": 1,
   "metadata": {},
   "outputs": [
    {
     "name": "stdout",
     "output_type": "stream",
     "text": [
      "<html>\n",
      "<head>\n",
      "<title>My Little Network Science Lab</title>\n",
      "<link rel=\"stylesheet\" type=\"text/css\" href=\"style.css\">\n",
      "<meta charset=\"UTF-8\">\n",
      "</head>\n",
      "\n",
      "<body>\n",
      "<h1>My Little Network Science Lab</h1>\n",
      "<h2>By Dmitry Zinoviev</h2>\n",
      "\n",
      "<p>\n",
      "  <table class=hdr><tr><td><h3 class=\"nomargin\">Books</h3></table>\n",
      "  <p>\n",
      "<a href=\"https://pragprog.com/book/dzpyds/data-science-essentials-in-python\"><img src=\"https://imagery.pragprog.com/products/490/dzpyds_xlargecover.jpg?1468006361\" border=1 align=left></a>\n",
      "<a href=\"https://pragprog.com/book/dzcnapy/complex-network-analysis-in-python\"><img src=\"https://imagery.pragprog.com/products/541/dzcnapy_xlargecover.jpg?1508250011\" border=1 align=left></a>\n",
      "\n",
      "\n",
      "I am excited to announce my books, \"Data Science Essentials in Python. Collect →  Organize →  Explore →  Predict →  Value\" (a.k.a. DZPYDS) and \"Complex Network Analysis in Python. Recognize → Construct → Visualize → Analyze → Interpret\" (a.k.a. DZCNAPY), published by the Pragmatic Bookshelf.\n",
      "<p>\n",
      "The <b>first book</b> is intended for seasoned data scientists and statisticians migrating from R to Python, as well as for beginners willing to learn elements of data science in Python.\n",
      "<p>\n",
      "The book leads you from messy, unstructured artifacts stored in SQL and NoSQL databases to a neat, well-organized dataset. It covers text mining, machine learning, and network analysis; processing numeric data with the NumPy and Pandas modules; and describing and analyzing data using statistical and network-theoretical methods. It has actual examples of data analysis at work, as well as mini-projects for you to enjoy. \n",
      "<p>\n",
      "  The <b>second book</b> shows how, starting with simple networks, one can convert real-life and synthetic network graphs into Networkx data structures. The reader will look at more sophisticated networks and learn more powerful machinery to handle centrality calculation, blockmodeling, and clique and community detection. Get familiar with presentation-quality network visualization tools, both programmable and interactive--such as Gephi, a CNA explorer. The reader will  adapt the patterns from the case studies to your problems, explore big networks with NetworKit, a high-performance networkx substitute. Each part in the book gives an overview of a class of networks, includes a practical study of networkx functions and techniques, and concludes with case studies from various fields, including social networking, anthropology, marketing, and sports analytics.\n",
      "<p>\n",
      "  \n",
      "The books are available for purchase at the publisher's site, and on Amazon (<a href=\"https://www.amazon.com/gp/product/1680501844\">DZPYDS</a>, <a href=\"https://www.amazon.com/gp/product/1680502697\">DZCNAPY</a>).\n",
      "<p>\n",
      "<table class=hdr><tr><td><h3 class=\"nomargin\">Presentations</h3></table>\n",
      "<ul>\n",
      "<li><a href=\"http://www.slideshare.net/DmitryZinoviev/networks-of-music-groups-as-success-predictors\">Networks of Music Groups as Success Predictors</a> - Social networks, digital humanities\n",
      "<li><a href=\"http://www.slideshare.net/DmitryZinoviev/workshop-20212296\">Network Science Workshop</a> - General networks\n",
      "<li><a href=\"http://www.slideshare.net/DmitryZinoviev/resilience-in-transactional-networks\">Resilience in Transaction-Oriented Networks</a> - Communication networks\n",
      "<li><a href=\"http://www.slideshare.net/DmitryZinoviev/peer-ratings-in-massive-online-social-networks\">Peer Ratings in Massive Online Social Networks</a> - Social networks\n",
      "<li><a href=\"http://www.slideshare.net/DmitryZinoviev/presentation-31680572\">Semantic Networks of Interests in Online NSSI Communities</a> - Semantic networks\n",
      "<li><a href=\"http://www.slideshare.net/DmitryZinoviev/10-monthsymposiumbeta\">Towards an Ideal Store</a> - Product networks\n",
      "</ul>\n",
      "<table class=hdr><tr><td><h3 class=\"nomargin\">Publications</h3></table>\n",
      "<ul>\n",
      "<li><a href=\"https://media.pragprog.com/newsletters/2016-04-06.html\">D.Zinoviev, \"Analyzing Cultural Domains with Python,\"</a> <i>PragPub</i>, 82, pp. 26-33, Apr 2016\n",
      "<li><a href=\"http://dhj.sagepub.com/content/2/2055207616642118.full\">D. Zinoviev, D. Stefanescu, G. Fireman, and L. Swenson, \"Semantic networks of interests in online non-suicidal self-injury communities,\"</a> <i>Digital Health</i>, doi:10.1177/2055207616642118, SAGE, Apr 2016\n",
      "<li><a href=\"http://www.mitpressjournals.org/doi/abs/10.1162/LEON_a_01271#.VzOvwHUrKzc\">D.Zinoviev, \"The Pain of Complexity,\"</a>, <i>Leonardo</i>, 2016\n",
      "<li><a href=\"http://link.springer.com/chapter/10.1007/978-3-319-16112-9_18\">D.Zinoviev, Z.Zhu, and K.Li, \"Building mini-categories in product networks,\"</a> in <i>Studies in Computational Intelligence</i>, vol. 597, pp. 179-190, Springer, Mar 2015\n",
      "<li><a href=\"http://arxiv.org/abs/1409.6771\">D.Zinoviev, H.Benbrahim, G.Meszoely, and D.Stefanescu, \"Mitigation of delayed management costs in transaction-oriented systems,\"</a> Sep 2014\n",
      "<li><a href=\"http://dl.acm.org/citation.cfm?id=2499974\">D.Zinoviev, H.Benbrahim, G.Meszoely, and D.Stefanescu, \"Simulating resilience in transaction-oriented networks,\"</a> in <i>Proc. Spring Simulation Multi-Conference</i>, (San Diego, CA), Apr. 2013\n",
      "<li><a href=\"http://arxiv.org/abs/1206.5520\">D.Zinoviev, D.Stefanescu, L.Swenson, and G.Fireman, \"Semantic networks of interests in online NSSI communities,\"</a> in <i>Proc. Workshop \"Words and Networks\"</i> (Evanston, IL), June 2012\n",
      "<li><a href=\"http://arxiv.org/abs/1401.6964\">D.Zinoviev and S.Llewelyn, \"Co-Evolution of Friendship and Publishing in Online Blogging Social Networks,\"</a> <i>WebSci-2012</i> (poster)\n",
      "<li><a href=\"http://dl.acm.org/citation.cfm?id=2208181\">D.Zinoviev, \"Information diffusion in social networks,\"</a> in <i>Social Networking and Community Behavior Modeling: Qualitative and Quantitative Measures</i> (M. Safar, ed.), Hershey, PA: IGI Global, Dec. 2011\n",
      "<li><a href=\"http://dl.acm.org/citation.cfm?id=2048377\">D.Zinoviev and V.Duong, \"A game theoretical approach to broadcast  information diffusion in social networks,\"</a> 6. in <i>Proc. 44th Annual Simulation Symp.</i>, (Boston, MA), pp. 47-52, Apr. 2011\n",
      "<li><a href=\"http://dl.acm.org/citation.cfm?id=1999462\">D.Zinoviev and V.Duong, \"A game theoretical approach to modeling full-duplex information dissemination,\"</a> in <i>Proc. Summer Simulation Multi-Conference</i>, (Ottawa, Canada), pp. 358-363, July 2010\n",
      "<li><a href=\"http://arxiv.org/abs/1006.5493\">D.Zinoviev, V.Duong, and H.Zhang, \"A game theoretical approach to modeling information dissemination in social networks,\"</a> in <i>Proc. Int. Multi-Conference on Complexity, Informatics and Cybernetics</i>, vol. I, pp. 407-412, IIIS, Apr. 2010\n",
      "<li><a href=\"http://arxiv.org/abs/0902.4658\">D.Zinoviev and V.Duong, \"Toward Understanding Friendship in Online Social Networks,\"</a> <i>The Intl J. of Technology, Knowledge, and Society</i>, pp. 1-8, May 2009\n",
      "<li><a href=\"http://arxiv.org/abs/0807.3996\">D.Zinoviev, \"Topology and Geometry of Online Social Networks,\"</a> in <i>Proc. 12th World Multi-Conference on Systemics, Cybernetics and Informatics</i>, vol. VI, pp. 138-143, 2008\n",
      "</ul>\n",
      "\n",
      "<table class=hdr><tr><td><h3 class=\"nomargin\">Other Projects</h3></table>\n",
      "<ul>\n",
      "<li><a href=\"/vixi/html5/\">Vixi: The Game of Meaning</a>, produced in collaboration with <a href=\"http://meaningoflife.cherkasova.org/\">Evgenia Cherkasova</a> from Philosophy Department.\n",
      "<li><a href=\"v2.jpg\">All Characters from War and Peace by L.Tolstoy</a>\n",
      "<li><a href=\"bible-networks.pdf\">Mapping the Bible: Social Networks in the Holy Book</a>. A book of graphs.\n",
      "<li><a href=\"wc2014.gif\">FIFA World Cup 2014: Who Beat Whom?</a>\n",
      "<li><a href=\"facebook_spread.gif\">The seed post \"9 American habits I lost when I moved to Germany\" and its 125 \"likes\" and \"shares\" on Facebook</a>. Nodes represent Facebook users, node sizes - number of friends/followers. Two nodes are connected if they are friends/followers and both reacted to the seed post. Red nodes denote shares. The post was originally published at the yellow node.\n",
      "</ul>\n",
      "\n",
      "<table class=hdr><tr><td><h3 class=\"nomargin\">Contacts</h3></table>\n",
      "<ul>\n",
      "  <li><a href=\"mailto:dzinoviev@suffolk.edu\">Email</a>\n",
      "<li><a href=\"https://www.suffolk.edu/academics/faculty/z/i/dmitry-zinoviev\">Suffolk University</a>\n",
      "<li><a href=\"https://scholar.google.com/citations?hl=en&user=j5GjuIkAAAAJ&sortby=pubdate&view_op=list_works&pagesize=100\">Google Scholar</a>\n",
      "<li><a href=\"https://www.linkedin.com/pub/dmitry-zinoviev/4/a78/27b\">LinkedIn</a>\n",
      "<li><a href=\"https://suffolk.academia.edu/DmitryZinoviev\">Academia.edu</a>\n",
      "<li><a href=\"https://www.researchgate.net/profile/Dmitry_Zinoviev\">ResearchGate</a>\n",
      "</ul>\n",
      "</body>\n",
      "\n",
      "</html>\n",
      "\n"
     ]
    }
   ],
   "source": [
    "import urllib.request\n",
    "\n",
    "try:\n",
    "    with urllib.request.urlopen(\"http://www.networksciencelab.com\") as doc:\n",
    "        html = doc.read()\n",
    "        print(html.decode('utf-8'))  # Decodifica il contenuto della pagina\n",
    "except Exception as e:\n",
    "    print(f\"Errore: {e}\")  # Gestione dell'errore se la pagina non è accessibile"
   ]
  },
  {
   "cell_type": "markdown",
   "metadata": {},
   "source": [
    "## 2. Analizzare un URL con `urllib.parse`\n",
    "La funzione `urlparse()` suddivide un URL nei suoi componenti principali."
   ]
  },
  {
   "cell_type": "code",
   "execution_count": 2,
   "metadata": {},
   "outputs": [
    {
     "name": "stdout",
     "output_type": "stream",
     "text": [
      "Schema: http\n",
      "Indirizzo di rete: networksciencelab.com\n",
      "Percorso: /index.html\n",
      "Parametri: param\n",
      "Query: foo=bar\n",
      "Frequenza: content\n"
     ]
    }
   ],
   "source": [
    "import urllib.parse\n",
    "\n",
    "URL = \"http://networksciencelab.com/index.html;param?foo=bar#content\"\n",
    "parsed_url = urllib.parse.urlparse(URL)\n",
    "\n",
    "print(\"Schema:\", parsed_url.scheme)\n",
    "print(\"Indirizzo di rete:\", parsed_url.netloc)\n",
    "print(\"Percorso:\", parsed_url.path)\n",
    "print(\"Parametri:\", parsed_url.params)\n",
    "print(\"Query:\", parsed_url.query)\n",
    "print(\"Frequenza:\", parsed_url.fragment)"
   ]
  },
  {
   "cell_type": "markdown",
   "metadata": {},
   "source": [
    "## 3. Ricostruire un URL con `urlunparse()`\n",
    "La funzione `urlunparse()` permette di costruire un URL a partire dai suoi componenti."
   ]
  },
  {
   "cell_type": "code",
   "execution_count": 3,
   "metadata": {},
   "outputs": [
    {
     "name": "stdout",
     "output_type": "stream",
     "text": [
      "https://www.example.com/index.html?query=value#section1\n"
     ]
    }
   ],
   "source": [
    "url_parts = ('https', 'www.example.com', 'index.html', '', 'query=value', 'section1')\n",
    "rebuilt_url = urllib.parse.urlunparse(url_parts)\n",
    "\n",
    "print(rebuilt_url)  # Output: 'https://www.example.com/index.html?query=value#section1'"
   ]
  },
  {
   "cell_type": "markdown",
   "metadata": {},
   "source": [
    "## 4. Scaricare un File dal Web\n",
    "La funzione `urlretrieve()` permette di scaricare un file direttamente da un URL e salvarlo localmente."
   ]
  },
  {
   "cell_type": "code",
   "execution_count": 4,
   "metadata": {},
   "outputs": [
    {
     "name": "stdout",
     "output_type": "stream",
     "text": [
      "Errore nel download: HTTP Error 404: Not Found\n"
     ]
    }
   ],
   "source": [
    "url = \"https://www.example.com/sample.txt\"\n",
    "filename = \"sample.txt\"\n",
    "\n",
    "try:\n",
    "    urllib.request.urlretrieve(url, filename)\n",
    "    print(f\"File scaricato con successo: {filename}\")\n",
    "except Exception as e:\n",
    "    print(f\"Errore nel download: {e}\")"
   ]
  },
  {
   "cell_type": "markdown",
   "metadata": {},
   "source": [
    "## Conclusione\n",
    "Questi esempi mostrano come interagire con il Web utilizzando Python, effettuando richieste HTTP, analizzando URL e scaricando file."
   ]
  }
 ],
 "metadata": {
  "kernelspec": {
   "display_name": "Python 3",
   "language": "python",
   "name": "python3"
  },
  "language_info": {
   "codemirror_mode": {
    "name": "ipython",
    "version": 3
   },
   "file_extension": ".py",
   "mimetype": "text/x-python",
   "name": "python",
   "nbconvert_exporter": "python",
   "pygments_lexer": "ipython3",
   "version": "3.12.9"
  }
 },
 "nbformat": 4,
 "nbformat_minor": 4
}
