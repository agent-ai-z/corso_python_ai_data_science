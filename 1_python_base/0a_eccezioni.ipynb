{
 "cells": [
  {
   "cell_type": "markdown",
   "id": "8244a871",
   "metadata": {},
   "source": [
    "# Gestione delle Eccezioni in Python"
   ]
  },
  {
   "cell_type": "markdown",
   "id": "a9c2d54f",
   "metadata": {},
   "source": [
    "## **1. Cos'è un'eccezione?**"
   ]
  },
  {
   "cell_type": "markdown",
   "id": "5d32246a",
   "metadata": {},
   "source": [
    "Un'**eccezione** è un evento che interrompe il normale flusso di esecuzione di un programma.\n",
    "\n",
    "Python ha un sistema integrato per gestire gli errori ed evitare che il programma si interrompa improvvisamente."
   ]
  },
  {
   "cell_type": "markdown",
   "id": "f6489451",
   "metadata": {},
   "source": [
    "## **2. Generare un'eccezione**"
   ]
  },
  {
   "cell_type": "markdown",
   "id": "a86f07f2",
   "metadata": {},
   "source": [
    "Esempio di errore generato da una divisione per zero:"
   ]
  },
  {
   "cell_type": "code",
   "execution_count": null,
   "id": "4384a6f3",
   "metadata": {},
   "outputs": [],
   "source": [
    "\n",
    "# Questo codice genera un'eccezione ZeroDivisionError\n",
    "print(10 / 0)\n"
   ]
  },
  {
   "cell_type": "markdown",
   "id": "909d97d2",
   "metadata": {},
   "source": [
    "## **3. Blocchi try-except**"
   ]
  },
  {
   "cell_type": "markdown",
   "id": "5c3d3d96",
   "metadata": {},
   "source": [
    "Il blocco `try-except` permette di gestire le eccezioni senza interrompere il programma.\n",
    "\n",
    "Esempio di gestione di un'eccezione:"
   ]
  },
  {
   "cell_type": "code",
   "execution_count": null,
   "id": "7c8dc3a3",
   "metadata": {},
   "outputs": [],
   "source": [
    "\n",
    "try:\n",
    "    print(10 / 0)  # Questo genera un errore\n",
    "except ZeroDivisionError:\n",
    "    print(\"Errore: Divisione per zero non consentita.\")\n"
   ]
  },
  {
   "cell_type": "markdown",
   "id": "566f0249",
   "metadata": {},
   "source": [
    "## **4. Gestire più eccezioni**"
   ]
  },
  {
   "cell_type": "markdown",
   "id": "72243914",
   "metadata": {},
   "source": [
    "È possibile gestire più tipi di eccezioni utilizzando più blocchi `except` o un'unica eccezione multipla:"
   ]
  },
  {
   "cell_type": "code",
   "execution_count": null,
   "id": "6c7d2b08",
   "metadata": {},
   "outputs": [],
   "source": [
    "\n",
    "try:\n",
    "    num = int(\"abc\")  # Questo genera un ValueError\n",
    "    print(10 / 0)     # Questo genera un ZeroDivisionError\n",
    "except ZeroDivisionError:\n",
    "    print(\"Errore: Divisione per zero.\")\n",
    "except ValueError:\n",
    "    print(\"Errore: Conversione non valida da stringa a intero.\")\n"
   ]
  },
  {
   "cell_type": "markdown",
   "id": "152a4f2e",
   "metadata": {},
   "source": [
    "## **5. Il blocco finally**"
   ]
  },
  {
   "cell_type": "markdown",
   "id": "6e5cc045",
   "metadata": {},
   "source": [
    "Il blocco `finally` viene sempre eseguito, indipendentemente dal verificarsi di un'eccezione."
   ]
  },
  {
   "cell_type": "code",
   "execution_count": null,
   "id": "12479992",
   "metadata": {},
   "outputs": [],
   "source": [
    "\n",
    "try:\n",
    "    print(10 / 0)  # Genera un errore\n",
    "except ZeroDivisionError:\n",
    "    print(\"Errore catturato!\")\n",
    "finally:\n",
    "    print(\"Questa parte viene sempre eseguita.\")\n"
   ]
  },
  {
   "cell_type": "markdown",
   "id": "797db654",
   "metadata": {},
   "source": [
    "## **6. Sollevare un'eccezione personalizzata**"
   ]
  },
  {
   "cell_type": "markdown",
   "id": "491a92a7",
   "metadata": {},
   "source": [
    "Puoi sollevare un'eccezione manualmente con `raise`. Esempio:"
   ]
  },
  {
   "cell_type": "code",
   "execution_count": null,
   "id": "aca2c15d",
   "metadata": {},
   "outputs": [],
   "source": [
    "\n",
    "def verifica_eta(eta):\n",
    "    if eta < 18:\n",
    "        raise ValueError(\"Devi avere almeno 18 anni per accedere.\")\n",
    "    return \"Accesso consentito.\"\n",
    "\n",
    "try:\n",
    "    print(verifica_eta(16))\n",
    "except ValueError as e:\n",
    "    print(f\"Errore: {e}\")\n"
   ]
  },
  {
   "cell_type": "markdown",
   "id": "ed66ba4e",
   "metadata": {},
   "source": [
    "## **7. Definire Eccezioni Personalizzate**"
   ]
  },
  {
   "cell_type": "markdown",
   "id": "f655d2df",
   "metadata": {},
   "source": [
    "Puoi creare una classe per definire un'eccezione personalizzata:"
   ]
  },
  {
   "cell_type": "code",
   "execution_count": null,
   "id": "0e768662",
   "metadata": {},
   "outputs": [],
   "source": [
    "\n",
    "class ErrorePersonalizzato(Exception):\n",
    "    pass\n",
    "\n",
    "try:\n",
    "    raise ErrorePersonalizzato(\"Questo è un errore personalizzato!\")\n",
    "except ErrorePersonalizzato as e:\n",
    "    print(f\"Errore catturato: {e}\")\n"
   ]
  },
  {
   "cell_type": "markdown",
   "id": "47506f01",
   "metadata": {},
   "source": [
    "## **📌 Riassunto**"
   ]
  },
  {
   "cell_type": "markdown",
   "id": "8c428251",
   "metadata": {},
   "source": [
    "✔ **Le eccezioni** servono a gestire gli errori senza interrompere il programma.\n",
    "✔ **Il blocco `try-except`** intercetta e gestisce gli errori.\n",
    "✔ **Il blocco `finally`** viene eseguito sempre, indipendentemente da errori.\n",
    "✔ **`raise`** permette di generare eccezioni personalizzate.\n",
    "✔ **Si possono definire classi di eccezioni personalizzate** per gestire casi specifici."
   ]
  }
 ],
 "metadata": {
  "language_info": {
   "name": "python"
  }
 },
 "nbformat": 4,
 "nbformat_minor": 5
}
