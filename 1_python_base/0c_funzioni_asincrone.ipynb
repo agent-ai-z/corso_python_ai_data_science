{
 "cells": [
  {
   "cell_type": "markdown",
   "id": "ae0d8adc",
   "metadata": {},
   "source": [
    "# **Le Funzioni Asincrone in Python**\n",
    "Le funzioni asincrone in Python vengono gestite grazie al modulo `asyncio` e alla parola chiave `async`. Consentono di eseguire operazioni in modo non bloccante, ideale per compiti come il networking, l'I/O su file o il lavoro con database asincroni.\n",
    "\n",
    "---"
   ]
  },
  {
   "cell_type": "markdown",
   "id": "ac4197ee",
   "metadata": {},
   "source": [
    "## **1. Dichiarazione di una Funzione Asincrona**\n",
    "Per definire una funzione asincrona, si usa la parola chiave `async def`. Questa funzione può contenere chiamate a operazioni asincrone tramite `await`."
   ]
  },
  {
   "cell_type": "code",
   "execution_count": null,
   "id": "6673dd68",
   "metadata": {},
   "outputs": [
    {
     "data": {
      "text/plain": [
       "<Task pending name='Task-5' coro=<saluta() running at C:\\Users\\gzile\\AppData\\Local\\Temp\\ipykernel_2268\\1695032805.py:3>>"
      ]
     },
     "execution_count": 2,
     "metadata": {},
     "output_type": "execute_result"
    },
    {
     "name": "stdout",
     "output_type": "stream",
     "text": [
      "Ciao!\n",
      "Come stai?\n"
     ]
    }
   ],
   "source": [
    "\n",
    "import asyncio\n",
    "\n",
    "async def saluta():\n",
    "    print(\"Ciao!\")\n",
    "    await asyncio.sleep(2)  # Simula un'attesa asincrona di 2 secondi\n",
    "    print(\"Come stai?\")\n",
    "\n",
    "# Eseguire la funzione asincrona\n",
    "asyncio.create_task(saluta())\n"
   ]
  },
  {
   "cell_type": "markdown",
   "id": "e633426d",
   "metadata": {},
   "source": [
    "## **2. Eseguire più funzioni in parallelo**\n",
    "Le funzioni asincrone sono particolarmente utili quando vogliamo eseguire più operazioni contemporaneamente."
   ]
  },
  {
   "cell_type": "code",
   "execution_count": 5,
   "id": "aa1ce113",
   "metadata": {},
   "outputs": [
    {
     "data": {
      "text/plain": [
       "<Task pending name='Task-12' coro=<main() running at C:\\Users\\gzile\\AppData\\Local\\Temp\\ipykernel_2268\\268876880.py:13>>"
      ]
     },
     "execution_count": 5,
     "metadata": {},
     "output_type": "execute_result"
    },
    {
     "name": "stdout",
     "output_type": "stream",
     "text": [
      "Task 1: inizio\n",
      "Task 2: inizio\n",
      "Task 2: fine\n",
      "Task 1: fine\n"
     ]
    }
   ],
   "source": [
    "\n",
    "import asyncio\n",
    "\n",
    "async def task1():\n",
    "    print(\"Task 1: inizio\")\n",
    "    await asyncio.sleep(3)\n",
    "    print(\"Task 1: fine\")\n",
    "\n",
    "async def task2():\n",
    "    print(\"Task 2: inizio\")\n",
    "    await asyncio.sleep(2)\n",
    "    print(\"Task 2: fine\")\n",
    "\n",
    "async def main():\n",
    "    # Eseguire le funzioni in parallelo\n",
    "    await asyncio.gather(task1(), task2())\n",
    "\n",
    "asyncio.create_task(main())\n"
   ]
  },
  {
   "cell_type": "markdown",
   "id": "c069f6e8",
   "metadata": {},
   "source": [
    "## **3. Uso di un loop asincrono con `async for`**\n",
    "Possiamo usare `async for` per iterare su un oggetto asincrono."
   ]
  },
  {
   "cell_type": "code",
   "execution_count": 7,
   "id": "32826d84",
   "metadata": {},
   "outputs": [
    {
     "data": {
      "text/plain": [
       "<Task pending name='Task-15' coro=<stampa_numeri() running at C:\\Users\\gzile\\AppData\\Local\\Temp\\ipykernel_2268\\71210756.py:8>>"
      ]
     },
     "execution_count": 7,
     "metadata": {},
     "output_type": "execute_result"
    },
    {
     "name": "stdout",
     "output_type": "stream",
     "text": [
      "Numero ricevuto: 0\n",
      "Numero ricevuto: 1\n",
      "Numero ricevuto: 2\n",
      "Numero ricevuto: 3\n",
      "Numero ricevuto: 4\n"
     ]
    }
   ],
   "source": [
    "\n",
    "import asyncio\n",
    "\n",
    "async def numeri():\n",
    "    for i in range(5):\n",
    "        await asyncio.sleep(1)  # Simula attesa per ottenere il valore\n",
    "        yield i\n",
    "\n",
    "async def stampa_numeri():\n",
    "    async for numero in numeri():\n",
    "        print(f\"Numero ricevuto: {numero}\")\n",
    "\n",
    "asyncio.create_task(stampa_numeri())\n"
   ]
  },
  {
   "cell_type": "markdown",
   "id": "412b7739",
   "metadata": {},
   "source": [
    "## **4. Uso di `async with` per la gestione delle risorse**\n",
    "Spesso, le operazioni asincrone richiedono la gestione delle risorse, come file o connessioni."
   ]
  },
  {
   "cell_type": "code",
   "execution_count": 10,
   "id": "b15788a8",
   "metadata": {},
   "outputs": [
    {
     "name": "stdout",
     "output_type": "stream",
     "text": [
      "1\n"
     ]
    }
   ],
   "source": [
    "\n",
    "import asyncio\n",
    "\n",
    "class ConnessioneAsync:\n",
    "\n",
    "    a: int\n",
    "    b: int\n",
    "\n",
    "    def __init__(self, a, b):\n",
    "        self.a = a\n",
    "        self.b = b\n",
    "        pass\n",
    "\n",
    "    async def __aenter__(self):\n",
    "        print(\"Connessione aperta\")\n",
    "        await asyncio.sleep(1)\n",
    "        return self\n",
    "\n",
    "    async def __aexit__(self, exc_type, exc, tb):\n",
    "        print(\"Connessione chiusa\")\n",
    "        await asyncio.sleep(1)\n",
    "\n",
    "async def usa_connessione():\n",
    "    async with ConnessioneAsync() as conn:\n",
    "        print(\"Usando la connessione...\")\n",
    "\n",
    "asyncio.create_task(usa_connessione())\n",
    "\n",
    "c = ConnessioneAsync(1, 2)\n",
    "print(c.a)\n"
   ]
  },
  {
   "cell_type": "markdown",
   "id": "e84de179",
   "metadata": {},
   "source": [
    "## **Conclusione**\n",
    "Le funzioni asincrone sono potenti per gestire operazioni I/O senza bloccare l'esecuzione. Riassumendo:\n",
    "- **`async def`** dichiara una funzione asincrona.\n",
    "- **`await`** sospende l'esecuzione fino a quando un'operazione non termina.\n",
    "- **`asyncio.run()`** avvia il loop event-driven di asyncio.\n",
    "- **`asyncio.gather()`** permette di eseguire più operazioni in parallelo.\n",
    "- **`async with`** gestisce le risorse in modo sicuro.\n",
    "\n",
    "Se vuoi un'applicazione pratica, possiamo vedere come implementare un web scraper asincrono o un server HTTP con `aiohttp`! 🚀"
   ]
  }
 ],
 "metadata": {
  "kernelspec": {
   "display_name": ".venv",
   "language": "python",
   "name": "python3"
  },
  "language_info": {
   "codemirror_mode": {
    "name": "ipython",
    "version": 3
   },
   "file_extension": ".py",
   "mimetype": "text/x-python",
   "name": "python",
   "nbconvert_exporter": "python",
   "pygments_lexer": "ipython3",
   "version": "3.12.9"
  }
 },
 "nbformat": 4,
 "nbformat_minor": 5
}
