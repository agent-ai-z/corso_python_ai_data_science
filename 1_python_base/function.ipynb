{
 "cells": [
  {
   "cell_type": "markdown",
   "metadata": {},
   "source": []
  },
  {
   "cell_type": "code",
   "execution_count": null,
   "metadata": {},
   "outputs": [],
   "source": [
    "# Definizione di una funzione che somma due numeri\n",
    "def somma(a, b):\n",
    "    risultato = a + b\n",
    "    return risultato\n",
    "\n",
    "# Chiamata della funzione con argomenti 3 e 5\n",
    "print(somma(3, 5))  # Output: 8"
   ]
  }
 ],
 "metadata": {
  "language_info": {
   "name": "python"
  }
 },
 "nbformat": 4,
 "nbformat_minor": 2
}
