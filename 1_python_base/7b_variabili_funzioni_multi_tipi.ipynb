{
 "cells": [
  {
   "cell_type": "markdown",
   "id": "a918b638",
   "metadata": {},
   "source": [
    "# **Variabili e Funzioni con Multi-Tipi in Python**"
   ]
  },
  {
   "cell_type": "markdown",
   "id": "ab5ae342",
   "metadata": {},
   "source": [
    "## **Variabili con Multi-Tipi**\n",
    "Python è un linguaggio **dinamicamente tipizzato**, il che significa che una variabile può assumere valori di tipi diversi senza dichiararlo esplicitamente."
   ]
  },
  {
   "cell_type": "code",
   "execution_count": null,
   "id": "546dcd72",
   "metadata": {},
   "outputs": [],
   "source": [
    "# Una variabile può cambiare tipo dinamicamente\n",
    "x = 10      # Intero\n",
    "print(type(x))  # Output: <class 'int'>\n",
    "\n",
    "x = \"Ciao\"  # Ora è una stringa\n",
    "print(type(x))  # Output: <class 'str'>\n",
    "\n",
    "x = 3.14    # Ora è un float\n",
    "print(type(x))  # Output: <class 'float'>"
   ]
  },
  {
   "cell_type": "markdown",
   "id": "b14afd3c",
   "metadata": {},
   "source": [
    "## **Type Hinting (Suggerimenti di Tipo)**\n",
    "Python permette di specificare gli **hint di tipo** per migliorare la leggibilità e il controllo del codice."
   ]
  },
  {
   "cell_type": "code",
   "execution_count": null,
   "id": "bc0d9303",
   "metadata": {},
   "outputs": [],
   "source": [
    "x: int = 10\n",
    "y: str = \"Testo\"\n",
    "z: float = 3.14\n",
    "\n",
    "print(type(x), type(y), type(z))"
   ]
  },
  {
   "cell_type": "markdown",
   "id": "a6d8250b",
   "metadata": {},
   "source": [
    "## **Uso dell'operatore `|` per specificare più tipi**\n",
    "A partire da Python 3.10, l'operatore `|` può essere usato al posto di `Union`. È una sintassi più compatta e leggibile."
   ]
  },
  {
   "cell_type": "code",
   "execution_count": null,
   "id": "26970dbd",
   "metadata": {},
   "outputs": [],
   "source": [
    "def somma(a: int | float, b: int | float) -> int | float:\n",
    "    return a + b\n",
    "\n",
    "print(somma(10, 5))      # Output: 15\n",
    "print(somma(2.5, 3.5))   # Output: 6.0"
   ]
  },
  {
   "cell_type": "markdown",
   "id": "091d97d1",
   "metadata": {},
   "source": [
    "## **Variabili con tipi multipli usando `|`**"
   ]
  },
  {
   "cell_type": "code",
   "execution_count": null,
   "id": "59b6e506",
   "metadata": {},
   "outputs": [],
   "source": [
    "x: int | str = 10\n",
    "print(x)   # Output: 10\n",
    "\n",
    "x = \"Testo\"\n",
    "print(x)   # Output: Testo"
   ]
  },
  {
   "cell_type": "markdown",
   "id": "994e30b8",
   "metadata": {},
   "source": [
    "## **Uso di `Union` per accettare più tipi**"
   ]
  },
  {
   "cell_type": "code",
   "execution_count": null,
   "id": "aa9f4c05",
   "metadata": {},
   "outputs": [],
   "source": [
    "from typing import Union\n",
    "\n",
    "def somma(a: Union[int, float], b: Union[int, float]) -> Union[int, float]:\n",
    "    return a + b\n",
    "\n",
    "print(somma(10, 5))      # Output: 15\n",
    "print(somma(2.5, 3.5))   # Output: 6.0"
   ]
  },
  {
   "cell_type": "markdown",
   "id": "a24af083",
   "metadata": {},
   "source": [
    "## **Uso di `Any` per accettare qualsiasi tipo**"
   ]
  },
  {
   "cell_type": "code",
   "execution_count": null,
   "id": "89708641",
   "metadata": {},
   "outputs": [],
   "source": [
    "from typing import Any\n",
    "\n",
    "def stampa_qualunque(valore: Any) -> None:\n",
    "    print(f\"Ricevuto: {valore}, Tipo: {type(valore)}\")\n",
    "\n",
    "stampa_qualunque(42)         # Output: Ricevuto: 42, Tipo: <class 'int'>\n",
    "stampa_qualunque(\"Python\")   # Output: Ricevuto: Python, Tipo: <class 'str'>\n",
    "stampa_qualunque([1, 2, 3])  # Output: Ricevuto: [1, 2, 3], Tipo: <class 'list'>"
   ]
  },
  {
   "cell_type": "markdown",
   "id": "7f4e0392",
   "metadata": {},
   "source": [
    "## **Funzioni con parametri opzionali**"
   ]
  },
  {
   "cell_type": "code",
   "execution_count": null,
   "id": "8841ddf3",
   "metadata": {},
   "outputs": [],
   "source": [
    "from typing import Optional\n",
    "\n",
    "def saluta(nome: Optional[str] = None) -> str:\n",
    "    if nome:\n",
    "        return f\"Ciao, {nome}!\"\n",
    "    return \"Ciao, ospite!\"\n",
    "\n",
    "print(saluta(\"Alice\"))  # Output: Ciao, Alice!\n",
    "print(saluta())         # Output: Ciao, ospite!"
   ]
  },
  {
   "cell_type": "markdown",
   "id": "d8a860ae",
   "metadata": {},
   "source": [
    "## **Esempio con `|` per parametri opzionali**"
   ]
  },
  {
   "cell_type": "code",
   "execution_count": null,
   "id": "14e1f3c9",
   "metadata": {},
   "outputs": [],
   "source": [
    "def saluta(nome: str | None = None) -> str:\n",
    "    if nome:\n",
    "        return f\"Ciao, {nome}!\"\n",
    "    return \"Ciao, ospite!\"\n",
    "\n",
    "print(saluta(\"Alice\"))  # Output: Ciao, Alice!\n",
    "print(saluta())         # Output: Ciao, ospite!"
   ]
  },
  {
   "cell_type": "markdown",
   "id": "be66e261",
   "metadata": {},
   "source": [
    "## **Uso di `overload` per definire più tipi di ritorno**"
   ]
  },
  {
   "cell_type": "code",
   "execution_count": null,
   "id": "c9dff43c",
   "metadata": {},
   "outputs": [],
   "source": [
    "from typing import overload\n",
    "\n",
    "@overload\n",
    "def doppio(valore: int) -> int: ...\n",
    "@overload\n",
    "def doppio(valore: str) -> str: ...\n",
    "\n",
    "def doppio(valore):\n",
    "    return valore * 2\n",
    "\n",
    "print(doppio(10))     # Output: 20\n",
    "print(doppio(\"Ciao\")) # Output: CiaoCiao"
   ]
  },
  {
   "cell_type": "markdown",
   "id": "917dcd63",
   "metadata": {},
   "source": [
    "## **Conclusione**\n",
    "- **Python è dinamicamente tipizzato**, quindi le variabili possono cambiare tipo.\n",
    "- **`|`** è una sintassi moderna per specificare più tipi senza usare `Union`.\n",
    "- **`Union`** permette di specificare più tipi accettabili per una variabile o un parametro.\n",
    "- **`Any`** permette di accettare qualsiasi tipo senza restrizioni.\n",
    "- **`Optional`** consente di specificare parametri che possono essere `None`.\n",
    "- **`@overload`** aiuta a definire funzioni con comportamenti diversi in base ai tipi di input."
   ]
  }
 ],
 "metadata": {},
 "nbformat": 4,
 "nbformat_minor": 5
}