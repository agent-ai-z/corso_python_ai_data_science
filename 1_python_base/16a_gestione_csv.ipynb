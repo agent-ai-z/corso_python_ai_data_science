{
    "cells": [
        {
            "cell_type": "markdown",
            "metadata": {},
            "source": [
                "# Gestione di file CSV con Python\n",
                "Questo notebook fornisce una guida dettagliata su come gestire i file CSV con Python utilizzando le librerie standard e Pandas."
            ]
        },
        {
            "cell_type": "code",
            "execution_count": null,
            "metadata": {
                "vscode": {
                    "languageId": "shellscript"
                }
            },
            "outputs": [
                {
                    "name": "stdout",
                    "output_type": "stream",
                    "text": [
                        "Defaulting to user installation because normal site-packages is not writeable\n",
                        "Requirement already satisfied: pip in c:\\users\\gzile\\appdata\\local\\packages\\pythonsoftwarefoundation.python.3.12_qbz5n2kfra8p0\\localcache\\local-packages\\python312\\site-packages (25.0)\n",
                        "Note: you may need to restart the kernel to use updated packages.\n",
                        "Defaulting to user installation because normal site-packages is not writeableNote: you may need to restart the kernel to use updated packages.\n",
                        "\n",
                        "Requirement already satisfied: pandas in c:\\users\\gzile\\appdata\\local\\packages\\pythonsoftwarefoundation.python.3.12_qbz5n2kfra8p0\\localcache\\local-packages\\python312\\site-packages (2.2.3)\n",
                        "Requirement already satisfied: numpy>=1.26.0 in c:\\users\\gzile\\appdata\\local\\packages\\pythonsoftwarefoundation.python.3.12_qbz5n2kfra8p0\\localcache\\local-packages\\python312\\site-packages (from pandas) (1.26.4)\n",
                        "Requirement already satisfied: python-dateutil>=2.8.2 in c:\\users\\gzile\\appdata\\local\\packages\\pythonsoftwarefoundation.python.3.12_qbz5n2kfra8p0\\localcache\\local-packages\\python312\\site-packages (from pandas) (2.9.0.post0)\n",
                        "Requirement already satisfied: pytz>=2020.1 in c:\\users\\gzile\\appdata\\local\\packages\\pythonsoftwarefoundation.python.3.12_qbz5n2kfra8p0\\localcache\\local-packages\\python312\\site-packages (from pandas) (2024.2)\n",
                        "Requirement already satisfied: tzdata>=2022.7 in c:\\users\\gzile\\appdata\\local\\packages\\pythonsoftwarefoundation.python.3.12_qbz5n2kfra8p0\\localcache\\local-packages\\python312\\site-packages (from pandas) (2024.2)\n",
                        "Requirement already satisfied: six>=1.5 in c:\\users\\gzile\\appdata\\local\\packages\\pythonsoftwarefoundation.python.3.12_qbz5n2kfra8p0\\localcache\\local-packages\\python312\\site-packages (from python-dateutil>=2.8.2->pandas) (1.16.0)\n"
                    ]
                }
            ],
            "source": [
                "## 1. Installazione delle librerie necessarie\n",
                "pip install --upgrade pip\n",
                "pip install pandas"
            ]
        },
        {
            "cell_type": "code",
            "execution_count": 16,
            "metadata": {},
            "outputs": [],
            "source": [
                "# Importazione delle librerie necessarie\n",
                "import csv\n",
                "import pandas as pd"
            ]
        },
        {
            "cell_type": "markdown",
            "metadata": {},
            "source": [
                "## Caratteristiche della libreria [Pandas](https://pandas.pydata.org/)\n",
                "\n",
                "Pandas è una libreria open-source per il linguaggio di programmazione Python, ampiamente utilizzata per la manipolazione e l'analisi dei dati:\n",
                "\n",
                "1. **Strutture Dati Potenti**: Pandas fornisce due strutture dati principali: `Series` (per dati unidimensionali) e `DataFrame` (per dati bidimensionali), che sono altamente efficienti e facili da usare.\n",
                "2. **Manipolazione dei Dati**: Pandas permette di eseguire operazioni di manipolazione dei dati come selezione, filtraggio, raggruppamento, fusione e aggregazione in modo semplice e intuitivo.\n",
                "3. **Gestione dei Dati Mancanti**: Pandas offre strumenti per gestire i dati mancanti, come la rimozione o la sostituzione di valori nulli.\n",
                "4. **Operazioni su Indici**: Pandas supporta operazioni avanzate sugli indici, come la reindicizzazione, l'impostazione e il reset degli indici.\n",
                "5. **Input/Output**: Pandas supporta la lettura e la scrittura di dati da e verso vari formati di file, tra cui CSV, Excel, SQL, JSON e molti altri.\n",
                "6. **Integrazione con Altre Librerie**: Pandas si integra bene con altre librerie scientifiche e di analisi dei dati in Python, come NumPy, SciPy, Matplotlib e scikit-learn.\n",
                "7. **Prestazioni**: Pandas è ottimizzato per le prestazioni e può gestire grandi quantità di dati in modo efficiente.\n",
                "Queste caratteristiche rendono Pandas uno strumento essenziale per chiunque lavori con i dati in Python."
            ]
        },
        {
            "cell_type": "markdown",
            "metadata": {},
            "source": [
                "## 1. Lettura di un file CSV utilizzando il modulo `csv`"
            ]
        },
        {
            "cell_type": "code",
            "execution_count": 17,
            "metadata": {},
            "outputs": [
                {
                    "name": "stdout",
                    "output_type": "stream",
                    "text": [
                        "['Nome', 'Età', 'Città']\n",
                        "['Alice', '25', 'Roma']\n",
                        "['Bob', '30', 'Milano']\n",
                        "['Charlie', '22', 'Napoli']\n"
                    ]
                }
            ],
            "source": [
                "# Creazione di un file CSV di esempio\n",
                "with open('esempio.csv', mode='w', newline='', encoding='utf-8') as file:\n",
                "    writer = csv.writer(file)\n",
                "    writer.writerow([\"Nome\", \"Età\", \"Città\"])\n",
                "    writer.writerow([\"Alice\", 25, \"Roma\"])\n",
                "    writer.writerow([\"Bob\", 30, \"Milano\"])\n",
                "    writer.writerow([\"Charlie\", 22, \"Napoli\"])\n",
                "\n",
                "# Lettura del file CSV con il modulo `csv`\n",
                "with open('esempio.csv', mode='r', encoding='utf-8') as file:\n",
                "    reader = csv.reader(file)\n",
                "    for row in reader:\n",
                "        print(row)"
            ]
        },
        {
            "cell_type": "markdown",
            "metadata": {},
            "source": [
                "## 2. Scrittura di un file CSV utilizzando il modulo `csv`"
            ]
        },
        {
            "cell_type": "code",
            "execution_count": 18,
            "metadata": {},
            "outputs": [],
            "source": [
                "# Scrittura di un nuovo file CSV\n",
                "with open('nuovo_esempio.csv', mode='w', newline='', encoding='utf-8') as file:\n",
                "    writer = csv.writer(file)\n",
                "    writer.writerow([\"ID\", \"Prodotto\", \"Prezzo\"])\n",
                "    writer.writerow([1, \"Laptop\", 1200])\n",
                "    writer.writerow([2, \"Smartphone\", 800])\n",
                "    writer.writerow([3, \"Tablet\", 300])"
            ]
        },
        {
            "cell_type": "markdown",
            "metadata": {},
            "source": [
                "## 3. Lettura di un file CSV utilizzando Pandas"
            ]
        },
        {
            "cell_type": "code",
            "execution_count": 19,
            "metadata": {},
            "outputs": [
                {
                    "name": "stdout",
                    "output_type": "stream",
                    "text": [
                        "      Nome  Età   Città\n",
                        "0    Alice   25    Roma\n",
                        "1      Bob   30  Milano\n",
                        "2  Charlie   22  Napoli\n",
                        "   ID    Prodotto  Prezzo\n",
                        "0   1      Laptop    1200\n",
                        "1   2  Smartphone     800\n",
                        "2   3      Tablet     300\n"
                    ]
                }
            ],
            "source": [
                "df = pd.read_csv('esempio.csv')\n",
                "print(df)\n",
                "\n",
                "df2 = pd.read_csv('nuovo_esempio.csv')\n",
                "print(df2)"
            ]
        },
        {
            "cell_type": "markdown",
            "metadata": {},
            "source": [
                "## 4. Scrittura di un DataFrame Pandas in un file CSV"
            ]
        },
        {
            "cell_type": "code",
            "execution_count": 20,
            "metadata": {},
            "outputs": [],
            "source": [
                "dati = {\n",
                "    \"Nome\": [\"David\", \"Emma\", \"Francesco\"],\n",
                "    \"Età\": [28, 32, 25],\n",
                "    \"Città\": [\"Torino\", \"Genova\", \"Bologna\"]\n",
                "}\n",
                "\n",
                "df_nuovo = pd.DataFrame(dati)\n",
                "\n",
                "df_nuovo.to_csv('output.csv', index=False)"
            ]
        },
        {
            "cell_type": "markdown",
            "metadata": {},
            "source": [
                "## 5. Aggiunta di dati a un file CSV esistente"
            ]
        },
        {
            "cell_type": "code",
            "execution_count": 21,
            "metadata": {},
            "outputs": [],
            "source": [
                "with open('output.csv', mode='a', newline='', encoding='utf-8') as file:\n",
                "    writer = csv.writer(file)\n",
                "    writer.writerow([\"Giorgio\", 27, \"Firenze\"])"
            ]
        },
        {
            "cell_type": "markdown",
            "metadata": {},
            "source": [
                "## 6. Lettura selettiva di colonne da un file CSV con Pandas"
            ]
        },
        {
            "cell_type": "code",
            "execution_count": 22,
            "metadata": {},
            "outputs": [
                {
                    "name": "stdout",
                    "output_type": "stream",
                    "text": [
                        "        Nome    Città\n",
                        "0      David   Torino\n",
                        "1       Emma   Genova\n",
                        "2  Francesco  Bologna\n",
                        "3    Giorgio  Firenze\n"
                    ]
                }
            ],
            "source": [
                "df_lettura = pd.read_csv('output.csv', usecols=[\"Nome\", \"Città\"])\n",
                "print(df_lettura)"
            ]
        },
        {
            "cell_type": "markdown",
            "metadata": {},
            "source": [
                "## 7. Filtrare i dati in un DataFrame Pandas"
            ]
        },
        {
            "cell_type": "code",
            "execution_count": 23,
            "metadata": {},
            "outputs": [
                {
                    "name": "stdout",
                    "output_type": "stream",
                    "text": [
                        "    Nome  Età   Città\n",
                        "0  David   28  Torino\n",
                        "1   Emma   32  Genova\n"
                    ]
                }
            ],
            "source": [
                "# Filtrare persone con età superiore a 25 anni\n",
                "df_filtrato = df_nuovo[df_nuovo['Età'] > 25]\n",
                "print(df_filtrato)"
            ]
        },
        {
            "cell_type": "markdown",
            "metadata": {},
            "source": [
                "## 8. Modifica di un file CSV esistente"
            ]
        },
        {
            "cell_type": "code",
            "execution_count": 24,
            "metadata": {},
            "outputs": [],
            "source": [
                "df_modificato = pd.read_csv('output.csv')\n",
                "df_modificato.loc[df_modificato['Nome'] == 'David', 'Età'] = 29\n",
                "df_modificato.to_csv('output_modificato.csv', index=False)"
            ]
        },
        {
            "cell_type": "markdown",
            "metadata": {},
            "source": [
                "## 9. Lettura di un file CSV direttamente da un URL con Pandas\n",
                "\n",
                "Pandas permette di leggere file CSV direttamente da un URL utilizzando la funzione `pd.read_csv()`. Questo è particolarmente utile quando i dati sono ospitati online e non si desidera scaricarli manualmente. Ecco un esempio di come leggere un file CSV da un URL:"
            ]
        },
        {
            "cell_type": "code",
            "execution_count": 27,
            "metadata": {},
            "outputs": [
                {
                    "name": "stdout",
                    "output_type": "stream",
                    "text": [
                        "  Month   \"1958\"   \"1959\"   \"1960\"\n",
                        "0   JAN      340      360      417\n",
                        "1   FEB      318      342      391\n",
                        "2   MAR      362      406      419\n",
                        "3   APR      348      396      461\n",
                        "4   MAY      363      420      472\n"
                    ]
                }
            ],
            "source": [
                "url = 'https://people.sc.fsu.edu/~jburkardt/data/csv/airtravel.csv'\n",
                "df_url = pd.read_csv(url)\n",
                "print(df_url.head())"
            ]
        },
        {
            "cell_type": "markdown",
            "metadata": {},
            "source": [
                "In questo esempio, il file CSV contenente i dati di viaggio aereo viene letto direttamente dall'URL e caricato in un DataFrame Pandas. La funzione `head()` viene utilizzata per visualizzare le prime righe del DataFrame."
            ]
        }
    ],
    "metadata": {
        "kernelspec": {
            "display_name": ".venv",
            "language": "python",
            "name": "python3"
        },
        "language_info": {
            "codemirror_mode": {
                "name": "ipython",
                "version": 3
            },
            "file_extension": ".py",
            "mimetype": "text/x-python",
            "name": "python",
            "nbconvert_exporter": "python",
            "pygments_lexer": "ipython3",
            "version": "3.12.9"
        }
    },
    "nbformat": 4,
    "nbformat_minor": 4
}
