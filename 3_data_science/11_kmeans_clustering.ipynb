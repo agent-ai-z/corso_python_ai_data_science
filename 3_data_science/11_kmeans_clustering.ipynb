{
 "cells": [
  {
   "cell_type": "markdown",
   "metadata": {},
   "source": [
    "# Clustering K-Means nel Machine Learning\n",
    "\n",
    "Questo notebook esplora il clustering K-Means, includendo la teoria, le formule matematiche e implementazioni in Python."
   ]
  },
  {
   "cell_type": "code",
   "execution_count": 1,
   "metadata": {},
   "outputs": [],
   "source": [
    "# Importazione delle librerie necessarie\n",
    "import numpy as np\n",
    "import matplotlib.pyplot as plt\n",
    "from sklearn.cluster import KMeans\n",
    "from sklearn.datasets import make_blobs\n",
    "from sklearn.preprocessing import StandardScaler"
   ]
  },
  {
   "cell_type": "markdown",
   "metadata": {},
   "source": [
    "## Teoria del K-Means\n",
    "\n",
    "Il clustering K-Means è un algoritmo iterativo che assegna n punti a k cluster basati sulla minimizzazione della varianza intra-cluster.\n",
    "\n",
    "### Formula matematica\n",
    "Dato un insieme di punti $ X = \\{x_1, x_2, ..., x_n\\} $, l'algoritmo cerca di minimizzare la somma delle distanze quadratiche dai centroidi:\n",
    "\n",
    "$$\n",
    "J = \\sum_{i=1}^{k} \\sum_{x \\in C_i} \\| x - \\mu_i \\|^2\n",
    "$$\n",
    "\n",
    "dove:\n",
    "- $ C_i $ è il cluster i-esimo\n",
    "- $ \\mu_i $ è il centroide del cluster $ C_i $\n",
    "\n",
    "L'algoritmo segue questi passi:\n",
    "1. Selezionare casualmente k centroidi iniziali.\n",
    "2. Assegnare ciascun punto al cluster il cui centroide è il più vicino.\n",
    "3. Ricalcolare i centroidi come la media dei punti assegnati.\n",
    "4. Ripetere i passi 2 e 3 fino alla convergenza."
   ]
  },
  {
   "cell_type": "code",
   "execution_count": null,
   "metadata": {},
   "outputs": [],
   "source": [
    "# Generazione di dati sintetici\n",
    "np.random.seed(42)\n",
    "X, _ = make_blobs(n_samples=300, centers=4, cluster_std=1.0, random_state=42)\n",
    "X = StandardScaler().fit_transform(X)\n",
    "\n",
    "# Visualizzazione dei dati grezzi\n",
    "plt.scatter(X[:, 0], X[:, 1], s=50, alpha=0.6)\n",
    "plt.title(\"Dati non etichettati\")\n",
    "plt.show()"
   ]
  },
  {
   "cell_type": "markdown",
   "metadata": {},
   "source": [
    "## Implementazione di K-Means in Python\n",
    "\n",
    "Utilizziamo `sklearn.cluster.KMeans` per applicare l'algoritmo ai dati generati."
   ]
  },
  {
   "cell_type": "code",
   "execution_count": null,
   "metadata": {},
   "outputs": [],
   "source": [
    "# Applicazione dell'algoritmo K-Means\n",
    "k = 4  # Numero di cluster\n",
    "kmeans = KMeans(n_clusters=k, random_state=42, n_init=10)\n",
    "kmeans.fit(X)\n",
    "labels = kmeans.labels_\n",
    "centroids = kmeans.cluster_centers_\n",
    "\n",
    "# Visualizzazione dei cluster\n",
    "plt.scatter(X[:, 0], X[:, 1], c=labels, cmap='viridis', s=50, alpha=0.6)\n",
    "plt.scatter(centroids[:, 0], centroids[:, 1], c='red', marker='x', s=200, label='Centroidi')\n",
    "plt.title(\"Clustering con K-Means\")\n",
    "plt.legend()\n",
    "plt.show()"
   ]
  },
  {
   "cell_type": "markdown",
   "metadata": {},
   "source": [
    "## Selezione del Numero Ottimale di Cluster\n",
    "\n",
    "Utilizziamo il **Metodo del Gomito** per determinare il valore ottimale di k."
   ]
  },
  {
   "cell_type": "code",
   "execution_count": null,
   "metadata": {},
   "outputs": [],
   "source": [
    "inertia = []\n",
    "k_range = range(1, 10)\n",
    "for k in k_range:\n",
    "    kmeans = KMeans(n_clusters=k, random_state=42, n_init=10)\n",
    "    kmeans.fit(X)\n",
    "    inertia.append(kmeans.inertia_)\n",
    "\n",
    "# Visualizzazione del metodo del gomito\n",
    "plt.plot(k_range, inertia, marker='o')\n",
    "plt.xlabel(\"Numero di cluster (k)\")\n",
    "plt.ylabel(\"Inertia\")\n",
    "plt.title(\"Metodo del Gomito per la selezione di k\")\n",
    "plt.show()"
   ]
  },
  {
   "cell_type": "markdown",
   "metadata": {},
   "source": [
    "## Conclusione\n",
    "\n",
    "K-Means è un algoritmo potente per il clustering, ma è sensibile alla scelta di k e ai dati iniziali. Il metodo del gomito aiuta nella selezione del numero ottimale di cluster."
   ]
  }
 ],
 "metadata": {
  "kernelspec": {
   "display_name": ".venv",
   "language": "python",
   "name": "python3"
  },
  "language_info": {
   "codemirror_mode": {
    "name": "ipython",
    "version": 3
   },
   "file_extension": ".py",
   "mimetype": "text/x-python",
   "name": "python",
   "nbconvert_exporter": "python",
   "pygments_lexer": "ipython3",
   "version": "3.12.9"
  }
 },
 "nbformat": 4,
 "nbformat_minor": 4
}
