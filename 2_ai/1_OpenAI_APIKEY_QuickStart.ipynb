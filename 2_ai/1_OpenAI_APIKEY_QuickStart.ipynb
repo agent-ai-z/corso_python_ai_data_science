{
 "cells": [
  {
   "cell_type": "markdown",
   "id": "7a2d804f",
   "metadata": {},
   "source": [
    "# API di OpenAI\n",
    "Per maggiori informazioni, visita la documentazione ufficiale di OpenAI: [OpenAI Docs](https://platform.openai.com/docs/quickstart)"
   ]
  },
  {
   "cell_type": "markdown",
   "id": "e037b7cf",
   "metadata": {},
   "source": [
    "## 1. Installazione del Client OpenAI"
   ]
  },
  {
   "cell_type": "code",
   "execution_count": 1,
   "id": "0ace5e1b",
   "metadata": {
    "vscode": {
     "languageId": "shellscript"
    }
   },
   "outputs": [
    {
     "name": "stdout",
     "output_type": "stream",
     "text": [
      "Collecting openai\n",
      "  Downloading openai-1.61.1-py3-none-any.whl.metadata (27 kB)\n",
      "Collecting anyio<5,>=3.5.0 (from openai)\n",
      "  Using cached anyio-4.8.0-py3-none-any.whl.metadata (4.6 kB)\n",
      "Collecting distro<2,>=1.7.0 (from openai)\n",
      "  Using cached distro-1.9.0-py3-none-any.whl.metadata (6.8 kB)\n",
      "Collecting httpx<1,>=0.23.0 (from openai)\n",
      "  Using cached httpx-0.28.1-py3-none-any.whl.metadata (7.1 kB)\n",
      "Collecting jiter<1,>=0.4.0 (from openai)\n",
      "  Using cached jiter-0.8.2-cp312-cp312-win_amd64.whl.metadata (5.3 kB)\n",
      "Collecting pydantic<3,>=1.9.0 (from openai)\n",
      "  Downloading pydantic-2.10.6-py3-none-any.whl.metadata (30 kB)\n",
      "Requirement already satisfied: sniffio in c:\\users\\gzile\\pycharmprojects\\corso_python\\.venv\\lib\\site-packages (from openai) (1.3.1)\n",
      "Requirement already satisfied: tqdm>4 in c:\\users\\gzile\\pycharmprojects\\corso_python\\.venv\\lib\\site-packages (from openai) (4.67.1)\n",
      "Requirement already satisfied: typing-extensions<5,>=4.11 in c:\\users\\gzile\\pycharmprojects\\corso_python\\.venv\\lib\\site-packages (from openai) (4.12.2)\n",
      "Requirement already satisfied: idna>=2.8 in c:\\users\\gzile\\pycharmprojects\\corso_python\\.venv\\lib\\site-packages (from anyio<5,>=3.5.0->openai) (3.10)\n",
      "Requirement already satisfied: certifi in c:\\users\\gzile\\pycharmprojects\\corso_python\\.venv\\lib\\site-packages (from httpx<1,>=0.23.0->openai) (2025.1.31)\n",
      "Collecting httpcore==1.* (from httpx<1,>=0.23.0->openai)\n",
      "  Using cached httpcore-1.0.7-py3-none-any.whl.metadata (21 kB)\n",
      "Requirement already satisfied: h11<0.15,>=0.13 in c:\\users\\gzile\\pycharmprojects\\corso_python\\.venv\\lib\\site-packages (from httpcore==1.*->httpx<1,>=0.23.0->openai) (0.14.0)\n",
      "Collecting annotated-types>=0.6.0 (from pydantic<3,>=1.9.0->openai)\n",
      "  Downloading annotated_types-0.7.0-py3-none-any.whl.metadata (15 kB)\n",
      "Collecting pydantic-core==2.27.2 (from pydantic<3,>=1.9.0->openai)\n",
      "  Using cached pydantic_core-2.27.2-cp312-cp312-win_amd64.whl.metadata (6.7 kB)\n",
      "Requirement already satisfied: colorama in c:\\users\\gzile\\pycharmprojects\\corso_python\\.venv\\lib\\site-packages (from tqdm>4->openai) (0.4.6)\n",
      "Downloading openai-1.61.1-py3-none-any.whl (463 kB)\n",
      "Using cached anyio-4.8.0-py3-none-any.whl (96 kB)\n",
      "Using cached distro-1.9.0-py3-none-any.whl (20 kB)\n",
      "Using cached httpx-0.28.1-py3-none-any.whl (73 kB)\n",
      "Using cached httpcore-1.0.7-py3-none-any.whl (78 kB)\n",
      "Using cached jiter-0.8.2-cp312-cp312-win_amd64.whl (204 kB)\n",
      "Downloading pydantic-2.10.6-py3-none-any.whl (431 kB)\n",
      "Using cached pydantic_core-2.27.2-cp312-cp312-win_amd64.whl (2.0 MB)\n",
      "Downloading annotated_types-0.7.0-py3-none-any.whl (13 kB)\n",
      "Installing collected packages: pydantic-core, jiter, httpcore, distro, anyio, annotated-types, pydantic, httpx, openai\n",
      "Successfully installed annotated-types-0.7.0 anyio-4.8.0 distro-1.9.0 httpcore-1.0.7 httpx-0.28.1 jiter-0.8.2 openai-1.61.1 pydantic-2.10.6 pydantic-core-2.27.2\n"
     ]
    }
   ],
   "source": [
    "# installazione di openai\n",
    "!pip install openai"
   ]
  },
  {
   "cell_type": "markdown",
   "id": "0ba06800",
   "metadata": {},
   "source": [
    "## 2. Configurazione dell'API Key"
   ]
  },
  {
   "cell_type": "code",
   "execution_count": 1,
   "id": "989b25ed",
   "metadata": {},
   "outputs": [],
   "source": [
    "\n",
    "import openai\n",
    "\n",
    "OPENAI_MODEL = \"gpt-4o-mini\""
   ]
  },
  {
   "cell_type": "code",
   "execution_count": null,
   "id": "bc25cfdb",
   "metadata": {},
   "outputs": [],
   "source": [
    "openai.api_key = \"My Open Api Key\""
   ]
  },
  {
   "cell_type": "markdown",
   "id": "3727e0aa",
   "metadata": {},
   "source": [
    "### Alternativa: Usare una Variabile d'Ambiente"
   ]
  },
  {
   "cell_type": "code",
   "execution_count": null,
   "id": "99800aa6",
   "metadata": {},
   "outputs": [],
   "source": [
    "\n",
    "import os\n",
    "\n",
    "openai.api_key = os.getenv('OPENAI_API_KEY')  # Imposta la chiave come variabile d'ambiente per sicurezza"
   ]
  },
  {
   "cell_type": "markdown",
   "id": "db08110b",
   "metadata": {},
   "source": [
    "### Crea una risposta simile a quella umana a un prompt"
   ]
  },
  {
   "cell_type": "code",
   "execution_count": null,
   "id": "5538c5de",
   "metadata": {},
   "outputs": [
    {
     "name": "stdout",
     "output_type": "stream",
     "text": [
      "Il machine learning, o apprendimento automatico, è un sottoinsieme dell'intelligenza artificiale (IA) che si concentra sullo sviluppo di algoritmi e modelli che permettono ai computer di apprendere dai dati e di fare previsioni o prendere decisioni senza essere esplicitamente programmati per svolgere un compito specifico. \n",
      "\n",
      "In pratica, il machine learning utilizza grandi quantità di dati per \"addestrare\" un modello. Durante questo processo di addestramento, il modello identifica schemi, relazioni e tendenze nei dati, che può poi utilizzare per fare previsioni su dati nuovi e mai visti prima.\n",
      "\n",
      "Esistono diverse categorie di machine learning, tra cui:\n",
      "\n",
      "1. **Apprendimento supervisionato**: In questo approccio, il modello viene addestrato su un insieme di dati che include sia input (caratteristiche) che output (etichette o risultati). L'obiettivo è quello di imparare una funzione che, a partire dagli input, possa prevedere l'output corretto.\n",
      "\n",
      "2. **Apprendimento non supervisionato**: Qui, il modello lavora con dati non etichettati, cercando di scoprire strutture o schemi interessanti all'interno dei dati. Gli algoritmi possono ad esempio raggruppare i dati in cluster o ridurre la dimensionalità.\n",
      "\n",
      "3. **Apprendimento per rinforzo**: In questo caso, un agente apprende a prendere decisioni attraverso prove ed errori, ricevendo feedback sotto forma di ricompense o penalità a seconda delle azioni intraprese in un ambiente.\n",
      "\n",
      "Il machine learning è utilizzato in una vasta gamma di applicazioni, tra cui riconoscimento vocale, visione artificiale, trattamento del linguaggio naturale, raccomandazioni di prodotti, diagnostica medica e molto altro. La sua crescente diffusione è dovuta alla disponibilità di enormi quantità di dati e a potenze di calcolo sempre più elevate.\n"
     ]
    }
   ],
   "source": [
    "from openai import OpenAI\n",
    "\n",
    "client = OpenAI(api_key=os.getenv('OPENAI_API_KEY'))\n",
    "\n",
    "completion = client.chat.completions.create(\n",
    "    model=OPENAI_MODEL,\n",
    "    messages=[\n",
    "        {\n",
    "            \"role\": \"system\", \n",
    "            \"content\": \"You are a helpful assistant.\"\n",
    "        },\n",
    "        {\n",
    "            \"role\": \"user\",\n",
    "            \"content\": \"Cos'è il machine learning?\"\n",
    "        }\n",
    "    ]\n",
    ")\n",
    "\n",
    "print(completion.choices[0].message.content)"
   ]
  },
  {
   "cell_type": "markdown",
   "id": "2396c7f5",
   "metadata": {},
   "source": [
    "### Generazione di un immagine"
   ]
  },
  {
   "cell_type": "code",
   "execution_count": null,
   "id": "ab17eb63",
   "metadata": {},
   "outputs": [
    {
     "name": "stdout",
     "output_type": "stream",
     "text": [
      "PermissionDeniedError: Error code: 403 - {'error': {'code': 'model_not_found', 'message': 'Project proj_ueEdnPn5VDAz0IHqjKJjowsC does not have access to model dall-e-2.', 'param': None, 'type': 'invalid_request_error'}}\n",
      "Please check if your project has access to the required model.\n"
     ]
    }
   ],
   "source": [
    "import requests\n",
    "from openai import OpenAI, PermissionDeniedError\n",
    "\n",
    "try:\n",
    "    client = OpenAI(api_key=os.getenv('OPENAI_API_KEY'))\n",
    "    \n",
    "    response = client.images.generate(\n",
    "        prompt=\"A cute baby sea otter\",\n",
    "        n=2,\n",
    "        size=\"1024x1024\",\n",
    "    )\n",
    "\n",
    "    # Download the image\n",
    "    image_url = response.data[0].url\n",
    "    img_data = requests.get(image_url).content\n",
    "\n",
    "    # Save the image\n",
    "    with open('openai_img.png', 'wb') as handler:\n",
    "        handler.write(img_data)\n",
    "\n",
    "    print(\"Image downloaded and saved as openai_img.png\")\n",
    "\n",
    "except PermissionDeniedError as e:\n",
    "    print(f\"PermissionDeniedError: {e}\")\n",
    "    print(\"Please check if your project has access to the required model.\")"
   ]
  }
 ],
 "metadata": {
  "kernelspec": {
   "display_name": ".venv",
   "language": "python",
   "name": "python3"
  },
  "language_info": {
   "codemirror_mode": {
    "name": "ipython",
    "version": 3
   },
   "file_extension": ".py",
   "mimetype": "text/x-python",
   "name": "python",
   "nbconvert_exporter": "python",
   "pygments_lexer": "ipython3",
   "version": "3.12.9"
  }
 },
 "nbformat": 4,
 "nbformat_minor": 5
}
