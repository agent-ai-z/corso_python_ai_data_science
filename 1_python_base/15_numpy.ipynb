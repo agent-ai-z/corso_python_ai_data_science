{
    "cells": [
        {
            "cell_type": "markdown",
            "metadata": {},
            "source": [
                "# Introduzione a NumPy\n",
                "Python è un eccellente strumento per l’elaborazione di testi, ma talvolta non riesce a offrire prestazioni adeguate in campo numerico. \n",
                "NumPy (Numeric Python) è un’interfaccia su un’intera famiglia di funzioni, molto efficienti e parallelizzabili, che implementano operazioni numeriche ad alte prestazioni. \n",
                "Il modulo numpy offre una nuova struttura di dati Python, l’array, e tutto un insieme di funzioni specifiche per gli array, così come il supporto dei numeri casuali, dell’aggregazione dei dati, dell’algebra lineare, delle trasformate di Fourier e tante altre cose."
            ]
        },
        {
            "cell_type": "code",
            "execution_count": 1,
            "metadata": {
                "vscode": {
                    "languageId": "shellscript"
                }
            },
            "outputs": [
                {
                    "name": "stdout",
                    "output_type": "stream",
                    "text": [
                        "Requirement already satisfied: numpy in c:\\users\\gzile\\pycharmprojects\\corso_python\\.venv\\lib\\site-packages (2.2.2)\n"
                    ]
                }
            ],
            "source": [
                "# Installazione della libreria (se non è già installata)\n",
                "!pip install numpy"
            ]
        },
        {
            "cell_type": "markdown",
            "metadata": {},
            "source": [
                "## 1. Importazione di NumPy\n",
                "Per utilizzare NumPy, è necessario importarlo nel proprio script."
            ]
        },
        {
            "cell_type": "code",
            "execution_count": 3,
            "metadata": {},
            "outputs": [
                {
                    "name": "stdout",
                    "output_type": "stream",
                    "text": [
                        "NumPy importato con successo!\n"
                    ]
                }
            ],
            "source": [
                "import numpy as np\n",
                "print(\"NumPy importato con successo!\")"
            ]
        },
        {
            "cell_type": "markdown",
            "metadata": {},
            "source": [
                "## 2. Creazione di Array NumPy\n",
                "Gli array NumPy sono più efficienti delle liste Python tradizionali, in particolare nei casi di multidimensionalità. \n",
                "Tuttavia, a differenza delle liste, gli array sono omogenei: non consentono di impiegare elementi aventi tipi di dati differenti."
            ]
        },
        {
            "cell_type": "code",
            "execution_count": null,
            "metadata": {},
            "outputs": [
                {
                    "name": "stdout",
                    "output_type": "stream",
                    "text": [
                        "Array NumPy: [1.3 2.  3.  4.  5. ]\n"
                    ]
                }
            ],
            "source": [
                "# Creazione di un array NumPy da una lista Python\n",
                "arr = np.array([1, 2, 3, 4, 5])\n",
                "print(\"Array NumPy:\", arr)"
            ]
        },
        {
            "cell_type": "markdown",
            "metadata": {},
            "source": [
                "## 3. Tipi di Dati in NumPy\n",
                "NumPy supporta diversi tipi di dati per ottimizzare l'uso della memoria, come bool_, int64, uint64, float64 e U32 (per le stringhe Unicode). \n",
                "Quando numpy crea un array, non copia i dati dall’origine al nuovo array, crea solo un collegamento e questo per motivi di efficienza. Questo significa che, per default, un array numpy è un po’ come una vista sui dati sottostanti, non una loro copia. Se cambia l’oggetto contenente i dati sottostanti, cambiano anche i dati dell’array. Se il collegamento ai dati non fosse il comportamento desiderato (per esempio se i dati sono compatti e maneggevoli), basta passare al costruttore il parametro *copy=True."
            ]
        },
        {
            "cell_type": "code",
            "execution_count": 9,
            "metadata": {},
            "outputs": [
                {
                    "name": "stdout",
                    "output_type": "stream",
                    "text": [
                        "Array con tipo float: [1. 2. 3. 4.]\n"
                    ]
                }
            ],
            "source": [
                "# Specificare un tipo di dato per un array\n",
                "arr_float = np.array([1, 2, 3, 4], dtype=np.float32)\n",
                "print(\"Array con tipo float:\", arr_float)"
            ]
        },
        {
            "cell_type": "markdown",
            "metadata": {},
            "source": [
                "## 4. Creazione di Array Speciali\n",
                "NumPy fornisce metodi per creare array predefiniti."
            ]
        },
        {
            "cell_type": "code",
            "execution_count": 11,
            "metadata": {},
            "outputs": [
                {
                    "name": "stdout",
                    "output_type": "stream",
                    "text": [
                        "Array di zeri:\n",
                        " [[0. 0. 0.]\n",
                        " [0. 0. 0.]\n",
                        " [0. 0. 0.]]\n",
                        "Array di uni:\n",
                        " [[1. 1.]\n",
                        " [1. 1.]]\n",
                        "Matrice identità:\n",
                        " [[1. 0. 0.]\n",
                        " [0. 1. 0.]\n",
                        " [0. 0. 1.]]\n"
                    ]
                }
            ],
            "source": [
                "# Array di zeri\n",
                "zeros = np.zeros((3, 3))\n",
                "print(\"Array di zeri:\\n\", zeros)\n",
                "\n",
                "# Array di uni\n",
                "ones = np.ones((2, 2))\n",
                "print(\"Array di uni:\\n\", ones)\n",
                "\n",
                "# Array identità\n",
                "identity = np.eye(3)\n",
                "print(\"Matrice identità:\\n\", identity)"
            ]
        },
        {
            "cell_type": "markdown",
            "metadata": {},
            "source": [
                "## 5. Operazioni Matematiche con NumPy\n",
                "NumPy supporta operazioni matematiche vettorializzate."
            ]
        },
        {
            "cell_type": "code",
            "execution_count": 13,
            "metadata": {},
            "outputs": [
                {
                    "name": "stdout",
                    "output_type": "stream",
                    "text": [
                        "Somma: [5 7 9]\n",
                        "Moltiplicazione: [ 4 10 18]\n",
                        "Potenza: [1 4 9]\n"
                    ]
                }
            ],
            "source": [
                "arr1 = np.array([1, 2, 3])\n",
                "arr2 = np.array([4, 5, 6])\n",
                "\n",
                "# Somma\n",
                "print(\"Somma:\", arr1 + arr2)\n",
                "\n",
                "# Moltiplicazione elemento per elemento\n",
                "print(\"Moltiplicazione:\", arr1 * arr2)\n",
                "\n",
                "# Elevamento a potenza\n",
                "print(\"Potenza:\", arr1 ** 2)"
            ]
        },
        {
            "cell_type": "markdown",
            "metadata": {},
            "source": [
                "## 6. Indicizzazione e Slicing\n",
                "Gli array NumPy supportano operazioni di slicing avanzate.\n",
                "Gli array numpy supportano le stesse operazioni di indicizzazione [i] e slicing [i:j] delle liste Python. \n",
                "In più, implementano l’indicizzazione booleana: potete usare come indice un array di valori booleani, e il risultato della selezione sarà un array di quegli elementi dell’array di partenza per i quali l’indice booleano è True. \n",
                "Potete usare l’indicizzazione booleana sul lato destro (per una selezione) e sul lato sinistro (per un assegnamento)."
            ]
        },
        {
            "cell_type": "code",
            "execution_count": null,
            "metadata": {},
            "outputs": [
                {
                    "name": "stdout",
                    "output_type": "stream",
                    "text": [
                        "Elemento in posizione 1: 20\n",
                        "Primi tre elementi: [10 20 30]\n",
                        "Array modificato: [100 100 100  40  50]\n"
                    ]
                }
            ],
            "source": [
                "arr = np.array([10, 20, 30, 40, 50])\n",
                "\n",
                "# Accesso a un elemento\n",
                "print(\"Elemento in posizione 1:\", arr[1])\n",
                "\n",
                "# Slicing\n",
                "print(\"Primi tre elementi:\", arr[:3])\n",
                "\n",
                "# Modifica di un intervallo\n",
                "arr[:3] = 100\n",
                "print(\"Array modificato:\", arr)"
            ]
        },
        {
            "cell_type": "markdown",
            "metadata": {},
            "source": [
                "## 7. Algebra Lineare con NumPy\n",
                "NumPy include funzioni avanzate di algebra lineare."
            ]
        },
        {
            "cell_type": "code",
            "execution_count": 15,
            "metadata": {},
            "outputs": [
                {
                    "name": "stdout",
                    "output_type": "stream",
                    "text": [
                        "Prodotto matrice-matrice:\n",
                        " [[19 22]\n",
                        " [43 50]]\n",
                        "Determinante di A: -2.0000000000000004\n"
                    ]
                }
            ],
            "source": [
                "A = np.array([[1, 2], [3, 4]])\n",
                "B = np.array([[5, 6], [7, 8]])\n",
                "\n",
                "# Prodotto matrice-matrice\n",
                "prod = np.dot(A, B)\n",
                "print(\"Prodotto matrice-matrice:\\n\", prod)\n",
                "\n",
                "# Determinante\n",
                "det_A = np.linalg.det(A)\n",
                "print(\"Determinante di A:\", det_A)"
            ]
        },
        {
            "cell_type": "markdown",
            "metadata": {},
            "source": [
                "## Transposizione e alterazione\n",
                "La trasposizione di una matrice è un'operazione che inverte le righe e le colonne della matrice, mentre l'alterazione di un array NumPy può essere effettuata in vari modi, come la modifica di specifici elementi o l'uso di operazioni di slicing. "
            ]
        },
        {
            "cell_type": "code",
            "execution_count": 10,
            "metadata": {},
            "outputs": [
                {
                    "name": "stdout",
                    "output_type": "stream",
                    "text": [
                        "Trasposta di A:\n",
                        " [[1 3]\n",
                        " [2 4]]\n",
                        "Array reshaped:\n",
                        " [[100]\n",
                        " [100]\n",
                        " [100]\n",
                        " [ 40]\n",
                        " [ 50]]\n"
                    ]
                }
            ],
            "source": [
                "# Trasposizione di una matrice\n",
                "A_transpose = A.T\n",
                "print(\"Trasposta di A:\\n\", A_transpose)\n",
                "\n",
                "# Reshape di un array\n",
                "arr_reshaped = arr.reshape((5, 1))\n",
                "print(\"Array reshaped:\\n\", arr_reshaped)"
            ]
        },
        {
            "cell_type": "markdown",
            "metadata": {},
            "source": [
                "## Operazioni vettoriali\n",
                "Le operazioni vettoriali con NumPy permettono di eseguire calcoli efficienti su array multidimensionali. "
            ]
        },
        {
            "cell_type": "code",
            "execution_count": 11,
            "metadata": {},
            "outputs": [
                {
                    "name": "stdout",
                    "output_type": "stream",
                    "text": [
                        "Somma: [5 7 9]\n",
                        "Moltiplicazione: [ 4 10 18]\n",
                        "Potenza: [1 4 9]\n"
                    ]
                }
            ],
            "source": [
                "# Somma di due array\n",
                "somma = arr1 + arr2\n",
                "print(\"Somma:\", somma)\n",
                "\n",
                "# Moltiplicazione elemento per elemento\n",
                "moltiplicazione = arr1 * arr2\n",
                "print(\"Moltiplicazione:\", moltiplicazione)\n",
                "\n",
                "# Elevamento a potenza\n",
                "potenza = arr1 ** 2\n",
                "print(\"Potenza:\", potenza)"
            ]
        },
        {
            "cell_type": "markdown",
            "metadata": {},
            "source": [
                "Queste operazioni sono vettorializzate, il che significa che vengono eseguite in modo molto efficiente senza la necessità di scrivere esplicitamente cicli per iterare sugli elementi degli array."
            ]
        },
        {
            "cell_type": "markdown",
            "metadata": {},
            "source": [
                "## Le funzioni universali\n",
                "\n",
                "Le funzioni universali (ufunc) in NumPy rappresentano la controparte a funzione delle operazioni vettoriali. Queste funzioni permettono di applicare operazioni a tutti gli elementi di un array in una sola chiamata a funzione, rendendo il codice più efficiente e leggibile. NumPy offre un ampio numero di ufunc, suddivise in diverse categorie:\n",
                "\n",
                "### Aritmetiche\n",
                "- `add()`: somma degli elementi.\n",
                "- `multiply()`: moltiplicazione degli elementi.\n",
                "- `negative()`: negazione degli elementi.\n",
                "- `exp()`: esponenziale degli elementi.\n",
                "- `log()`: logaritmo naturale degli elementi.\n",
                "- `sqrt()`: radice quadrata degli elementi.\n",
                "\n",
                "### Trigonometriche\n",
                "- `sin()`: seno degli elementi.\n",
                "- `cos()`: coseno degli elementi.\n",
                "- `hypot()`: ipotenusa degli elementi.\n",
                "\n",
                "### Bit-a-bit\n",
                "- `bitwise_and()`: AND bit-a-bit degli elementi.\n",
                "- `left_shift()`: shift a sinistra degli elementi.\n",
                "\n",
                "### Relazionali e logiche\n",
                "- `less()`: confronto \"minore di\" tra gli elementi.\n",
                "- `logical_not()`: negazione logica degli elementi.\n",
                "- `equal()`: confronto di uguaglianza tra gli elementi.\n",
                "- `maximum()`: massimo tra gli elementi.\n",
                "- `minimum()`: minimo tra gli elementi.\n",
                "\n",
                "### Funzioni per numeri in virgola mobile\n",
                "- `isinf()`: verifica se gli elementi sono infiniti.\n",
                "- `isfinite()`: verifica se gli elementi sono finiti.\n",
                "- `floor()`: arrotondamento per difetto degli elementi.\n",
                "- `isnan()`: verifica se gli elementi sono NaN (Not a Number).\n",
                "\n",
                "Queste funzioni universali permettono di eseguire calcoli complessi in modo efficiente e con poche righe di codice, sfruttando appieno le potenzialità di NumPy."
            ]
        },
        {
            "cell_type": "code",
            "execution_count": 12,
            "metadata": {},
            "outputs": [
                {
                    "name": "stdout",
                    "output_type": "stream",
                    "text": [
                        "Somma con ufunc: [5 7 9]\n",
                        "Moltiplicazione con ufunc: [ 4 10 18]\n",
                        "Negazione con ufunc: [-1 -2 -3]\n",
                        "Esponenziale con ufunc: [ 2.71828183  7.3890561  20.08553692]\n",
                        "Logaritmo con ufunc: [0.        0.6931472 1.0986123 1.3862944]\n",
                        "Radice quadrata con ufunc: [1.        1.4142135 1.7320508 2.       ]\n",
                        "Seno con ufunc: [ 0.841471   0.9092974  0.14112   -0.7568025]\n",
                        "Coseno con ufunc: [ 0.5403023 -0.4161468 -0.9899925 -0.6536436]\n",
                        "Ipotenusa con ufunc: [4.12310563 5.38516481 6.70820393]\n",
                        "AND bit-a-bit con ufunc: [0 0 2]\n",
                        "Shift a sinistra con ufunc: [2 4 6]\n",
                        "Minore di con ufunc: [ True  True  True]\n",
                        "Negazione logica con ufunc: [False False False]\n",
                        "Uguaglianza con ufunc: [False False False]\n",
                        "Massimo con ufunc: [4 5 6]\n",
                        "Minimo con ufunc: [1 2 3]\n",
                        "Verifica infinito con ufunc: [False False False False]\n",
                        "Verifica finito con ufunc: [ True  True  True  True]\n",
                        "Arrotondamento per difetto con ufunc: [1. 2. 3. 4.]\n",
                        "Verifica NaN con ufunc: [False False False False]\n"
                    ]
                }
            ],
            "source": [
                "# Funzioni aritmetiche\n",
                "somma = np.add(arr1, arr2)\n",
                "print(\"Somma con ufunc:\", somma)\n",
                "\n",
                "moltiplicazione = np.multiply(arr1, arr2)\n",
                "print(\"Moltiplicazione con ufunc:\", moltiplicazione)\n",
                "\n",
                "negazione = np.negative(arr1)\n",
                "print(\"Negazione con ufunc:\", negazione)\n",
                "\n",
                "esponenziale = np.exp(arr1)\n",
                "print(\"Esponenziale con ufunc:\", esponenziale)\n",
                "\n",
                "logaritmo = np.log(arr_float)\n",
                "print(\"Logaritmo con ufunc:\", logaritmo)\n",
                "\n",
                "radice_quadrata = np.sqrt(arr_float)\n",
                "print(\"Radice quadrata con ufunc:\", radice_quadrata)\n",
                "\n",
                "# Funzioni trigonometriche\n",
                "seno = np.sin(arr_float)\n",
                "print(\"Seno con ufunc:\", seno)\n",
                "\n",
                "coseno = np.cos(arr_float)\n",
                "print(\"Coseno con ufunc:\", coseno)\n",
                "\n",
                "ipotenusa = np.hypot(arr1, arr2)\n",
                "print(\"Ipotenusa con ufunc:\", ipotenusa)\n",
                "\n",
                "# Funzioni bit-a-bit\n",
                "and_bitwise = np.bitwise_and(arr1, arr2)\n",
                "print(\"AND bit-a-bit con ufunc:\", and_bitwise)\n",
                "\n",
                "shift_sinistra = np.left_shift(arr1, 1)\n",
                "print(\"Shift a sinistra con ufunc:\", shift_sinistra)\n",
                "\n",
                "# Funzioni relazionali e logiche\n",
                "minore_di = np.less(arr1, arr2)\n",
                "print(\"Minore di con ufunc:\", minore_di)\n",
                "\n",
                "negazione_logica = np.logical_not(arr1)\n",
                "print(\"Negazione logica con ufunc:\", negazione_logica)\n",
                "\n",
                "uguaglianza = np.equal(arr1, arr2)\n",
                "print(\"Uguaglianza con ufunc:\", uguaglianza)\n",
                "\n",
                "massimo = np.maximum(arr1, arr2)\n",
                "print(\"Massimo con ufunc:\", massimo)\n",
                "\n",
                "minimo = np.minimum(arr1, arr2)\n",
                "print(\"Minimo con ufunc:\", minimo)\n",
                "\n",
                "# Funzioni per numeri in virgola mobile\n",
                "infinito = np.isinf(arr_float)\n",
                "print(\"Verifica infinito con ufunc:\", infinito)\n",
                "\n",
                "finito = np.isfinite(arr_float)\n",
                "print(\"Verifica finito con ufunc:\", finito)\n",
                "\n",
                "arrotondamento = np.floor(arr_float)\n",
                "print(\"Arrotondamento per difetto con ufunc:\", arrotondamento)\n",
                "\n",
                "nan = np.isnan(arr_float)\n",
                "print(\"Verifica NaN con ufunc:\", nan)"
            ]
        },
        {
            "cell_type": "markdown",
            "metadata": {},
            "source": [
                "## Funzioni Condizionali\n",
                "\n",
                "Le funzioni condizionali in NumPy permettono di eseguire operazioni basate su condizioni logiche. \n",
                "Alcune delle funzioni condizionali più comuni sono:\n",
                "\n",
                "- `where(c, a, b)`: Questa funzione è la versione NumPy dell'operatore ternario if-else. \n",
                "    Richiede un array booleano `c` e altri due array `a` e `b`, e restituisce un array `d` tale che `d[i] = a[i] if c[i] else b[i]`. \n",
                "    Tutti e tre gli array devono avere la stessa forma.\n",
                "- `any()`: Questa funzione restituisce `True` se almeno uno degli elementi di un array è `True`.\n",
                "- `all()`: Questa funzione restituisce `True` se tutti gli elementi di un array sono `True`.\n",
                "- `nonzero()`: Questa funzione restituisce gli indici di tutti gli elementi diversi da zero."
            ]
        },
        {
            "cell_type": "code",
            "execution_count": 16,
            "metadata": {},
            "outputs": [
                {
                    "name": "stdout",
                    "output_type": "stream",
                    "text": [
                        "Risultato di np.where: [4 5 3]\n",
                        "Risultato di np.any: True\n",
                        "Risultato di np.all: True\n",
                        "Risultato di np.nonzero: (array([0, 1, 2, 3, 4]),)\n"
                    ]
                }
            ],
            "source": [
                "# Esempio di np.where\n",
                "condizione = arr1 > 2\n",
                "risultato_where = np.where(condizione, arr1, arr2)\n",
                "print(\"Risultato di np.where:\", risultato_where)\n",
                "\n",
                "# Esempio di np.any\n",
                "risultato_any = np.any(arr1 > 2)\n",
                "print(\"Risultato di np.any:\", risultato_any)\n",
                "\n",
                "# Esempio di np.all\n",
                "risultato_all = np.all(arr1 > 0)\n",
                "print(\"Risultato di np.all:\", risultato_all)\n",
                "\n",
                "# Esempio di np.nonzero\n",
                "risultato_nonzero = np.nonzero(arr)\n",
                "print(\"Risultato di np.nonzero:\", risultato_nonzero)"
            ]
        },
        {
            "cell_type": "markdown",
            "metadata": {},
            "source": [
                "## Aggregazione e Ordinamento degli Array\n",
                "\n",
                "L'ordinamento e l'aggregazione dei dati sono elementi fondamentali nella scienza dei dati. Si parte con grandi quantità di dati e poi li si raffinano gradualmente ordinandoli, calcolandone la media, eseguendo accumulazioni e così via, fino a ottenere un insieme compatto, maneggevole e facilmente interpretabile. NumPy offre diverse funzioni per l'aggregazione e l'ordinamento degli array.\n",
                "\n",
                "### Funzioni di Aggregazione\n",
                "\n",
                "Le funzioni di aggregazione permettono di calcolare statistiche riassuntive su un array. Alcune delle funzioni di aggregazione più comuni in NumPy sono:\n",
                "\n",
                "- `mean()`: Calcola la media degli elementi di un array.\n",
                "- `sum()`: Calcola la somma degli elementi di un array.\n",
                "- `std()`: Calcola la deviazione standard degli elementi di un array.\n",
                "- `min()`: Restituisce il valore minimo di un array.\n",
                "- `max()`: Restituisce il valore massimo di un array."
            ]
        },
        {
            "cell_type": "code",
            "execution_count": 18,
            "metadata": {},
            "outputs": [
                {
                    "name": "stdout",
                    "output_type": "stream",
                    "text": [
                        "Media di arr1: 2.0\n",
                        "Somma di arr2: 15\n",
                        "Deviazione standard di arr_float: 1.118034\n",
                        "Valore minimo di arr: 40\n",
                        "Valore massimo di arr: 100\n"
                    ]
                }
            ],
            "source": [
                "# Calcolo della media degli elementi di arr1\n",
                "media_arr1 = np.mean(arr1)\n",
                "print(\"Media di arr1:\", media_arr1)\n",
                "\n",
                "# Calcolo della somma degli elementi di arr2\n",
                "somma_arr2 = np.sum(arr2)\n",
                "print(\"Somma di arr2:\", somma_arr2)\n",
                "\n",
                "# Calcolo della deviazione standard degli elementi di arr_float\n",
                "deviazione_standard_arr_float = np.std(arr_float)\n",
                "print(\"Deviazione standard di arr_float:\", deviazione_standard_arr_float)\n",
                "\n",
                "# Calcolo del valore minimo di arr\n",
                "minimo_arr = np.min(arr)\n",
                "print(\"Valore minimo di arr:\", minimo_arr)\n",
                "\n",
                "# Calcolo del valore massimo di arr\n",
                "massimo_arr = np.max(arr)\n",
                "print(\"Valore massimo di arr:\", massimo_arr)"
            ]
        },
        {
            "cell_type": "markdown",
            "metadata": {},
            "source": [
                "\n",
                "## Trattare gli array come insiemi\n",
                "In alcuni casi, l’ordine degli elementi di un array è meno importante della composizione dell’array: il fatto che un determinato elemento sia presente o meno nell’array o che tipi di elementi sono presenti nell’array. NumPy è anche in grado di trattare gli array come insiemi matematici.\n",
                "\n",
                "### Funzioni per trattare gli array come insiemi\n",
                "\n",
                "- `unique(x)`: Restituisce un array di tutti gli elementi univoci di `x`. È un ottimo sostituto del modulo `Counter`.\n",
                "- `intersect1d(x, y)`: Restituisce gli elementi comuni tra gli array `x` e `y`.\n",
                "- `union1d(x, y)`: Restituisce l'unione degli elementi degli array `x` e `y`.\n",
                "- `setdiff1d(x, y)`: Restituisce gli elementi di `x` che non sono in `y`.\n",
                "- `setxor1d(x, y)`: Restituisce gli elementi che sono in `x` o in `y` ma non in entrambi."
            ]
        },
        {
            "cell_type": "code",
            "execution_count": 19,
            "metadata": {},
            "outputs": [
                {
                    "name": "stdout",
                    "output_type": "stream",
                    "text": [
                        "Elementi univoci di arr3: [1 2 3 4 5]\n",
                        "Intersezione tra arr3 e arr4: [4 5]\n",
                        "Unione di arr3 e arr4: [1 2 3 4 5 6 7 8]\n",
                        "Elementi di arr3 che non sono in arr4: [1 2 3]\n",
                        "Elementi che sono in arr3 o in arr4 ma non in entrambi: [1 2 3 6 7 8]\n"
                    ]
                }
            ],
            "source": [
                "# Array di esempio\n",
                "arr3 = np.array([1, 2, 2, 3, 4, 4, 5])\n",
                "arr4 = np.array([4, 5, 6, 7, 8])\n",
                "\n",
                "# Elementi univoci\n",
                "unici = np.unique(arr3)\n",
                "print(\"Elementi univoci di arr3:\", unici)\n",
                "\n",
                "# Intersezione\n",
                "intersezione = np.intersect1d(arr3, arr4)\n",
                "print(\"Intersezione tra arr3 e arr4:\", intersezione)\n",
                "\n",
                "# Unione\n",
                "unione = np.union1d(arr3, arr4)\n",
                "print(\"Unione di arr3 e arr4:\", unione)\n",
                "\n",
                "# Differenza\n",
                "differenza = np.setdiff1d(arr3, arr4)\n",
                "print(\"Elementi di arr3 che non sono in arr4:\", differenza)\n",
                "\n",
                "# Differenza simmetrica\n",
                "differenza_simmetrica = np.setxor1d(arr3, arr4)\n",
                "print(\"Elementi che sono in arr3 o in arr4 ma non in entrambi:\", differenza_simmetrica)"
            ]
        },
        {
            "cell_type": "markdown",
            "metadata": {},
            "source": [
                "## Salvare gli array in un file\n",
                "numpy offre delle funzionalità per salvare gli array su file .npy (la funzione save(file, arr)) e poi per leggere gli array da tali tipi di file (la funzione load(file)). I file sono in un formato binario e solo numpy può gestirli."
            ]
        },
        {
            "cell_type": "code",
            "execution_count": null,
            "metadata": {},
            "outputs": [],
            "source": [
                "# Salvare un array su file\n",
                "np.save('array_salvato.npy', arr)\n",
                "\n",
                "# Caricare un array da file\n",
                "array_caricato = np.load('array_salvato.npy')\n",
                "print(\"Array caricato:\", array_caricato)"
            ]
        },
        {
            "cell_type": "markdown",
            "metadata": {},
            "source": [
                "## Generare un’onda sinusoidale di sintesi"
            ]
        },
        {
            "cell_type": "code",
            "execution_count": 18,
            "metadata": {},
            "outputs": [
                {
                    "name": "stdout",
                    "output_type": "stream",
                    "text": [
                        "Requirement already satisfied: matplotlib in c:\\users\\gzile\\pycharmprojects\\corso_python\\.venv\\lib\\site-packages (3.10.0)\n",
                        "Requirement already satisfied: contourpy>=1.0.1 in c:\\users\\gzile\\pycharmprojects\\corso_python\\.venv\\lib\\site-packages (from matplotlib) (1.3.1)\n",
                        "Requirement already satisfied: cycler>=0.10 in c:\\users\\gzile\\pycharmprojects\\corso_python\\.venv\\lib\\site-packages (from matplotlib) (0.12.1)\n",
                        "Requirement already satisfied: fonttools>=4.22.0 in c:\\users\\gzile\\pycharmprojects\\corso_python\\.venv\\lib\\site-packages (from matplotlib) (4.56.0)\n",
                        "Requirement already satisfied: kiwisolver>=1.3.1 in c:\\users\\gzile\\pycharmprojects\\corso_python\\.venv\\lib\\site-packages (from matplotlib) (1.4.8)\n",
                        "Requirement already satisfied: numpy>=1.23 in c:\\users\\gzile\\pycharmprojects\\corso_python\\.venv\\lib\\site-packages (from matplotlib) (2.2.2)\n",
                        "Requirement already satisfied: packaging>=20.0 in c:\\users\\gzile\\pycharmprojects\\corso_python\\.venv\\lib\\site-packages (from matplotlib) (24.2)\n",
                        "Requirement already satisfied: pillow>=8 in c:\\users\\gzile\\pycharmprojects\\corso_python\\.venv\\lib\\site-packages (from matplotlib) (11.1.0)\n",
                        "Requirement already satisfied: pyparsing>=2.3.1 in c:\\users\\gzile\\pycharmprojects\\corso_python\\.venv\\lib\\site-packages (from matplotlib) (3.2.1)\n",
                        "Requirement already satisfied: python-dateutil>=2.7 in c:\\users\\gzile\\pycharmprojects\\corso_python\\.venv\\lib\\site-packages (from matplotlib) (2.9.0.post0)\n",
                        "Requirement already satisfied: six>=1.5 in c:\\users\\gzile\\pycharmprojects\\corso_python\\.venv\\lib\\site-packages (from python-dateutil>=2.7->matplotlib) (1.17.0)\n",
                        "Note: you may need to restart the kernel to use updated packages.\n"
                    ]
                },
                {
                    "data": {
                        "image/png": "[encoded data removed]",
                        "text/plain": [
                            "<Figure size 640x480 with 1 Axes>"
                        ]
                    },
                    "metadata": {},
                    "output_type": "display_data"
                }
            ],
            "source": [
                "# Install matplotlib if not already installed\n",
                "%pip install matplotlib\n",
                "\n",
                "# Importa tutto il necessario\n",
                "import numpy as np\n",
                "import matplotlib.pyplot as plt\n",
                "import matplotlib\n",
                "\n",
                "# Le costanti definiscono le proprietà:\n",
                "# il segnale, il rumore e lo \"strumento\"\n",
                "SIG_AMPLITUDE = 10\n",
                "SIG_OFFSET = 2\n",
                "SIG_PERIOD = 100\n",
                "NOISE_AMPLITUDE = 3\n",
                "N_samples = 5 * SIG_PERIOD\n",
                "INSTRUMENT_RANGE = 9\n",
                "\n",
                "# Genera il segnale sintetico\n",
                "times = np.arange(N_samples)\n",
                "signal = SIG_AMPLITUDE * np.sin(2 * np.pi * times / SIG_PERIOD) + SIG_OFFSET\n",
                "noise = NOISE_AMPLITUDE * np.random.randn(N_samples)\n",
                "signal += noise\n",
                "\n",
                "# Traccia i risultati\n",
                "matplotlib.style.use(\"ggplot\")\n",
                "plt.plot(times, signal)\n",
                "plt.title(\"Synthetic sine wave signal\")\n",
                "plt.xlabel(\"Time\")\n",
                "plt.ylabel(\"Signal + noise\")\n",
                "plt.ylim(ymin = -SIG_AMPLITUDE, ymax = SIG_AMPLITUDE)\n",
                "\n",
                "# Salva il grafico\n",
                "plt.savefig(\"signal.pdf\")"
            ]
        },
        {
            "cell_type": "markdown",
            "metadata": {},
            "source": [
                "# Conclusione\n",
                "In questo notebook abbiamo esplorato:\n",
                "- La creazione e manipolazione degli array NumPy\n",
                "- Operazioni matematiche vettorializzate\n",
                "- Funzioni speciali come matrici di zeri e identità\n",
                "- Algebra lineare con NumPy\n",
                "NumPy è uno strumento potente e ottimizzato per il calcolo numerico in Python."
            ]
        }
    ],
    "metadata": {
        "kernelspec": {
            "display_name": ".venv",
            "language": "python",
            "name": "python3"
        },
        "language_info": {
            "codemirror_mode": {
                "name": "ipython",
                "version": 3
            },
            "file_extension": ".py",
            "mimetype": "text/x-python",
            "name": "python",
            "nbconvert_exporter": "python",
            "pygments_lexer": "ipython3",
            "version": "3.12.9"
        }
    },
    "nbformat": 4,
    "nbformat_minor": 4
}
